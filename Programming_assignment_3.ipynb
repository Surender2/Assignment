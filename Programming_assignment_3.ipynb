{
 "cells": [
  {
   "cell_type": "markdown",
   "id": "988a61ad",
   "metadata": {},
   "source": [
    "#### 1.Write a Python Program to Check if a Number is Positive, Negative or Zero?"
   ]
  },
  {
   "cell_type": "code",
   "execution_count": 1,
   "id": "3e04b8a1",
   "metadata": {},
   "outputs": [
    {
     "name": "stdout",
     "output_type": "stream",
     "text": [
      "Enter a Integer number : 10\n",
      "User input 10 is a Positive number\n"
     ]
    }
   ],
   "source": [
    "num = int(input(\"Enter a Integer number : \"))\n",
    "\n",
    "if num > 0:\n",
    "    print(f\"User input {num} is a Positive number\")\n",
    "elif num == 0:\n",
    "    print(f\"User input {num} is Zero\")\n",
    "else:\n",
    "    print(f\"User input {num} is a Negative number\")"
   ]
  },
  {
   "cell_type": "code",
   "execution_count": 2,
   "id": "a9656c4e",
   "metadata": {},
   "outputs": [
    {
     "name": "stdout",
     "output_type": "stream",
     "text": [
      "Enter a Integer number : 0\n",
      "User input 0 is Zero\n"
     ]
    }
   ],
   "source": [
    "num = int(input(\"Enter a Integer number : \"))\n",
    "\n",
    "if num > 0:\n",
    "    print(f\"User input {num} is a Positive number\")\n",
    "elif num == 0:\n",
    "    print(f\"User input {num} is Zero\")\n",
    "else:\n",
    "    print(f\"User input {num} is a Negative number\")"
   ]
  },
  {
   "cell_type": "code",
   "execution_count": 3,
   "id": "98dbf061",
   "metadata": {},
   "outputs": [
    {
     "name": "stdout",
     "output_type": "stream",
     "text": [
      "Enter a Integer number : -5\n",
      "User input -5 is a Negative number\n"
     ]
    }
   ],
   "source": [
    "num = int(input(\"Enter a Integer number : \"))\n",
    "\n",
    "if num > 0:\n",
    "    print(f\"User input {num} is a Positive number\")\n",
    "elif num == 0:\n",
    "    print(f\"User input {num} is Zero\")\n",
    "else:\n",
    "    print(f\"User input {num} is a Negative number\")"
   ]
  },
  {
   "cell_type": "markdown",
   "id": "44f09873",
   "metadata": {},
   "source": [
    "#### 2. Write a Python Program to Check if a Number is Odd or Even?"
   ]
  },
  {
   "cell_type": "code",
   "execution_count": 5,
   "id": "a3fa7d62",
   "metadata": {},
   "outputs": [
    {
     "name": "stdout",
     "output_type": "stream",
     "text": [
      "Enter a number : 24\n",
      "Given number 24 is a even number\n"
     ]
    }
   ],
   "source": [
    "num = int(input(\"Enter a number : \"))\n",
    "\n",
    "if num % 2 == 0:\n",
    "    print(f\"Given number {num} is a even number\")\n",
    "else:\n",
    "    print(f\"Given number {num} is a odd number\")"
   ]
  },
  {
   "cell_type": "code",
   "execution_count": 6,
   "id": "74f61547",
   "metadata": {},
   "outputs": [
    {
     "name": "stdout",
     "output_type": "stream",
     "text": [
      "Enter a number : 15\n",
      "Given number 15 is a odd number\n"
     ]
    }
   ],
   "source": [
    "num = int(input(\"Enter a number : \"))\n",
    "\n",
    "if num % 2 == 0:\n",
    "    print(f\"Given number {num} is a even number\")\n",
    "else:\n",
    "    print(f\"Given number {num} is a odd number\")"
   ]
  },
  {
   "cell_type": "markdown",
   "id": "12090c03",
   "metadata": {},
   "source": [
    "#### 3.Write a Python Program to Check Leap Year?"
   ]
  },
  {
   "cell_type": "code",
   "execution_count": 15,
   "id": "63b1a7a2",
   "metadata": {},
   "outputs": [
    {
     "name": "stdout",
     "output_type": "stream",
     "text": [
      "Enter a year : 1900\n",
      "Given year 1900 is not a leap year\n"
     ]
    }
   ],
   "source": [
    "year = int(input(\"Enter a year : \"))\n",
    "\n",
    "if year % 4 == 0:\n",
    "    if year % 100 == 0:\n",
    "        if year % 400 == 0:\n",
    "            print(f\"Given year {year} is a leap year\")\n",
    "        else:\n",
    "            print(f\"Given year {year} is not a leap year\")\n",
    "    else:\n",
    "        print(f\"Given year {year} is a leap year\")\n",
    "else:\n",
    "    print(f\"Given year {year} is not a leap year\")\n"
   ]
  },
  {
   "cell_type": "code",
   "execution_count": 16,
   "id": "b41c91ef",
   "metadata": {},
   "outputs": [
    {
     "name": "stdout",
     "output_type": "stream",
     "text": [
      "Enter a year : 2000\n",
      "Given year 2000 is a leap year\n"
     ]
    }
   ],
   "source": [
    "year = int(input(\"Enter a year : \"))\n",
    "\n",
    "if year % 4 == 0:\n",
    "    if year % 100 == 0:\n",
    "        if year % 400 == 0:\n",
    "            print(f\"Given year {year} is a leap year\")\n",
    "        else:\n",
    "            print(f\"Given year {year} is not a leap year\")\n",
    "    else:\n",
    "        print(f\"Given year {year} is a leap year\")\n",
    "else:\n",
    "    print(f\"Given year {year} is not a leap year\")\n"
   ]
  },
  {
   "cell_type": "code",
   "execution_count": 17,
   "id": "91487934",
   "metadata": {},
   "outputs": [
    {
     "name": "stdout",
     "output_type": "stream",
     "text": [
      "Enter a year : 2004\n",
      "Given year 2004 is a leap year\n"
     ]
    }
   ],
   "source": [
    "#alternative way\n",
    "year_1 = int(input(\"Enter a year : \"))\n",
    "\n",
    "if (year_1 % 4 == 0 and year_1 % 100 != 0) or (year_1 % 400 == 0):\n",
    "    print(f\"Given year {year_1} is a leap year\")\n",
    "else:\n",
    "    print(f\"Given year {year_1} is not a leap year\")    "
   ]
  },
  {
   "cell_type": "markdown",
   "id": "05a003d7",
   "metadata": {},
   "source": [
    "#### 4.Write a Python Program to Check Prime Number?"
   ]
  },
  {
   "cell_type": "code",
   "execution_count": 26,
   "id": "eef9fb7d",
   "metadata": {},
   "outputs": [
    {
     "name": "stdout",
     "output_type": "stream",
     "text": [
      "Enter a number : 13\n",
      "The Given Number 13 is a prime number\n"
     ]
    }
   ],
   "source": [
    "#Using while loop\n",
    "num = int(input(\"Enter a number : \"))\n",
    "\n",
    "isDivisible = False\n",
    "i = 2\n",
    "\n",
    "while num > i:\n",
    "    if num % i == 0:\n",
    "        print(f\"The Given Number {num} is divisible by {i}\")\n",
    "        isDivisible = True\n",
    "        break\n",
    "    i += 1\n",
    "    \n",
    "if isDivisible != 0:\n",
    "    print(f\"The Given Number {num} is not a prime number\")\n",
    "else:\n",
    "    print(f\"The Given Number {num} is a prime number\")\n",
    "            "
   ]
  },
  {
   "cell_type": "code",
   "execution_count": 25,
   "id": "e9f43a7e",
   "metadata": {},
   "outputs": [
    {
     "name": "stdout",
     "output_type": "stream",
     "text": [
      "Enter a number : 13\n",
      "The Given Number 13 is a prime number\n"
     ]
    }
   ],
   "source": [
    "#Using for loop\n",
    "num = int(input(\"Enter a number : \"))\n",
    "\n",
    "isDivisible = False\n",
    "\n",
    "for i in range(2,num):\n",
    "    if num % i == 0:\n",
    "        print(f\"The Given Number {num} is divisible by {i}\")\n",
    "        isDivisible = True\n",
    "        break\n",
    "        \n",
    "if isDivisible != 0:\n",
    "    print(f\"The Given Number {num} is not a prime number\")\n",
    "else:\n",
    "    print(f\"The Given Number {num} is a prime number\")\n",
    "        "
   ]
  },
  {
   "cell_type": "code",
   "execution_count": 27,
   "id": "d17ff694",
   "metadata": {},
   "outputs": [
    {
     "name": "stdout",
     "output_type": "stream",
     "text": [
      "Enter a number : 12\n",
      "The Given Number 12 is divisible by 2\n",
      "The Given Number 12 is not a prime number\n"
     ]
    }
   ],
   "source": [
    "#Using for loop\n",
    "num = int(input(\"Enter a number : \"))\n",
    "\n",
    "isDivisible = False\n",
    "\n",
    "for i in range(2,num):\n",
    "    if num % i == 0:\n",
    "        print(f\"The Given Number {num} is divisible by {i}\")\n",
    "        isDivisible = True\n",
    "        break\n",
    "        \n",
    "if isDivisible != 0:\n",
    "    print(f\"The Given Number {num} is not a prime number\")\n",
    "else:\n",
    "    print(f\"The Given Number {num} is a prime number\")\n",
    "        "
   ]
  },
  {
   "cell_type": "markdown",
   "id": "dda60f54",
   "metadata": {},
   "source": [
    "#### 5. Write a Python Program to Print all Prime Numbers in an Interval of 1-10000?"
   ]
  },
  {
   "cell_type": "code",
   "execution_count": 41,
   "id": "8b8a2b70",
   "metadata": {},
   "outputs": [
    {
     "name": "stdout",
     "output_type": "stream",
     "text": [
      "Enter the First number : 1\n",
      "Enter the Second number : 1000\n",
      "All the Prime Numbers in an Interval of 1 - 1000 : \n",
      "2 3 5 7 11 13 17 19 23 29 31 37 41 43 47 53 59 61 67 71 73 79 83 89 97 101 103 107 109 113 127 131 137 139 149 151 157 163 167 173 179 181 191 193 197 199 211 223 227 229 233 239 241 251 257 263 269 271 277 281 283 293 307 311 313 317 331 337 347 349 353 359 367 373 379 383 389 397 401 409 419 421 431 433 439 443 449 457 461 463 467 479 487 491 499 503 509 521 523 541 547 557 563 569 571 577 587 593 599 601 607 613 617 619 631 641 643 647 653 659 661 673 677 683 691 701 709 719 727 733 739 743 751 757 761 769 773 787 797 809 811 821 823 827 829 839 853 857 859 863 877 881 883 887 907 911 919 929 937 941 947 953 967 971 977 983 991 997 "
     ]
    }
   ],
   "source": [
    "num1 = int(input(\"Enter the First number : \"))\n",
    "num2 = int(input(\"Enter the Second number : \"))\n",
    "\n",
    "print(\"All the Prime Numbers in an Interval of 1 - 1000 : \")\n",
    "\n",
    "for i in range(num1,num2+1):\n",
    "    if i > 1:\n",
    "        isDivisible = False\n",
    "        for j in range(2,i):\n",
    "            if i % j == 0:\n",
    "                isDivisible = True\n",
    "        if not isDivisible:\n",
    "            print(i,end = \" \")\n",
    "        "
   ]
  },
  {
   "cell_type": "code",
   "execution_count": null,
   "id": "60d800f9",
   "metadata": {},
   "outputs": [],
   "source": []
  },
  {
   "cell_type": "code",
   "execution_count": null,
   "id": "05f18894",
   "metadata": {},
   "outputs": [],
   "source": []
  },
  {
   "cell_type": "code",
   "execution_count": null,
   "id": "7123760d",
   "metadata": {},
   "outputs": [],
   "source": []
  },
  {
   "cell_type": "code",
   "execution_count": null,
   "id": "b5b24b25",
   "metadata": {},
   "outputs": [],
   "source": []
  },
  {
   "cell_type": "code",
   "execution_count": null,
   "id": "3311f8e5",
   "metadata": {},
   "outputs": [],
   "source": []
  },
  {
   "cell_type": "code",
   "execution_count": null,
   "id": "710fc8a4",
   "metadata": {},
   "outputs": [],
   "source": []
  }
 ],
 "metadata": {
  "kernelspec": {
   "display_name": "Python 3",
   "language": "python",
   "name": "python3"
  },
  "language_info": {
   "codemirror_mode": {
    "name": "ipython",
    "version": 3
   },
   "file_extension": ".py",
   "mimetype": "text/x-python",
   "name": "python",
   "nbconvert_exporter": "python",
   "pygments_lexer": "ipython3",
   "version": "3.8.8"
  }
 },
 "nbformat": 4,
 "nbformat_minor": 5
}
