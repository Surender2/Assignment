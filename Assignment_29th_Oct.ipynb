{
 "cells": [
  {
   "cell_type": "markdown",
   "id": "18d4cd76",
   "metadata": {},
   "source": [
    "#### 1. write a function which will try to find out len of a string without using an inbuilt len function "
   ]
  },
  {
   "cell_type": "code",
   "execution_count": 1,
   "id": "ec4b82d1",
   "metadata": {},
   "outputs": [],
   "source": [
    "txt = \"John Joseph\""
   ]
  },
  {
   "cell_type": "code",
   "execution_count": 2,
   "id": "0c02a5d8",
   "metadata": {},
   "outputs": [],
   "source": [
    "def count(l):\n",
    "    cnt = 0\n",
    "    for i in range(len(l)):\n",
    "        cnt += 1\n",
    "    return cnt"
   ]
  },
  {
   "cell_type": "code",
   "execution_count": 3,
   "id": "97ba4c3d",
   "metadata": {},
   "outputs": [
    {
     "data": {
      "text/plain": [
       "11"
      ]
     },
     "execution_count": 3,
     "metadata": {},
     "output_type": "execute_result"
    }
   ],
   "source": [
    "count(txt)"
   ]
  },
  {
   "cell_type": "code",
   "execution_count": 4,
   "id": "aed62f0b",
   "metadata": {},
   "outputs": [
    {
     "data": {
      "text/plain": [
       "11"
      ]
     },
     "execution_count": 4,
     "metadata": {},
     "output_type": "execute_result"
    }
   ],
   "source": [
    "len(txt)"
   ]
  },
  {
   "cell_type": "markdown",
   "id": "6fb845e6",
   "metadata": {},
   "source": [
    "#### 2. write a function which  will be able to print an index of list element without using an index function"
   ]
  },
  {
   "cell_type": "code",
   "execution_count": 6,
   "id": "750f2fe5",
   "metadata": {},
   "outputs": [],
   "source": [
    "lst = ['Rahul','Rohit','Virat','Surya','Hardik']"
   ]
  },
  {
   "cell_type": "code",
   "execution_count": 14,
   "id": "91e8f352",
   "metadata": {},
   "outputs": [],
   "source": [
    "def list_index(lst):\n",
    "    for i,j in enumerate((lst)):\n",
    "        print(f\"Index of {j} : {i}\")"
   ]
  },
  {
   "cell_type": "code",
   "execution_count": 15,
   "id": "67263599",
   "metadata": {},
   "outputs": [
    {
     "name": "stdout",
     "output_type": "stream",
     "text": [
      "Index of Rahul : 0\n",
      "Index of Rohit : 1\n",
      "Index of Virat : 2\n",
      "Index of Surya : 3\n",
      "Index of Hardik : 4\n"
     ]
    }
   ],
   "source": [
    "list_index(lst)"
   ]
  },
  {
   "cell_type": "code",
   "execution_count": 18,
   "id": "b3940268",
   "metadata": {},
   "outputs": [],
   "source": [
    "l = \"Delhi Capitals\""
   ]
  },
  {
   "cell_type": "code",
   "execution_count": 19,
   "id": "05a7765d",
   "metadata": {},
   "outputs": [
    {
     "name": "stdout",
     "output_type": "stream",
     "text": [
      "Index of D : 0\n",
      "Index of e : 1\n",
      "Index of l : 2\n",
      "Index of h : 3\n",
      "Index of i : 4\n",
      "Index of   : 5\n",
      "Index of C : 6\n",
      "Index of a : 7\n",
      "Index of p : 8\n",
      "Index of i : 9\n",
      "Index of t : 10\n",
      "Index of a : 11\n",
      "Index of l : 12\n",
      "Index of s : 13\n"
     ]
    }
   ],
   "source": [
    "list_index(l)"
   ]
  },
  {
   "cell_type": "markdown",
   "id": "fd6deb07",
   "metadata": {},
   "source": [
    "#### 3. write a function which will be able to print an ip address of your system"
   ]
  },
  {
   "cell_type": "code",
   "execution_count": 20,
   "id": "18a87750",
   "metadata": {},
   "outputs": [],
   "source": [
    "import socket"
   ]
  },
  {
   "cell_type": "code",
   "execution_count": 38,
   "id": "310da10b",
   "metadata": {},
   "outputs": [],
   "source": [
    "def IP_address():\n",
    "    hostname = socket.gethostname()\n",
    "    print(f\"The Hostname of my computer : {hostname}\")\n",
    "    print(f\"The IP Address of my computer : {socket.gethostbyname(hostname)}\")"
   ]
  },
  {
   "cell_type": "code",
   "execution_count": 39,
   "id": "b7dff86f",
   "metadata": {},
   "outputs": [
    {
     "name": "stdout",
     "output_type": "stream",
     "text": [
      "The Hostname of my computer : HP-2021\n",
      "The IP Address of my computer : 192.168.0.102\n"
     ]
    }
   ],
   "source": [
    "IP_address()"
   ]
  },
  {
   "cell_type": "markdown",
   "id": "a4bccef2",
   "metadata": {},
   "source": [
    "#### 4. write a function which will shutdown your system"
   ]
  },
  {
   "cell_type": "code",
   "execution_count": 40,
   "id": "6c3bebc4",
   "metadata": {},
   "outputs": [],
   "source": [
    "import os"
   ]
  },
  {
   "cell_type": "code",
   "execution_count": 41,
   "id": "bf7af0a1",
   "metadata": {},
   "outputs": [],
   "source": [
    "def shutdown():\n",
    "    return os.system(\"shutdown /s /t 1\")"
   ]
  },
  {
   "cell_type": "code",
   "execution_count": 1,
   "id": "50b7714e",
   "metadata": {},
   "outputs": [],
   "source": [
    "def restart():\n",
    "    return os.system(\"shutdown /r /t 1\")"
   ]
  },
  {
   "cell_type": "code",
   "execution_count": 2,
   "id": "bdc4761a",
   "metadata": {},
   "outputs": [],
   "source": [
    "def logout():\n",
    "    return os.system(\"shutdown -l\")"
   ]
  },
  {
   "cell_type": "markdown",
   "id": "ceaed973",
   "metadata": {},
   "source": [
    "#### 5. write a function which will take input as a list with any kind of numeric value and give an out as a multiplication of all the numeric data l = [3.5, 6.56, 4,5,\"sudh\" , \"ineuron\" , 'fsda bootcamp 2.0']"
   ]
  },
  {
   "cell_type": "code",
   "execution_count": 3,
   "id": "ea32275c",
   "metadata": {},
   "outputs": [],
   "source": [
    "l = [3.5, 6.56, 4,5,\"sudh\" , \"ineuron\" , 'fsda bootcamp 2.0']"
   ]
  },
  {
   "cell_type": "code",
   "execution_count": 16,
   "id": "439e05b2",
   "metadata": {},
   "outputs": [],
   "source": [
    "def mul_fac(lst):\n",
    "    mul = 1\n",
    "    l2 = []\n",
    "    for i in lst:\n",
    "        if type(i) == int or type(i) == float:\n",
    "            l2.append(i)\n",
    "    for i in l2:\n",
    "        mul *= i\n",
    "        \n",
    "    return round(mul,2)  "
   ]
  },
  {
   "cell_type": "code",
   "execution_count": 17,
   "id": "7cd13375",
   "metadata": {},
   "outputs": [
    {
     "data": {
      "text/plain": [
       "459.2"
      ]
     },
     "execution_count": 17,
     "metadata": {},
     "output_type": "execute_result"
    }
   ],
   "source": [
    "mul_fac(l)"
   ]
  },
  {
   "cell_type": "code",
   "execution_count": 20,
   "id": "9b51013d",
   "metadata": {},
   "outputs": [],
   "source": [
    "lst = ['Dinesh',10,5,5.6,4+5j,'1']"
   ]
  },
  {
   "cell_type": "code",
   "execution_count": 21,
   "id": "e93712e1",
   "metadata": {},
   "outputs": [
    {
     "data": {
      "text/plain": [
       "280.0"
      ]
     },
     "execution_count": 21,
     "metadata": {},
     "output_type": "execute_result"
    }
   ],
   "source": [
    "mul_fac(lst)"
   ]
  },
  {
   "cell_type": "markdown",
   "id": "55dc09d1",
   "metadata": {},
   "source": [
    "#### 6. write a function which will be able to read all the mails "
   ]
  },
  {
   "cell_type": "code",
   "execution_count": 23,
   "id": "3d6ee233",
   "metadata": {},
   "outputs": [],
   "source": [
    "import imaplib, email"
   ]
  },
  {
   "cell_type": "code",
   "execution_count": null,
   "id": "891d6898",
   "metadata": {},
   "outputs": [],
   "source": [
    "#I tried with my alternative gmail Id and password. No luck obtained bad credentials"
   ]
  },
  {
   "cell_type": "markdown",
   "id": "8f0af165",
   "metadata": {},
   "source": [
    "#### 7 . write a function which will be able to send a mail to anyone "
   ]
  },
  {
   "cell_type": "code",
   "execution_count": 40,
   "id": "f0a62274",
   "metadata": {},
   "outputs": [],
   "source": [
    "import smtplib"
   ]
  },
  {
   "cell_type": "code",
   "execution_count": 41,
   "id": "eda2a46f",
   "metadata": {},
   "outputs": [
    {
     "name": "stdout",
     "output_type": "stream",
     "text": [
      "Something went wrong…. (535, b'5.7.8 Username and Password not accepted. Learn more at\\n5.7.8  https://support.google.com/mail/?p=BadCredentials h7-20020a170902f70700b0016c50179b1esm2300302plo.152 - gsmtp')\n"
     ]
    }
   ],
   "source": [
    "#Referred from https://www.courier.com/blog/three-ways-to-send-emails-using-python-with-code-tutorials/\n",
    "import smtplib\n",
    "\n",
    "gmail_user = 'proxy@gmail.com' #I tried with my alternative gmail Id and password. No luck obtained bad credentials\n",
    "gmail_password = 'ProxyPassword'\n",
    "\n",
    "sent_from = gmail_user\n",
    "to = ['sks125521@gmail.com']\n",
    "subject = 'Live Class Assignment'\n",
    "body = 'I tried my best to complete this assigment within the time frame.'\n",
    "\n",
    "email_text = \"\"\"\\\n",
    "From: %s\n",
    "To: %s\n",
    "Subject: %s\n",
    "\n",
    "%s\n",
    "\"\"\" % (sent_from, \", \".join(to), subject, body)\n",
    "\n",
    "try:\n",
    "    smtp_server = smtplib.SMTP_SSL('smtp.gmail.com', 465)\n",
    "    smtp_server.ehlo()\n",
    "    smtp_server.login(gmail_user, gmail_password)\n",
    "    smtp_server.sendmail(sent_from, to, email_text)\n",
    "    smtp_server.close()\n",
    "    print (\"Email sent successfully!\")\n",
    "except Exception as ex:\n",
    "    print (\"Something went wrong….\",ex)"
   ]
  },
  {
   "cell_type": "markdown",
   "id": "78415b52",
   "metadata": {},
   "source": [
    "#### 8. write a function which will be able to read a doc/word file from your system "
   ]
  },
  {
   "cell_type": "code",
   "execution_count": 33,
   "id": "0b417ae6",
   "metadata": {},
   "outputs": [
    {
     "name": "stdout",
     "output_type": "stream",
     "text": [
      "Collecting docx2txtNote: you may need to restart the kernel to use updated packages.\n",
      "\n",
      "  Downloading docx2txt-0.8.tar.gz (2.8 kB)\n",
      "Building wheels for collected packages: docx2txt\n",
      "  Building wheel for docx2txt (setup.py): started\n",
      "  Building wheel for docx2txt (setup.py): finished with status 'done'\n",
      "  Created wheel for docx2txt: filename=docx2txt-0.8-py3-none-any.whl size=3966 sha256=ace71fe8f550d8496698b075b749953250095f96b3e8419b63e1336679624bd6\n",
      "  Stored in directory: c:\\users\\sks12\\appdata\\local\\pip\\cache\\wheels\\55\\f0\\2c\\81637d42670985178b77df6d41b9b6c6dc18c94818447414b9\n",
      "Successfully built docx2txt\n",
      "Installing collected packages: docx2txt\n",
      "Successfully installed docx2txt-0.8\n"
     ]
    }
   ],
   "source": [
    "pip install docx2txt"
   ]
  },
  {
   "cell_type": "code",
   "execution_count": 37,
   "id": "88453855",
   "metadata": {},
   "outputs": [
    {
     "name": "stdout",
     "output_type": "stream",
     "text": [
      "CODEBASICS\n",
      "\n",
      "In this video I will share 8 guidelines on how one can start as a beginner and become an expert in python programming.\n",
      "\n",
      " Here are those 8 tips to master python coding,\n",
      "\n",
      " 00:00 Overview \n",
      "\n",
      "00:18 Python coding skills \n",
      "\n",
      "04:32 Data structures and algorithms \n",
      "\n",
      "05:36 debugging skills \n",
      "\n",
      "06:27 using libraries wisely \n",
      "\n",
      "07:23 Coding best practices & PEP8 \n",
      "\n",
      "08:26 Open source contribution \n",
      "\n",
      "09:45 Master the art of asking for a help \n",
      "\n",
      "11:16 Projects, projects, projects \n",
      "\n",
      "Python tutorial playlist: \n",
      "\n",
      "https://www.youtube.com/playlist?list... \n",
      "\n",
      "Data structures in python playlist: https://www.youtube.com/playlist?list... \n",
      "\n",
      "Coding best practices: https://github.com/codebasics/py/blob... Debugging skills: https://www.youtube.com/playlist?list... \n",
      "\n",
      "Code organization: https://realpython.com/python-applica... \n",
      "\n",
      "How to get projects when you don't have a job: https://www.youtube.com/watch?v=9fqu2... \n",
      "\n",
      "1. Acquiring python coding skills \n",
      "\n",
      "1.1 Beginner\n",
      "\n",
      "1.2 Intermediate \n",
      "\n",
      "1.3 Advanced \n",
      "\n",
      "2. Data structures and algorithms \n",
      "\n",
      "1.1 Using right data structure at right time. For example in this problem I've a list of customers and I want to extract list of unique countries. I can do it using a list but if I use set it will be more efficient and appropriate because set guarantees uniqueness \n",
      "\n",
      "1.1 Data structures in python playlist: https://www.youtube.com/playlist?list... \n",
      "\n",
      "3. Debugging skills \n",
      "\n",
      "1.1 All expert programmers I've worked with are very good in debugging \n",
      "\n",
      "1.2 Sometimes people don't know what a conditional break point is a. I've a small playlist on debugging skills: https://www.youtube.com/playlist?list... \n",
      "\n",
      "4. Using libraries wisely \n",
      "\n",
      "1.1 Numpy - numeric computing library for matrices and multi dimensional arrays a. I've seen programmers using python list for heavy numeric computing just because they dont know about numpy 1.2 Pandas - for data cleaning and data analysis 1.3 Scipy - Scientific computing 5. Coding best practices, PEP8 convention 1.1 Refer to these guidelines for coding best practices such as. a. Compact code b. Optimize variable creation c. Avoid abbreviations as much as you can d. Code organization: https://realpython.com/python-applica... 6. Opensource contribution and participate in code reviews 1.1 Chance to interact with experts. You learn a lot from code reviews 1.2 Show sample PR discussion: https://github.com/pandas-dev/pandas/... 1.3 Also review others code. This way you can learn from the code author as well as other reviewers 7. Master the art of asking for a help 1.1 Google skills: You need to know how to ask right question 1.2 Protocol when you are asking for a help. Stack overflow. Show that you have tried first. 8. Projects, projects, projects 1.1 Start automating repetitive tasks with python 1.2 If you have a job then use these skills for projects at job 1.2 If you don't have a job a. NGOs, relatives grocery store or a doctor b. Video on how to get projects when you don't have a job: https://www.youtube.com/watch?v=9fqu2... Website: http://codebasicshub.com/ Facebook: https://www.facebook.com/codebasicshub Twitter: https://twitter.com/codebasicshub Patreon: https://www.patreon.com/codebasics DISCLAIMER: All opinions expressed in this video are of my own and not that of my employers'.\n"
     ]
    }
   ],
   "source": [
    "#referring from https://stackoverflow.com/questions/36001482/read-doc-file-with-python \n",
    "\n",
    "import docx2txt\n",
    "my_text = docx2txt.process(\"D:\\Student\\Daily notes\\CODEBASICS.docx\")\n",
    "print(my_text)"
   ]
  }
 ],
 "metadata": {
  "kernelspec": {
   "display_name": "Python 3",
   "language": "python",
   "name": "python3"
  },
  "language_info": {
   "codemirror_mode": {
    "name": "ipython",
    "version": 3
   },
   "file_extension": ".py",
   "mimetype": "text/x-python",
   "name": "python",
   "nbconvert_exporter": "python",
   "pygments_lexer": "ipython3",
   "version": "3.8.8"
  }
 },
 "nbformat": 4,
 "nbformat_minor": 5
}
