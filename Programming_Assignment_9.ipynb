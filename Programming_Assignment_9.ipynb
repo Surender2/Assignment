{
 "cells": [
  {
   "cell_type": "markdown",
   "id": "f5601cce",
   "metadata": {},
   "source": [
    "#### 1.Write a Python program to check if the given number is a Disarium Number?"
   ]
  },
  {
   "cell_type": "code",
   "execution_count": 3,
   "id": "54d42757",
   "metadata": {},
   "outputs": [
    {
     "data": {
      "text/plain": [
       "'Given Number 135 is a Disarium Number'"
      ]
     },
     "execution_count": 3,
     "metadata": {},
     "output_type": "execute_result"
    }
   ],
   "source": [
    "#Disarium number is sum of digits raised to power of its position\n",
    "\n",
    "import math  #importing the math inorder to find the power use\n",
    "\n",
    "def disarium(num):\n",
    "    \n",
    "    count = len(str(num))\n",
    "    sum_ = 0\n",
    "    x = num\n",
    "    \n",
    "    while(x != 0):\n",
    "        r = x % 10\n",
    "        sum_ = int(sum_ + math.pow(r,count))\n",
    "        count -= 1\n",
    "        x = x//10\n",
    "        \n",
    "    if sum_ == num:\n",
    "        return f\"Given Number {num} is a Disarium Number\"\n",
    "    else:\n",
    "        return f\"Given Number {num} is not a Disarium Number\"\n",
    "    \n",
    "disarium(135)"
   ]
  },
  {
   "cell_type": "markdown",
   "id": "949ad7bb",
   "metadata": {},
   "source": [
    "#### 2. Write a Python program to print all disarium numbers between 1 to 100?"
   ]
  },
  {
   "cell_type": "code",
   "execution_count": 17,
   "id": "1cd48c57",
   "metadata": {},
   "outputs": [],
   "source": [
    "import math"
   ]
  },
  {
   "cell_type": "code",
   "execution_count": 23,
   "id": "4d8c24ab",
   "metadata": {},
   "outputs": [
    {
     "name": "stdout",
     "output_type": "stream",
     "text": [
      "Disarium numbers between 1 and 100 :\n",
      "1 2 3 4 5 6 7 8 9 89 "
     ]
    }
   ],
   "source": [
    "def disarium1(num):\n",
    "    count = len(str(num))\n",
    "    sum_ = 0\n",
    "    x = num\n",
    "    \n",
    "    while(x != 0):\n",
    "        r = x % 10\n",
    "        sum_ = int(sum_ + math.pow(r,count))\n",
    "        count -= 1\n",
    "        x //= 10\n",
    "    return sum_\n",
    "        \n",
    "result = 0\n",
    "print(\"Disarium numbers between 1 and 100 :\")\n",
    "\n",
    "for i in range(1,101):\n",
    "    result = disarium1(i)\n",
    "    \n",
    "    if result == i:\n",
    "        print(i,end = \" \")"
   ]
  },
  {
   "cell_type": "markdown",
   "id": "715423fd",
   "metadata": {},
   "source": [
    "#### 3. Write a Python program to check if the given number is Happy Number?"
   ]
  },
  {
   "cell_type": "code",
   "execution_count": 5,
   "id": "25263a43",
   "metadata": {},
   "outputs": [
    {
     "name": "stdout",
     "output_type": "stream",
     "text": [
      "45 is not a Happy Number\n"
     ]
    }
   ],
   "source": [
    "def Happy(num):\n",
    "    sum_ = 0\n",
    "    x = num\n",
    "    \n",
    "    while (x != 0):\n",
    "        r = x % 10\n",
    "        sum_ += r * r\n",
    "        x = x//10\n",
    "    return sum_\n",
    "\n",
    "num = 45\n",
    "result = num\n",
    "\n",
    "while (result != 1) and (result != 4):\n",
    "    result = Happy(result)\n",
    "    \n",
    "if result == 1:\n",
    "    print(f\"{num} is a Happy Number\")\n",
    "else:\n",
    "    print(f\"{num} is not a Happy Number\")"
   ]
  },
  {
   "cell_type": "markdown",
   "id": "8a584e44",
   "metadata": {},
   "source": [
    "#### 4.Write a Python program to print all happy numbers between 1 and 100?"
   ]
  },
  {
   "cell_type": "code",
   "execution_count": 6,
   "id": "461790b1",
   "metadata": {},
   "outputs": [
    {
     "name": "stdout",
     "output_type": "stream",
     "text": [
      "List of happy numbers between 1 and 100: \n",
      "1 7 10 13 19 23 28 31 32 44 49 68 70 79 82 86 91 94 97 100 "
     ]
    }
   ],
   "source": [
    "def Happy1(num):\n",
    "    sum_ = 0\n",
    "    x = num\n",
    "    \n",
    "    while (x != 0):\n",
    "        r = x % 10\n",
    "        sum_ += r * r\n",
    "        x = x//10\n",
    "    return sum_\n",
    "\n",
    "print(\"List of happy numbers between 1 and 100: \")\n",
    "  \n",
    "for i in range(1,101):\n",
    "    result = i\n",
    "    \n",
    "    while (result != 1) and (result != 4):\n",
    "        result = Happy1(result)\n",
    "    \n",
    "    if result == 1:\n",
    "        print(i,end =\" \")"
   ]
  },
  {
   "cell_type": "markdown",
   "id": "5e41a72c",
   "metadata": {},
   "source": [
    "#### 5. Write a Python program to determine whether the given number is a Harshad Number?"
   ]
  },
  {
   "cell_type": "code",
   "execution_count": 10,
   "id": "2e1a7d72",
   "metadata": {},
   "outputs": [
    {
     "name": "stdout",
     "output_type": "stream",
     "text": [
      "11 is not a Harshad Number\n"
     ]
    }
   ],
   "source": [
    "#if given number is divisble by sum of its digits\n",
    "def Harshad(num):\n",
    "    r = sum_ = 0\n",
    "    x = num\n",
    "    \n",
    "    while (x != 0):\n",
    "        r = x % 10\n",
    "        sum_ += r\n",
    "        x = x//10\n",
    "        \n",
    "    if num % sum_ == 0:\n",
    "        print(f\"{num} is a Harshad Number\")\n",
    "    else:\n",
    "        print(f\"{num} is not a Harshad Number\")\n",
    "\n",
    "Harshad(11)"
   ]
  },
  {
   "cell_type": "markdown",
   "id": "d98fcc75",
   "metadata": {},
   "source": [
    "#### 6. Write a Python program to print all pronic numbers between 1 and 100?"
   ]
  },
  {
   "cell_type": "code",
   "execution_count": 12,
   "id": "e762385e",
   "metadata": {},
   "outputs": [
    {
     "name": "stdout",
     "output_type": "stream",
     "text": [
      "List of all pronic numbers from 1 to 100:\n",
      "2 6 12 20 30 42 56 72 90 "
     ]
    }
   ],
   "source": [
    "def is_pronic_num(num):\n",
    "    flag = False\n",
    "    \n",
    "    for i in range(1,num+1):\n",
    "        if (i*(i+1) == num):\n",
    "            flag = True\n",
    "            break\n",
    "    return flag\n",
    "\n",
    "print(\"List of all pronic numbers from 1 to 100:\")\n",
    "\n",
    "for i in range(1,101):\n",
    "    if is_pronic_num(i):\n",
    "        print(i,end = \" \")"
   ]
  }
 ],
 "metadata": {
  "kernelspec": {
   "display_name": "Python 3",
   "language": "python",
   "name": "python3"
  },
  "language_info": {
   "codemirror_mode": {
    "name": "ipython",
    "version": 3
   },
   "file_extension": ".py",
   "mimetype": "text/x-python",
   "name": "python",
   "nbconvert_exporter": "python",
   "pygments_lexer": "ipython3",
   "version": "3.8.8"
  }
 },
 "nbformat": 4,
 "nbformat_minor": 5
}
