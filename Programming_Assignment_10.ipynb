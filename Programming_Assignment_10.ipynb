{
 "cells": [
  {
   "cell_type": "markdown",
   "id": "2ec68566",
   "metadata": {},
   "source": [
    "#### 1.Write a Python program to find sum of elements in list?"
   ]
  },
  {
   "cell_type": "code",
   "execution_count": 1,
   "id": "e3c472f2",
   "metadata": {},
   "outputs": [],
   "source": [
    "#Using for loop\n",
    "def sum_f_list(lst):\n",
    "    total = 0\n",
    "    for i in range(0,len(lst)):\n",
    "        total += lst[i]\n",
    "    return total"
   ]
  },
  {
   "cell_type": "code",
   "execution_count": 2,
   "id": "a449db65",
   "metadata": {},
   "outputs": [
    {
     "data": {
      "text/plain": [
       "15"
      ]
     },
     "execution_count": 2,
     "metadata": {},
     "output_type": "execute_result"
    }
   ],
   "source": [
    "lst = [1,2,3,4,5]\n",
    "sum_f_list(lst)"
   ]
  },
  {
   "cell_type": "code",
   "execution_count": 3,
   "id": "c631d56d",
   "metadata": {},
   "outputs": [],
   "source": [
    "#using enumerate function\n",
    "def sum_of_lst(lst):\n",
    "    result = 0\n",
    "    for i,a in enumerate(lst):\n",
    "        result += a\n",
    "    return result"
   ]
  },
  {
   "cell_type": "code",
   "execution_count": 4,
   "id": "65699e85",
   "metadata": {},
   "outputs": [
    {
     "data": {
      "text/plain": [
       "15"
      ]
     },
     "execution_count": 4,
     "metadata": {},
     "output_type": "execute_result"
    }
   ],
   "source": [
    "sum_of_lst(lst)"
   ]
  },
  {
   "cell_type": "markdown",
   "id": "7bd31b3d",
   "metadata": {},
   "source": [
    "#### 2.Write a Python program to Multiply all numbers in the list?"
   ]
  },
  {
   "cell_type": "code",
   "execution_count": 5,
   "id": "6848d0f9",
   "metadata": {},
   "outputs": [],
   "source": [
    "def multiply(lst):\n",
    "    prod = 1\n",
    "    for i in range(0,len(lst)):\n",
    "        prod *= lst[i]\n",
    "    return prod"
   ]
  },
  {
   "cell_type": "code",
   "execution_count": 6,
   "id": "1bdab803",
   "metadata": {},
   "outputs": [
    {
     "data": {
      "text/plain": [
       "120"
      ]
     },
     "execution_count": 6,
     "metadata": {},
     "output_type": "execute_result"
    }
   ],
   "source": [
    "multiply(lst)"
   ]
  },
  {
   "cell_type": "markdown",
   "id": "c1f14474",
   "metadata": {},
   "source": [
    "#### 3.Write a Python program to find smallest number in a list?"
   ]
  },
  {
   "cell_type": "code",
   "execution_count": 8,
   "id": "44d08853",
   "metadata": {},
   "outputs": [],
   "source": [
    "def minimum(lst1):\n",
    "    least = lst1[0]\n",
    "    \n",
    "    for i in range(len(lst1)):\n",
    "        \n",
    "        if lst1[i] < least:\n",
    "            least = lst1[i]\n",
    "            \n",
    "    return least"
   ]
  },
  {
   "cell_type": "code",
   "execution_count": 9,
   "id": "52c9f652",
   "metadata": {},
   "outputs": [
    {
     "data": {
      "text/plain": [
       "1"
      ]
     },
     "execution_count": 9,
     "metadata": {},
     "output_type": "execute_result"
    }
   ],
   "source": [
    "lst1 = [10, 20, 1, 45, 99]\n",
    "minimum(lst1)"
   ]
  },
  {
   "cell_type": "markdown",
   "id": "f3f39d25",
   "metadata": {},
   "source": [
    "#### 4.Write a Python program to find largest number in a list?"
   ]
  },
  {
   "cell_type": "code",
   "execution_count": 10,
   "id": "23010bfa",
   "metadata": {},
   "outputs": [],
   "source": [
    "def maximum(lst1):\n",
    "    largest = lst1[0]\n",
    "    \n",
    "    for i in range(len(lst1)):\n",
    "        \n",
    "        if lst1[i] > largest:\n",
    "            largest = lst1[i]\n",
    "            \n",
    "    return largest"
   ]
  },
  {
   "cell_type": "code",
   "execution_count": 11,
   "id": "5441d1b8",
   "metadata": {},
   "outputs": [
    {
     "data": {
      "text/plain": [
       "99"
      ]
     },
     "execution_count": 11,
     "metadata": {},
     "output_type": "execute_result"
    }
   ],
   "source": [
    "maximum(lst1)"
   ]
  },
  {
   "cell_type": "markdown",
   "id": "677a6e9b",
   "metadata": {},
   "source": [
    "#### 5. Write a Python program to find second largest number in a list?"
   ]
  },
  {
   "cell_type": "code",
   "execution_count": 1,
   "id": "9a40964a",
   "metadata": {},
   "outputs": [],
   "source": [
    "def second_largest(lst):\n",
    "    \"\"\"\n",
    "    This method we are filtering maximum element using remove function in sets and later obtain next maximum element in the list\n",
    "    \"\"\"\n",
    "    new_list = set(lst)\n",
    "    new_list.remove(max(lst))\n",
    "    return max(new_list)"
   ]
  },
  {
   "cell_type": "code",
   "execution_count": 2,
   "id": "704c7b6a",
   "metadata": {},
   "outputs": [
    {
     "data": {
      "text/plain": [
       "45"
      ]
     },
     "execution_count": 2,
     "metadata": {},
     "output_type": "execute_result"
    }
   ],
   "source": [
    "second_largest([10, 20, 4, 45, 99])"
   ]
  },
  {
   "cell_type": "code",
   "execution_count": 5,
   "id": "69db0e8a",
   "metadata": {},
   "outputs": [],
   "source": [
    "def second_ele(lst):\n",
    "    \"\"\"\n",
    "    This method works on removing duplicates from the list and sorting it suing sort inbuilt function.\n",
    "    \"\"\"\n",
    "    new_list = list(set(lst))\n",
    "    new_list.sort()\n",
    "    return new_list[-2]"
   ]
  },
  {
   "cell_type": "code",
   "execution_count": 7,
   "id": "81be911e",
   "metadata": {},
   "outputs": [
    {
     "data": {
      "text/plain": [
       "45"
      ]
     },
     "execution_count": 7,
     "metadata": {},
     "output_type": "execute_result"
    }
   ],
   "source": [
    "second_ele([10, 20, 20, 4, 45, 45, 45, 99, 99])"
   ]
  },
  {
   "cell_type": "markdown",
   "id": "3aaa665b",
   "metadata": {},
   "source": [
    "#### 6. Write a Python program to find N largest elements from a list?"
   ]
  },
  {
   "cell_type": "code",
   "execution_count": 1,
   "id": "154c528e",
   "metadata": {},
   "outputs": [],
   "source": [
    "def N_largest_ele(lst,N):\n",
    "    \"\"\"\n",
    "    This method eliminates the list of integers\n",
    "    \"\"\"\n",
    "    final_lst = []\n",
    "    for i in range(0,N):\n",
    "        lar_ele = 0\n",
    "        for j in range(len(lst)):\n",
    "            if lar_ele < lst[j]:\n",
    "                lar_ele = lst[j]\n",
    "                \n",
    "        lst.remove(lar_ele)\n",
    "        final_lst.append(lar_ele)\n",
    "        \n",
    "    return final_lst"
   ]
  },
  {
   "cell_type": "code",
   "execution_count": 2,
   "id": "9156e691",
   "metadata": {},
   "outputs": [
    {
     "data": {
      "text/plain": [
       "[85, 41, 10]"
      ]
     },
     "execution_count": 2,
     "metadata": {},
     "output_type": "execute_result"
    }
   ],
   "source": [
    "N_largest_ele([2, 6, 41, 85, 0, 3, 7, 6, 10],3)"
   ]
  },
  {
   "cell_type": "code",
   "execution_count": 3,
   "id": "09e3a9c0",
   "metadata": {},
   "outputs": [],
   "source": [
    "def N_greatest_ele(lst,N):\n",
    "    \"\"\"\n",
    "    This method returns using in built sort function and list indexing \n",
    "    \"\"\"\n",
    "    lst.sort()\n",
    "    return lst[-N:]"
   ]
  },
  {
   "cell_type": "code",
   "execution_count": 4,
   "id": "a639992a",
   "metadata": {},
   "outputs": [
    {
     "data": {
      "text/plain": [
       "[900, 1000, 3579]"
      ]
     },
     "execution_count": 4,
     "metadata": {},
     "output_type": "execute_result"
    }
   ],
   "source": [
    "N_greatest_ele([1000,298,3579,100,200,-45,900],3)"
   ]
  },
  {
   "cell_type": "markdown",
   "id": "17a9c070",
   "metadata": {},
   "source": [
    "#### 7. Write a Python program to print even numbers in a list?"
   ]
  },
  {
   "cell_type": "code",
   "execution_count": 9,
   "id": "a1944d06",
   "metadata": {},
   "outputs": [],
   "source": [
    "def even_lst(lst):\n",
    "    \"\"\"\n",
    "    This one is using the iterative elimination method\n",
    "    \"\"\"\n",
    "    even_lst = []\n",
    "    for i in lst:\n",
    "        if i % 2 == 0:\n",
    "            even_lst.append(i)\n",
    "    return even_lst          "
   ]
  },
  {
   "cell_type": "code",
   "execution_count": 10,
   "id": "5969a502",
   "metadata": {},
   "outputs": [
    {
     "data": {
      "text/plain": [
       "[2, 4, 6]"
      ]
     },
     "execution_count": 10,
     "metadata": {},
     "output_type": "execute_result"
    }
   ],
   "source": [
    "even_lst([1,2,3,4,6])"
   ]
  },
  {
   "cell_type": "code",
   "execution_count": 11,
   "id": "984a12e7",
   "metadata": {},
   "outputs": [
    {
     "data": {
      "text/plain": [
       "[12, 14]"
      ]
     },
     "execution_count": 11,
     "metadata": {},
     "output_type": "execute_result"
    }
   ],
   "source": [
    "even_lst([12, 14, 95, 3])"
   ]
  },
  {
   "cell_type": "code",
   "execution_count": 12,
   "id": "e995ce9b",
   "metadata": {},
   "outputs": [],
   "source": [
    "def even_lst2(lst):\n",
    "    \"\"\"\n",
    "    This one is using list comprehension\n",
    "    \"\"\"\n",
    "    res = [i for i in lst if i%2 == 0]\n",
    "    return res"
   ]
  },
  {
   "cell_type": "code",
   "execution_count": 13,
   "id": "bb4b7ddb",
   "metadata": {},
   "outputs": [
    {
     "data": {
      "text/plain": [
       "[10, 4, 66]"
      ]
     },
     "execution_count": 13,
     "metadata": {},
     "output_type": "execute_result"
    }
   ],
   "source": [
    "even_lst2([10, 21, 4, 45, 66, 93])"
   ]
  },
  {
   "cell_type": "markdown",
   "id": "73e49958",
   "metadata": {},
   "source": [
    "#### 8. Write a Python program to print odd numbers in a List?"
   ]
  },
  {
   "cell_type": "code",
   "execution_count": 14,
   "id": "ad24df25",
   "metadata": {},
   "outputs": [],
   "source": [
    "def odd_lst(lst):\n",
    "    \"\"\"\n",
    "    This one is using the iterative elimination method\n",
    "    \"\"\"\n",
    "    odd_lst = []\n",
    "    for i in lst:\n",
    "        if i % 2 != 0:\n",
    "            odd_lst.append(i)\n",
    "    return odd_lst"
   ]
  },
  {
   "cell_type": "code",
   "execution_count": 15,
   "id": "c42bfac8",
   "metadata": {},
   "outputs": [
    {
     "data": {
      "text/plain": [
       "[1, 3]"
      ]
     },
     "execution_count": 15,
     "metadata": {},
     "output_type": "execute_result"
    }
   ],
   "source": [
    "odd_lst([1,2,3,4,6])"
   ]
  },
  {
   "cell_type": "code",
   "execution_count": 16,
   "id": "fea3423b",
   "metadata": {},
   "outputs": [],
   "source": [
    "def odd_lst2(lst):\n",
    "    \"\"\"\n",
    "    This one is using list comprehension\n",
    "    \"\"\"\n",
    "    res = [i for i in lst if i%2 != 0]\n",
    "    return res"
   ]
  },
  {
   "cell_type": "code",
   "execution_count": 17,
   "id": "6a34d148",
   "metadata": {},
   "outputs": [
    {
     "data": {
      "text/plain": [
       "[21, 45, 93]"
      ]
     },
     "execution_count": 17,
     "metadata": {},
     "output_type": "execute_result"
    }
   ],
   "source": [
    "odd_lst2([10, 21, 4, 45, 66, 93])"
   ]
  },
  {
   "cell_type": "markdown",
   "id": "4bfbc738",
   "metadata": {},
   "source": [
    "#### 9. Write a Python program to Remove empty List from List?"
   ]
  },
  {
   "cell_type": "code",
   "execution_count": 18,
   "id": "f3b1f8ee",
   "metadata": {},
   "outputs": [],
   "source": [
    "def remove_empty(lst):\n",
    "    \"\"\"\n",
    "    Using list comprehension\n",
    "    \"\"\"\n",
    "    new_lst = [i for i in lst if i != []]\n",
    "    return new_lst"
   ]
  },
  {
   "cell_type": "code",
   "execution_count": 19,
   "id": "3d256764",
   "metadata": {},
   "outputs": [
    {
     "data": {
      "text/plain": [
       "[55, 14, 75, 96, 80, 36]"
      ]
     },
     "execution_count": 19,
     "metadata": {},
     "output_type": "execute_result"
    }
   ],
   "source": [
    "remove_empty([55, [], 14, 75, [], 96, 80, [], 36])"
   ]
  },
  {
   "cell_type": "markdown",
   "id": "68061c76",
   "metadata": {},
   "source": [
    "#### 10. Write a Python program to Cloning or Copying a list?"
   ]
  },
  {
   "cell_type": "code",
   "execution_count": 20,
   "id": "889ff155",
   "metadata": {},
   "outputs": [],
   "source": [
    "def cloning(lst):\n",
    "    \"\"\"\n",
    "    Using slicing operation\n",
    "    \"\"\"\n",
    "    lst_cp = lst[:]\n",
    "    return lst_cp"
   ]
  },
  {
   "cell_type": "code",
   "execution_count": 21,
   "id": "6d268560",
   "metadata": {},
   "outputs": [
    {
     "data": {
      "text/plain": [
       "[0, 1, [-1, -5], -200]"
      ]
     },
     "execution_count": 21,
     "metadata": {},
     "output_type": "execute_result"
    }
   ],
   "source": [
    "cloning([0, 1, [-1, -5], -200])"
   ]
  },
  {
   "cell_type": "code",
   "execution_count": 26,
   "id": "495eee04",
   "metadata": {},
   "outputs": [],
   "source": [
    "import copy\n",
    "\n",
    "def cloning2(lst):\n",
    "    \"\"\"\n",
    "    using shallow copy\n",
    "    \"\"\"\n",
    "    lst_cp = copy.copy(lst)\n",
    "    return lst_cp"
   ]
  },
  {
   "cell_type": "code",
   "execution_count": 28,
   "id": "42f2fb3a",
   "metadata": {},
   "outputs": [
    {
     "data": {
      "text/plain": [
       "[4, 8, 2, 10, 15, 18]"
      ]
     },
     "execution_count": 28,
     "metadata": {},
     "output_type": "execute_result"
    }
   ],
   "source": [
    "cloning2([4, 8, 2, 10, 15, 18])"
   ]
  },
  {
   "cell_type": "code",
   "execution_count": 29,
   "id": "c388f46d",
   "metadata": {},
   "outputs": [],
   "source": [
    "def cloning3(lst):\n",
    "    \"\"\"\n",
    "    using deep copy\n",
    "    \"\"\"\n",
    "    lst_cp = copy.deepcopy(lst)\n",
    "    return lst_cp"
   ]
  },
  {
   "cell_type": "code",
   "execution_count": 30,
   "id": "d861d160",
   "metadata": {},
   "outputs": [
    {
     "data": {
      "text/plain": [
       "['lst', {1: 'one', 2: 'two'}, 0.5]"
      ]
     },
     "execution_count": 30,
     "metadata": {},
     "output_type": "execute_result"
    }
   ],
   "source": [
    "cloning3(['lst',{1:'one',2:'two'},0.5])"
   ]
  },
  {
   "cell_type": "markdown",
   "id": "d56ff835",
   "metadata": {},
   "source": [
    "#### 11. Write a Python program to Count occurrences of an element in a list?"
   ]
  },
  {
   "cell_type": "code",
   "execution_count": 31,
   "id": "53e53477",
   "metadata": {},
   "outputs": [],
   "source": [
    "def countN(lst,N):\n",
    "    \"\"\"\n",
    "    Using for loop iteration\n",
    "    \"\"\"\n",
    "    cnt = 0\n",
    "    for i in lst:\n",
    "        if i == N:\n",
    "            cnt += 1\n",
    "    return cnt"
   ]
  },
  {
   "cell_type": "code",
   "execution_count": 33,
   "id": "8048d387",
   "metadata": {},
   "outputs": [
    {
     "data": {
      "text/plain": [
       "3"
      ]
     },
     "execution_count": 33,
     "metadata": {},
     "output_type": "execute_result"
    }
   ],
   "source": [
    "countN([1, 1, 2, 2, 2, 3, 3, 4, 4, 5, 5],2)"
   ]
  },
  {
   "cell_type": "code",
   "execution_count": 34,
   "id": "53022db5",
   "metadata": {},
   "outputs": [],
   "source": [
    "def countN2(lst,N):\n",
    "    \"\"\"\n",
    "    using list comprehension and finding total length of count\n",
    "    \"\"\"\n",
    "    cnt = [i for i in lst if i == N]\n",
    "    return len(cnt)"
   ]
  },
  {
   "cell_type": "code",
   "execution_count": 37,
   "id": "e14e6e8a",
   "metadata": {},
   "outputs": [
    {
     "data": {
      "text/plain": [
       "2"
      ]
     },
     "execution_count": 37,
     "metadata": {},
     "output_type": "execute_result"
    }
   ],
   "source": [
    "countN2([1, 1, 2, 2, 2, 3, 3, 4, 4, 5, 5],5)"
   ]
  }
 ],
 "metadata": {
  "kernelspec": {
   "display_name": "Python 3",
   "language": "python",
   "name": "python3"
  },
  "language_info": {
   "codemirror_mode": {
    "name": "ipython",
    "version": 3
   },
   "file_extension": ".py",
   "mimetype": "text/x-python",
   "name": "python",
   "nbconvert_exporter": "python",
   "pygments_lexer": "ipython3",
   "version": "3.8.8"
  }
 },
 "nbformat": 4,
 "nbformat_minor": 5
}
