{
 "cells": [
  {
   "cell_type": "markdown",
   "metadata": {
    "id": "dkGbTD94s6CD"
   },
   "source": [
    "# ASSIGNMENTS \n",
    "## Send it before 0000 hrs IST or 12 AM Wednesday\n",
    "\n",
    "## NOTE: Evaluation will be done before next class.\n",
    "\n",
    "## HOW TO SUBMIT: -\n",
    "Download this notebook, Solve it and upload in the google form given in the mail."
   ]
  },
  {
   "cell_type": "markdown",
   "metadata": {
    "id": "n3FuI-mutNl6"
   },
   "source": [
    "## control flow and conditional statements"
   ]
  },
  {
   "cell_type": "markdown",
   "metadata": {
    "id": "NCW2epdyuJ-a"
   },
   "source": [
    "Q1. Find the largest number from the given list, use for loop.\n",
    "\n",
    "```\n",
    "numbers = [12, 75, 150, 180, 145, 525, 50]\n",
    "```"
   ]
  },
  {
   "cell_type": "code",
   "execution_count": 9,
   "metadata": {},
   "outputs": [],
   "source": [
    "numbers = [12, 75, 150, 180, 145,525,50]"
   ]
  },
  {
   "cell_type": "code",
   "execution_count": 10,
   "metadata": {},
   "outputs": [
    {
     "name": "stdout",
     "output_type": "stream",
     "text": [
      "The Largest Element in the list is 525.\n"
     ]
    }
   ],
   "source": [
    "max_ele = 1\n",
    "for i in range(len(numbers)):\n",
    "    if max_ele < numbers[i]:\n",
    "        max_ele = numbers[i]\n",
    "print(f\"The Largest Element in the list is {max_ele}.\")"
   ]
  },
  {
   "cell_type": "markdown",
   "metadata": {
    "id": "Qsg0i1fTwEQj"
   },
   "source": [
    "Q2. Print all the even number between (1, 12)."
   ]
  },
  {
   "cell_type": "code",
   "execution_count": 15,
   "metadata": {},
   "outputs": [
    {
     "name": "stdout",
     "output_type": "stream",
     "text": [
      "2\n",
      "4\n",
      "6\n",
      "8\n",
      "10\n"
     ]
    }
   ],
   "source": [
    "for i in range(1,12):\n",
    "    if i%2 != 0:\n",
    "        continue\n",
    "    print(i)"
   ]
  },
  {
   "cell_type": "code",
   "execution_count": 12,
   "metadata": {},
   "outputs": [
    {
     "name": "stdout",
     "output_type": "stream",
     "text": [
      "The Even number between 1 and 12 are : [2, 4, 6, 8, 10]\n"
     ]
    }
   ],
   "source": [
    "#Inorder to store all the above elements inside a list\n",
    "lst = [] #empty list is initiated\n",
    "for i in range(1,12):\n",
    "    if i%2 != 0:\n",
    "        continue  #ends the current iteration from loops and start to continue the next iteration\n",
    "    lst.append(i)\n",
    "print(f\"The Even number between 1 and 12 are : {lst}\")"
   ]
  },
  {
   "cell_type": "markdown",
   "metadata": {
    "id": "WG2QcDDhwi4a"
   },
   "source": [
    "Q3. Calculate the sum of all numbers from 1 to a given number\n",
    "    \n",
    "    Expected Output:\n",
    "\n",
    "    Enter number 10\n",
    "    \n",
    "    Sum is:  55\n"
   ]
  },
  {
   "cell_type": "code",
   "execution_count": 25,
   "metadata": {},
   "outputs": [
    {
     "name": "stdout",
     "output_type": "stream",
     "text": [
      "Enter a number : 10\n",
      "[1, 2, 3, 4, 5, 6, 7, 8, 9, 10]\n",
      "The Total Sum of all the Numbers from 1 to given number : 55\n"
     ]
    }
   ],
   "source": [
    "user_input = int(input(\"Enter a number : \"))\n",
    "\n",
    "if user_input > 0: #boundary case to tackle negative integers\n",
    "    lst = []\n",
    "    for i in range(1,user_input+1):\n",
    "        lst.append(i)\n",
    "    print(lst)\n",
    "    result = sum(lst)\n",
    "    print(f\"The Total Sum of all the Numbers from 1 to given number : {result}\")\n",
    "else:\n",
    "    print(\"Please enter a valid Number!!!\")"
   ]
  },
  {
   "cell_type": "code",
   "execution_count": 26,
   "metadata": {},
   "outputs": [
    {
     "name": "stdout",
     "output_type": "stream",
     "text": [
      "Enter a number : -5\n",
      "Please enter a valid Number!!!\n"
     ]
    }
   ],
   "source": [
    "user_input = int(input(\"Enter a number : \"))\n",
    "\n",
    "if user_input > 0: #boundary case to tackle negative integers\n",
    "    lst = []\n",
    "    for i in range(1,user_input+1):\n",
    "        lst.append(i)\n",
    "    print(lst)\n",
    "    result = sum(lst)\n",
    "    print(f\"The Total Sum of all the Numbers from 1 to given number : {result}\")\n",
    "else:\n",
    "    print(\"Please enter a valid Number!!!\")"
   ]
  },
  {
   "cell_type": "markdown",
   "metadata": {
    "id": "mc7lLUm5f4Cq"
   },
   "source": [
    "Q4. Write a program to display only those numbers from a list that satisfy the following conditions\n",
    "\n",
    "- The number must be divisible by five\n",
    "\n",
    "- If the number is greater than 150, then skip it and move to the next number\n",
    "\n",
    "- If the number is greater than 500, then stop the loop"
   ]
  },
  {
   "cell_type": "code",
   "execution_count": 31,
   "metadata": {
    "id": "P3Ct2ocKf6Hy"
   },
   "outputs": [],
   "source": [
    "# Given:\n",
    "numbers = [12, 75, 150, 180, 145, 525, 50]"
   ]
  },
  {
   "cell_type": "code",
   "execution_count": 32,
   "metadata": {},
   "outputs": [
    {
     "name": "stdout",
     "output_type": "stream",
     "text": [
      "The Numbers which satisfied above conditions : [75, 145]\n"
     ]
    }
   ],
   "source": [
    "lst = []\n",
    "for i in numbers:\n",
    "    if i % 5 == 0:\n",
    "        if i < 150:\n",
    "            lst.append(i)\n",
    "        elif i > 500:\n",
    "            break\n",
    "print(f\"The Numbers which satisfied above conditions : {lst}\")"
   ]
  },
  {
   "cell_type": "markdown",
   "metadata": {
    "id": "rrxWvy7nMnAs"
   },
   "source": [
    "Q5. Print the given list in reverse order.\n",
    "\n",
    "```\n",
    "list1 = [10, 20, 30, 40, 50]\n",
    "```"
   ]
  },
  {
   "cell_type": "code",
   "execution_count": 42,
   "metadata": {
    "id": "z-GDgPn3Nr0y"
   },
   "outputs": [],
   "source": [
    "list1 = [10,20,30,40,50]"
   ]
  },
  {
   "cell_type": "code",
   "execution_count": 34,
   "metadata": {},
   "outputs": [
    {
     "name": "stdout",
     "output_type": "stream",
     "text": [
      "The Reverse Order of the given list : [50, 40, 30, 20, 10]\n"
     ]
    }
   ],
   "source": [
    "rev_list = list1[::-1]\n",
    "print(f\"The Reverse Order of the given list : {rev_list}\")"
   ]
  },
  {
   "cell_type": "code",
   "execution_count": 44,
   "metadata": {},
   "outputs": [
    {
     "name": "stdout",
     "output_type": "stream",
     "text": [
      "The Reverse Order of the given list : [50, 40, 30, 20, 10]\n"
     ]
    }
   ],
   "source": [
    "#alternative method\n",
    "lst = []\n",
    "\n",
    "for i in list1:\n",
    "    lst.insert(0,i)\n",
    "print(f\"The Reverse Order of the given list : {lst}\")"
   ]
  },
  {
   "cell_type": "code",
   "execution_count": 45,
   "metadata": {},
   "outputs": [],
   "source": [
    "list1 = [10,20,30,40,50]"
   ]
  },
  {
   "cell_type": "code",
   "execution_count": 46,
   "metadata": {},
   "outputs": [
    {
     "name": "stdout",
     "output_type": "stream",
     "text": [
      "The Reverse Order of the given list : [50, 40, 30, 20, 10]\n"
     ]
    }
   ],
   "source": [
    "list1.reverse()\n",
    "print(f\"The Reverse Order of the given list : {list1}\")"
   ]
  }
 ],
 "metadata": {
  "colab": {
   "collapsed_sections": [],
   "provenance": []
  },
  "kernelspec": {
   "display_name": "Python 3",
   "language": "python",
   "name": "python3"
  },
  "language_info": {
   "codemirror_mode": {
    "name": "ipython",
    "version": 3
   },
   "file_extension": ".py",
   "mimetype": "text/x-python",
   "name": "python",
   "nbconvert_exporter": "python",
   "pygments_lexer": "ipython3",
   "version": "3.8.8"
  }
 },
 "nbformat": 4,
 "nbformat_minor": 1
}
