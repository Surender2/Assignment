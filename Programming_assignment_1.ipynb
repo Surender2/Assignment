{
 "cells": [
  {
   "cell_type": "markdown",
   "id": "b2183bce",
   "metadata": {},
   "source": [
    "#### 1.Write a Python program to print \"Hello Python\""
   ]
  },
  {
   "cell_type": "code",
   "execution_count": 1,
   "id": "81da129f",
   "metadata": {},
   "outputs": [
    {
     "name": "stdout",
     "output_type": "stream",
     "text": [
      "Hello Python\n"
     ]
    }
   ],
   "source": [
    "print(\"Hello Python\")"
   ]
  },
  {
   "cell_type": "markdown",
   "id": "d241b7d5",
   "metadata": {},
   "source": [
    "#### 2.Write a Python program to do arithmetical operations addition and division.?"
   ]
  },
  {
   "cell_type": "code",
   "execution_count": 4,
   "id": "2b2b5f6d",
   "metadata": {},
   "outputs": [
    {
     "name": "stdout",
     "output_type": "stream",
     "text": [
      "Enter the first number : 12\n",
      "Enter the second number : 5\n",
      "Addition of 12 and 5 : 17\n",
      "Multiplication of 12 and 5 : 60\n",
      "Division of 12 and 5 : 2.4\n",
      "Floor Division of 12 and 5 : 2\n"
     ]
    }
   ],
   "source": [
    "a = int(input(\"Enter the first number : \"))\n",
    "b = int(input(\"Enter the second number : \"))\n",
    "c = a + b\n",
    "d = a * b\n",
    "e = a / b\n",
    "f = a // b\n",
    "print(f\"Addition of {a} and {b} : {c}\")\n",
    "print(f\"Multiplication of {a} and {b} : {d}\")\n",
    "print(f\"Division of {a} and {b} : {e}\")\n",
    "print(f\"Floor Division of {a} and {b} : {f}\")"
   ]
  },
  {
   "cell_type": "markdown",
   "id": "0852a95c",
   "metadata": {},
   "source": [
    "#### 3.Write a Python program to find the area of a triangle?"
   ]
  },
  {
   "cell_type": "code",
   "execution_count": 8,
   "id": "0c55bca3",
   "metadata": {},
   "outputs": [
    {
     "name": "stdout",
     "output_type": "stream",
     "text": [
      "8\n",
      "7\n",
      "Enter the base of triangle :8cm\n",
      "Enter the height of triangle :7cm\n",
      "Area of triangle : 28.0 sq.cm\n"
     ]
    }
   ],
   "source": [
    "b = int(input())\n",
    "h = int(input())\n",
    "\n",
    "print(f\"Enter the base of triangle :{b}cm\")\n",
    "print(f\"Enter the height of triangle :{h}cm\")\n",
    "\n",
    "Area = (1/2)*b*h\n",
    "print(f\"Area of triangle : {Area} sq.cm\")  #This one when base and height is given"
   ]
  },
  {
   "cell_type": "markdown",
   "id": "019f38ea",
   "metadata": {},
   "source": [
    "#### 4.Write a Python program to swap two variables?"
   ]
  },
  {
   "cell_type": "code",
   "execution_count": 19,
   "id": "91705af1",
   "metadata": {},
   "outputs": [
    {
     "name": "stdout",
     "output_type": "stream",
     "text": [
      "Enter the First Number : 10\n",
      "Enter the Second Number : 20\n",
      "The First Number after swapping : 20\n",
      "The Second Number after swapping : 10\n"
     ]
    }
   ],
   "source": [
    "First_Number = int(input(\"Enter the First Number : \"))\n",
    "Second_Number = int(input(\"Enter the Second Number : \"))\n",
    "\n",
    "#First_Number,Second_Number = Second_Number,First_Number\n",
    "#With temp as variable\n",
    "temp = First_Number\n",
    "First_Number = Second_Number\n",
    "Second_Number = temp\n",
    "\n",
    "print(f\"The First Number after swapping : {First_Number}\")\n",
    "print(f\"The Second Number after swapping : {Second_Number}\")"
   ]
  },
  {
   "cell_type": "code",
   "execution_count": 21,
   "id": "3567b395",
   "metadata": {},
   "outputs": [
    {
     "name": "stdout",
     "output_type": "stream",
     "text": [
      "Enter the First Name : John\n",
      "Enter the Second Name : Joseph\n",
      "The First Name after swapping : Joseph\n",
      "The Second Name after swapping : John\n"
     ]
    }
   ],
   "source": [
    "First_Name = input(\"Enter the First Name : \")\n",
    "Second_Name = input(\"Enter the Second Name : \")\n",
    "\n",
    "#With temp as variable\n",
    "temp = First_Name\n",
    "First_Name = Second_Name\n",
    "Second_Name = temp\n",
    "\n",
    "print(f\"The First Name after swapping : {First_Name}\")\n",
    "print(f\"The Second Name after swapping : {Second_Name}\")"
   ]
  },
  {
   "cell_type": "markdown",
   "id": "d15383ea",
   "metadata": {},
   "source": [
    "#### 5.Write a Python program to generate a random number?"
   ]
  },
  {
   "cell_type": "code",
   "execution_count": 16,
   "id": "bb94b601",
   "metadata": {},
   "outputs": [],
   "source": [
    "import random"
   ]
  },
  {
   "cell_type": "code",
   "execution_count": 17,
   "id": "55a101fd",
   "metadata": {},
   "outputs": [
    {
     "name": "stdout",
     "output_type": "stream",
     "text": [
      "The Random Number : 0.8813659090076439\n"
     ]
    }
   ],
   "source": [
    "num = random.random() #using built-in function\n",
    "print(f\"The Random Number : {num}\")"
   ]
  },
  {
   "cell_type": "code",
   "execution_count": 18,
   "id": "f00bb339",
   "metadata": {},
   "outputs": [
    {
     "name": "stdout",
     "output_type": "stream",
     "text": [
      "The Random Number : 6\n"
     ]
    }
   ],
   "source": [
    "num = random.randint(0,9)\n",
    "print(f\"The Random Number : {num}\") #prints random number within range"
   ]
  }
 ],
 "metadata": {
  "kernelspec": {
   "display_name": "Python 3",
   "language": "python",
   "name": "python3"
  },
  "language_info": {
   "codemirror_mode": {
    "name": "ipython",
    "version": 3
   },
   "file_extension": ".py",
   "mimetype": "text/x-python",
   "name": "python",
   "nbconvert_exporter": "python",
   "pygments_lexer": "ipython3",
   "version": "3.8.8"
  }
 },
 "nbformat": 4,
 "nbformat_minor": 5
}
