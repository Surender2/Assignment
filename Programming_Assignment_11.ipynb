{
 "cells": [
  {
   "cell_type": "markdown",
   "id": "386694ae",
   "metadata": {},
   "source": [
    "#### 1. Write a Python program to find words which are greater than given length k?"
   ]
  },
  {
   "cell_type": "code",
   "execution_count": 15,
   "id": "565a8d4b",
   "metadata": {},
   "outputs": [],
   "source": [
    "def len_k(str1, k):\n",
    "    str1 = str1.split()\n",
    "    words = []\n",
    "    for i in str1:\n",
    "        if len(i) > k:\n",
    "            words.append(i)\n",
    "    return words"
   ]
  },
  {
   "cell_type": "code",
   "execution_count": 16,
   "id": "72350f55",
   "metadata": {},
   "outputs": [
    {
     "data": {
      "text/plain": [
       "['would', 'like', 'code', 'python']"
      ]
     },
     "execution_count": 16,
     "metadata": {},
     "output_type": "execute_result"
    }
   ],
   "source": [
    "len_k('I would like to code in python',2)"
   ]
  },
  {
   "cell_type": "markdown",
   "id": "7684c67a",
   "metadata": {},
   "source": [
    "#### 2. Write a Python program for removing i-th character from a string?"
   ]
  },
  {
   "cell_type": "code",
   "execution_count": 22,
   "id": "0a2e9189",
   "metadata": {},
   "outputs": [],
   "source": [
    "def remove_i(str1,i):\n",
    "    for j in range(len(str1)):\n",
    "        if j == i:\n",
    "            str1 = str1.replace(str1[i],'',1)\n",
    "    return str1"
   ]
  },
  {
   "cell_type": "code",
   "execution_count": 24,
   "id": "216436a7",
   "metadata": {},
   "outputs": [
    {
     "data": {
      "text/plain": [
       "'Chef'"
      ]
     },
     "execution_count": 24,
     "metadata": {},
     "output_type": "execute_result"
    }
   ],
   "source": [
    "remove_i('Chief',2)"
   ]
  },
  {
   "cell_type": "markdown",
   "id": "c83c984e",
   "metadata": {},
   "source": [
    "#### 3. Write a Python program to split and join a string?"
   ]
  },
  {
   "cell_type": "code",
   "execution_count": 5,
   "id": "6545f72c",
   "metadata": {},
   "outputs": [],
   "source": [
    "def splitstr(str1):\n",
    "    str1 = str1.split()\n",
    "    return str1\n",
    "\n",
    "def joinstr(str2):\n",
    "    str2 = \"-\".join(str2)\n",
    "    return str2"
   ]
  },
  {
   "cell_type": "code",
   "execution_count": 6,
   "id": "13ab19bd",
   "metadata": {},
   "outputs": [
    {
     "data": {
      "text/plain": [
       "['I', 'would', 'like', 'code', 'in', 'python']"
      ]
     },
     "execution_count": 6,
     "metadata": {},
     "output_type": "execute_result"
    }
   ],
   "source": [
    "splitstr('I would like code in python')"
   ]
  },
  {
   "cell_type": "code",
   "execution_count": 7,
   "id": "62a4254f",
   "metadata": {},
   "outputs": [
    {
     "data": {
      "text/plain": [
       "'I-would-like-code-in-python'"
      ]
     },
     "execution_count": 7,
     "metadata": {},
     "output_type": "execute_result"
    }
   ],
   "source": [
    "joinstr(['I', 'would', 'like', 'code', 'in', 'python'])"
   ]
  },
  {
   "cell_type": "code",
   "execution_count": 8,
   "id": "631b2851",
   "metadata": {},
   "outputs": [
    {
     "data": {
      "text/plain": [
       "'I- -w-o-u-l-d- -l-i-k-e- -c-o-d-e- -i-n- -p-y-t-h-o-n'"
      ]
     },
     "execution_count": 8,
     "metadata": {},
     "output_type": "execute_result"
    }
   ],
   "source": [
    "joinstr('I would like code in python')"
   ]
  },
  {
   "cell_type": "markdown",
   "id": "da0a415c",
   "metadata": {},
   "source": [
    "#### 4. Write a Python to check if a given string is binary string or not?"
   ]
  },
  {
   "cell_type": "code",
   "execution_count": 25,
   "id": "738c327d",
   "metadata": {},
   "outputs": [],
   "source": [
    "def checkbinarystr(str1):\n",
    "    binary = '01'\n",
    "    cnt = 0\n",
    "    for i in str1:\n",
    "        if i not in binary:\n",
    "            cnt = 1\n",
    "            break\n",
    "        else:\n",
    "            pass\n",
    "    if cnt != 1:\n",
    "        return \"Given string is Binary\"\n",
    "    else:\n",
    "        return \"Not Binary String\""
   ]
  },
  {
   "cell_type": "code",
   "execution_count": 26,
   "id": "15286bff",
   "metadata": {},
   "outputs": [
    {
     "data": {
      "text/plain": [
       "'Not Binary String'"
      ]
     },
     "execution_count": 26,
     "metadata": {},
     "output_type": "execute_result"
    }
   ],
   "source": [
    "checkbinarystr('001021010001010')"
   ]
  },
  {
   "cell_type": "code",
   "execution_count": 27,
   "id": "af6c2b5d",
   "metadata": {},
   "outputs": [
    {
     "data": {
      "text/plain": [
       "'Given string is Binary'"
      ]
     },
     "execution_count": 27,
     "metadata": {},
     "output_type": "execute_result"
    }
   ],
   "source": [
    "checkbinarystr('101010000111')"
   ]
  },
  {
   "cell_type": "markdown",
   "id": "5d027830",
   "metadata": {},
   "source": [
    "#### 5. Write a Python program to find uncommon words from two Strings?"
   ]
  },
  {
   "cell_type": "code",
   "execution_count": 28,
   "id": "ce342f36",
   "metadata": {},
   "outputs": [],
   "source": [
    "def uncommon(s1,s2):\n",
    "    s1 = s1.lower()\n",
    "    s2 = s2.lower()\n",
    "    lst1 = s1.split()\n",
    "    lst2 = s2.split()\n",
    "    uncomm = \"\"\n",
    "    \n",
    "    for i in lst1:\n",
    "        if i not in lst2:\n",
    "            uncomm += \" \"+ i\n",
    "            \n",
    "    for j in lst2:\n",
    "        if j not in lst1:\n",
    "            uncomm += \" \" + j\n",
    "            \n",
    "    return uncomm"
   ]
  },
  {
   "cell_type": "code",
   "execution_count": 29,
   "id": "60f7befc",
   "metadata": {},
   "outputs": [
    {
     "data": {
      "text/plain": [
       "' programming statistics also'"
      ]
     },
     "execution_count": 29,
     "metadata": {},
     "output_type": "execute_result"
    }
   ],
   "source": [
    "uncommon('Programming is necessary for Data Science','Statistics is also necessary for Data Science')"
   ]
  },
  {
   "cell_type": "markdown",
   "id": "dca5a88f",
   "metadata": {},
   "source": [
    "#### 6. Write a Python to find all duplicate characters in string?"
   ]
  },
  {
   "cell_type": "code",
   "execution_count": 30,
   "id": "9de6a082",
   "metadata": {},
   "outputs": [],
   "source": [
    "def duplicatestr(str1):\n",
    "    str1 = str1.lower()\n",
    "    duplicate = []\n",
    "    for i in str1:\n",
    "        if str1.count(i) > 1:\n",
    "            if i not in duplicate:\n",
    "                duplicate.append(i)\n",
    "    return duplicate"
   ]
  },
  {
   "cell_type": "code",
   "execution_count": 31,
   "id": "b60b38b0",
   "metadata": {},
   "outputs": [
    {
     "data": {
      "text/plain": [
       "['r', 'g', 'm']"
      ]
     },
     "execution_count": 31,
     "metadata": {},
     "output_type": "execute_result"
    }
   ],
   "source": [
    "duplicatestr('Programming')"
   ]
  },
  {
   "cell_type": "markdown",
   "id": "f4ea7882",
   "metadata": {},
   "source": [
    "#### 7. Write a Python Program to check if a string contains any special character?"
   ]
  },
  {
   "cell_type": "code",
   "execution_count": 32,
   "id": "7ac06368",
   "metadata": {},
   "outputs": [],
   "source": [
    "import string"
   ]
  },
  {
   "cell_type": "code",
   "execution_count": 33,
   "id": "eb87f5fa",
   "metadata": {},
   "outputs": [
    {
     "name": "stdout",
     "output_type": "stream",
     "text": [
      "!\"#$%&'()*+,-./:;<=>?@[\\]^_`{|}~\n"
     ]
    }
   ],
   "source": [
    "result = string.punctuation\n",
    "print(result)"
   ]
  },
  {
   "cell_type": "code",
   "execution_count": 34,
   "id": "8243efa1",
   "metadata": {},
   "outputs": [],
   "source": [
    "def specialstr(str1):\n",
    "    result = \"\"\n",
    "    for i in str1:\n",
    "        if i in string.punctuation:\n",
    "            result += i\n",
    "    return result"
   ]
  },
  {
   "cell_type": "code",
   "execution_count": 36,
   "id": "624430ce",
   "metadata": {},
   "outputs": [
    {
     "data": {
      "text/plain": [
       "'!,?....'"
      ]
     },
     "execution_count": 36,
     "metadata": {},
     "output_type": "execute_result"
    }
   ],
   "source": [
    "specialstr(\"Hey Guys!,This is last question in this assignment I guess ?....\")"
   ]
  }
 ],
 "metadata": {
  "kernelspec": {
   "display_name": "Python 3",
   "language": "python",
   "name": "python3"
  },
  "language_info": {
   "codemirror_mode": {
    "name": "ipython",
    "version": 3
   },
   "file_extension": ".py",
   "mimetype": "text/x-python",
   "name": "python",
   "nbconvert_exporter": "python",
   "pygments_lexer": "ipython3",
   "version": "3.8.8"
  }
 },
 "nbformat": 4,
 "nbformat_minor": 5
}
