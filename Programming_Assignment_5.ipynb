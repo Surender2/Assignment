{
 "cells": [
  {
   "cell_type": "markdown",
   "id": "2d16e6d1",
   "metadata": {},
   "source": [
    "#### 1. Write a Python Program to Find LCM?"
   ]
  },
  {
   "cell_type": "code",
   "execution_count": 1,
   "id": "c75cf2fa",
   "metadata": {},
   "outputs": [
    {
     "name": "stdout",
     "output_type": "stream",
     "text": [
      "enter the first number : 15\n",
      "enter the second number : 30\n",
      "The LCM of 15 and 30 : 30\n"
     ]
    }
   ],
   "source": [
    "num1 = int(input(\"enter the first number : \"))\n",
    "num2 = int(input(\"enter the second number : \"))\n",
    "\n",
    "if num1 > num2:\n",
    "    greater = num1\n",
    "else:\n",
    "    greater = num2\n",
    "    \n",
    "value = greater\n",
    "while(True):\n",
    "    if ((greater % num1 == 0) and (greater % num2 == 0)):\n",
    "        lcm = greater\n",
    "        break\n",
    "    greater += value\n",
    "\n",
    "print(f\"The LCM of {num1} and {num2} : {lcm}\")"
   ]
  },
  {
   "cell_type": "markdown",
   "id": "3222b6dd",
   "metadata": {},
   "source": [
    "#### 2.Write a Python Program to Find HCF?"
   ]
  },
  {
   "cell_type": "code",
   "execution_count": 4,
   "id": "87fd51e5",
   "metadata": {},
   "outputs": [
    {
     "name": "stdout",
     "output_type": "stream",
     "text": [
      "Enter the first number : 54\n",
      "Enter the second number : 24\n",
      "The HCF of 54 and 24 : 6\n"
     ]
    }
   ],
   "source": [
    "num1 = int(input(\"Enter the first number : \"))\n",
    "num2 = int(input(\"Enter the second number : \"))\n",
    "\n",
    "if num1 > num2:\n",
    "    smaller = num2\n",
    "else:\n",
    "    smaller = num1\n",
    "    \n",
    "for i in range(1,smaller+1):\n",
    "    if((num1 % i == 0) and (num2 % i == 0)):\n",
    "        hcf = i\n",
    "print(f\"The HCF of {num1} and {num2} : {hcf}\")"
   ]
  },
  {
   "cell_type": "markdown",
   "id": "2b9ac88b",
   "metadata": {},
   "source": [
    "#### 3. Write a Python Program to Convert Decimal to Binary, Octal and Hexadecimal?"
   ]
  },
  {
   "cell_type": "code",
   "execution_count": 10,
   "id": "9a9b0c30",
   "metadata": {},
   "outputs": [
    {
     "name": "stdout",
     "output_type": "stream",
     "text": [
      "Enter a number : 7\n",
      "The Binary Number of 7 : 111\n"
     ]
    }
   ],
   "source": [
    "#Decimal to Binary\n",
    "num1 = int(input(\"Enter a number : \"))\n",
    "\n",
    "decimal = int(bin(num1).replace('0b',\"\"))\n",
    "print(f\"The Binary Number of {num1} : {decimal}\")"
   ]
  },
  {
   "cell_type": "code",
   "execution_count": 21,
   "id": "402506e5",
   "metadata": {},
   "outputs": [
    {
     "name": "stdout",
     "output_type": "stream",
     "text": [
      "Enter a number : 33\n",
      "The Octal of 33 : 41\n"
     ]
    }
   ],
   "source": [
    "#Decimal to octal\n",
    "num1 = int(input(\"Enter a number : \"))\n",
    "\n",
    "octal = int(oct(num1).replace('0o',\"\"))\n",
    "print(f\"The Octal of {num1} : {octal}\")"
   ]
  },
  {
   "cell_type": "code",
   "execution_count": 28,
   "id": "f883c4d1",
   "metadata": {},
   "outputs": [
    {
     "name": "stdout",
     "output_type": "stream",
     "text": [
      "Enter a number : 23\n",
      "The Hexadecimal of 23 : 0x17\n"
     ]
    }
   ],
   "source": [
    "#Decimal to hexadecimal\n",
    "num1 = int(input(\"Enter a number : \"))\n",
    "\n",
    "hexadecimal = (hex(num1))\n",
    "print(f\"The Hexadecimal of {num1} : {hexadecimal}\")"
   ]
  },
  {
   "cell_type": "markdown",
   "id": "d7dc7b13",
   "metadata": {},
   "source": [
    "#### 4. Write a Python Program To Find ASCII value of a character?"
   ]
  },
  {
   "cell_type": "code",
   "execution_count": 30,
   "id": "5e2a8b32",
   "metadata": {},
   "outputs": [
    {
     "name": "stdout",
     "output_type": "stream",
     "text": [
      "Enter the ASCII value of a character : a\n",
      "The ASCII value of a : 97\n"
     ]
    }
   ],
   "source": [
    "text = input(\"Enter the ASCII value of a character : \")\n",
    "ascii_val = ord(text)\n",
    "\n",
    "print(f\"The ASCII value of {text} : {ascii_val}\")"
   ]
  },
  {
   "cell_type": "markdown",
   "id": "ab06906f",
   "metadata": {},
   "source": [
    "#### 5.Write a Python Program to Make a Simple Calculator with 4 basic mathematical operations?"
   ]
  },
  {
   "cell_type": "code",
   "execution_count": 42,
   "id": "26f46e88",
   "metadata": {},
   "outputs": [
    {
     "name": "stdout",
     "output_type": "stream",
     "text": [
      "Simple Calculator with 4 basic mathematical operations : \n",
      "Select the options\n",
      "1.Addition\n",
      "2.Subtraction\n",
      "3.Multiplication\n",
      "4.Division\n",
      "Enter the choice number : 1\n",
      "Enter the first number : 20\n",
      "Enter the second number : 15\n",
      "The Addition of 20 and 15 : 35\n"
     ]
    }
   ],
   "source": [
    "print(\"Simple Calculator with 4 basic mathematical operations : \")\n",
    "print(\"Select the options\")\n",
    "print(\"1.Addition\")\n",
    "print(\"2.Subtraction\")\n",
    "print(\"3.Multiplication\")\n",
    "print(\"4.Division\")\n",
    "\n",
    "choice = int(input(\"Enter the choice number : \"))\n",
    "\n",
    "\n",
    "a = int(input(\"Enter the first number : \"))\n",
    "b = int(input(\"Enter the second number : \"))\n",
    "\n",
    "if(choice == 1):\n",
    "    print(f\"The Addition of {a} and {b} : {a + b}\")\n",
    "elif(choice == 2):\n",
    "    print(f\"The Subtraction of {a} and {b} : {a - b}\")\n",
    "elif(choice == 3):\n",
    "    print(f\"The Multiplication of {a} and {b} : {a * b}\")\n",
    "elif(choice == 4):\n",
    "    print(f\"The Division of {a} and {b} : {a / b}\")\n",
    "else:\n",
    "    print(f\"Invalid Choice\")"
   ]
  },
  {
   "cell_type": "code",
   "execution_count": 43,
   "id": "bfa6a39f",
   "metadata": {},
   "outputs": [
    {
     "name": "stdout",
     "output_type": "stream",
     "text": [
      "Simple Calculator with 4 basic mathematical operations : \n",
      "Select the options\n",
      "1.Addition\n",
      "2.Subtraction\n",
      "3.Multiplication\n",
      "4.Division\n",
      "Enter the choice number : 2\n",
      "Enter the first number : 20\n",
      "Enter the second number : 15\n",
      "The Subtraction of 20 and 15 : 5\n"
     ]
    }
   ],
   "source": [
    "print(\"Simple Calculator with 4 basic mathematical operations : \")\n",
    "print(\"Select the options\")\n",
    "print(\"1.Addition\")\n",
    "print(\"2.Subtraction\")\n",
    "print(\"3.Multiplication\")\n",
    "print(\"4.Division\")\n",
    "\n",
    "choice = int(input(\"Enter the choice number : \"))\n",
    "\n",
    "\n",
    "a = int(input(\"Enter the first number : \"))\n",
    "b = int(input(\"Enter the second number : \"))\n",
    "\n",
    "if(choice == 1):\n",
    "    print(f\"The Addition of {a} and {b} : {a + b}\")\n",
    "elif(choice == 2):\n",
    "    print(f\"The Subtraction of {a} and {b} : {a - b}\")\n",
    "elif(choice == 3):\n",
    "    print(f\"The Multiplication of {a} and {b} : {a * b}\")\n",
    "elif(choice == 4):\n",
    "    print(f\"The Division of {a} and {b} : {a / b}\")\n",
    "else:\n",
    "    print(f\"Invalid Choice\")"
   ]
  },
  {
   "cell_type": "code",
   "execution_count": 44,
   "id": "2affaa1d",
   "metadata": {},
   "outputs": [
    {
     "name": "stdout",
     "output_type": "stream",
     "text": [
      "Simple Calculator with 4 basic mathematical operations : \n",
      "Select the options\n",
      "1.Addition\n",
      "2.Subtraction\n",
      "3.Multiplication\n",
      "4.Division\n",
      "Enter the choice number : 3\n",
      "Enter the first number : 20\n",
      "Enter the second number : 15\n",
      "The Multiplication of 20 and 15 : 300\n"
     ]
    }
   ],
   "source": [
    "print(\"Simple Calculator with 4 basic mathematical operations : \")\n",
    "print(\"Select the options\")\n",
    "print(\"1.Addition\")\n",
    "print(\"2.Subtraction\")\n",
    "print(\"3.Multiplication\")\n",
    "print(\"4.Division\")\n",
    "\n",
    "choice = int(input(\"Enter the choice number : \"))\n",
    "\n",
    "\n",
    "a = int(input(\"Enter the first number : \"))\n",
    "b = int(input(\"Enter the second number : \"))\n",
    "\n",
    "if(choice == 1):\n",
    "    print(f\"The Addition of {a} and {b} : {a + b}\")\n",
    "elif(choice == 2):\n",
    "    print(f\"The Subtraction of {a} and {b} : {a - b}\")\n",
    "elif(choice == 3):\n",
    "    print(f\"The Multiplication of {a} and {b} : {a * b}\")\n",
    "elif(choice == 4):\n",
    "    print(f\"The Division of {a} and {b} : {a / b}\")\n",
    "else:\n",
    "    print(f\"Invalid Choice\")"
   ]
  },
  {
   "cell_type": "code",
   "execution_count": 46,
   "id": "10acb476",
   "metadata": {},
   "outputs": [
    {
     "name": "stdout",
     "output_type": "stream",
     "text": [
      "Simple Calculator with 4 basic mathematical operations : \n",
      "Select the options\n",
      "1.Addition\n",
      "2.Subtraction\n",
      "3.Multiplication\n",
      "4.Division\n",
      "Enter the choice number : 4\n",
      "Enter the first number : 300\n",
      "Enter the second number : 15\n",
      "The Division of 300 and 15 : 20.0\n"
     ]
    }
   ],
   "source": [
    "print(\"Simple Calculator with 4 basic mathematical operations : \")\n",
    "print(\"Select the options\")\n",
    "print(\"1.Addition\")\n",
    "print(\"2.Subtraction\")\n",
    "print(\"3.Multiplication\")\n",
    "print(\"4.Division\")\n",
    "\n",
    "choice = int(input(\"Enter the choice number : \"))\n",
    "\n",
    "\n",
    "a = int(input(\"Enter the first number : \"))\n",
    "b = int(input(\"Enter the second number : \"))\n",
    "\n",
    "if(choice == 1):\n",
    "    print(f\"The Addition of {a} and {b} : {a + b}\")\n",
    "elif(choice == 2):\n",
    "    print(f\"The Subtraction of {a} and {b} : {a - b}\")\n",
    "elif(choice == 3):\n",
    "    print(f\"The Multiplication of {a} and {b} : {a * b}\")\n",
    "elif(choice == 4):\n",
    "    print(f\"The Division of {a} and {b} : {a / b}\")\n",
    "else:\n",
    "    print(f\"Invalid Choice\")"
   ]
  },
  {
   "cell_type": "code",
   "execution_count": 49,
   "id": "41f1ccb2",
   "metadata": {},
   "outputs": [
    {
     "name": "stdout",
     "output_type": "stream",
     "text": [
      "Simple Calculator with 4 basic mathematical operations : \n",
      "Select the options\n",
      "1.Addition\n",
      "2.Subtraction\n",
      "3.Multiplication\n",
      "4.Division\n",
      "Enter the choice number : 5\n",
      "Enter the first number : 20\n",
      "Enter the second number : 21\n",
      "Invalid Choice!!!\n"
     ]
    }
   ],
   "source": [
    "print(\"Simple Calculator with 4 basic mathematical operations : \")\n",
    "print(\"Select the options\")\n",
    "print(\"1.Addition\")\n",
    "print(\"2.Subtraction\")\n",
    "print(\"3.Multiplication\")\n",
    "print(\"4.Division\")\n",
    "\n",
    "choice = int(input(\"Enter the choice number : \"))\n",
    "\n",
    "\n",
    "a = int(input(\"Enter the first number : \"))\n",
    "b = int(input(\"Enter the second number : \"))\n",
    "\n",
    "if(choice == 1):\n",
    "    print(f\"The Addition of {a} and {b} : {a + b}\")\n",
    "elif(choice == 2):\n",
    "    print(f\"The Subtraction of {a} and {b} : {a - b}\")\n",
    "elif(choice == 3):\n",
    "    print(f\"The Multiplication of {a} and {b} : {a * b}\")\n",
    "elif(choice == 4):\n",
    "    print(f\"The Division of {a} and {b} : {a / b}\")\n",
    "else:\n",
    "    print(\"Invalid Choice!!!\")"
   ]
  }
 ],
 "metadata": {
  "kernelspec": {
   "display_name": "Python 3",
   "language": "python",
   "name": "python3"
  },
  "language_info": {
   "codemirror_mode": {
    "name": "ipython",
    "version": 3
   },
   "file_extension": ".py",
   "mimetype": "text/x-python",
   "name": "python",
   "nbconvert_exporter": "python",
   "pygments_lexer": "ipython3",
   "version": "3.8.8"
  }
 },
 "nbformat": 4,
 "nbformat_minor": 5
}
