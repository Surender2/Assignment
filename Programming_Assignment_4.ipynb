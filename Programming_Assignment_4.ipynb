{
 "cells": [
  {
   "cell_type": "markdown",
   "id": "22db6898",
   "metadata": {},
   "source": [
    "#### 1. Write a Python Program to Find the Factorial of a Number?"
   ]
  },
  {
   "cell_type": "code",
   "execution_count": 11,
   "id": "e885de20",
   "metadata": {},
   "outputs": [
    {
     "name": "stdout",
     "output_type": "stream",
     "text": [
      "Enter a number : 5\n",
      "The Factorial of 5 : 120\n"
     ]
    }
   ],
   "source": [
    "num = int(input(\"Enter a number : \"))\n",
    "\n",
    "fact = 1\n",
    "\n",
    "if num < 0:\n",
    "    print(\"Factorial doesnot exist for negative numbers\")\n",
    "    \n",
    "else:\n",
    "    for i in range(num,0,-1):\n",
    "        fact = fact * i\n",
    "    \n",
    "    print(f\"The Factorial of {num} : {fact}\")  "
   ]
  },
  {
   "cell_type": "markdown",
   "id": "e6ef6fd5",
   "metadata": {},
   "source": [
    "#### 2. Write a Python Program to Display the multiplication Table?"
   ]
  },
  {
   "cell_type": "code",
   "execution_count": 14,
   "id": "bd27017f",
   "metadata": {},
   "outputs": [
    {
     "name": "stdout",
     "output_type": "stream",
     "text": [
      "Enter the number which you want to display the multiplication table : 12\n",
      "12 X 1 = 12\n",
      "12 X 2 = 24\n",
      "12 X 3 = 36\n",
      "12 X 4 = 48\n",
      "12 X 5 = 60\n",
      "12 X 6 = 72\n",
      "12 X 7 = 84\n",
      "12 X 8 = 96\n",
      "12 X 9 = 108\n",
      "12 X 10 = 120\n"
     ]
    }
   ],
   "source": [
    "#Multiplication table (from 1 to 10) in Python\n",
    "n = int(input(\"Enter the number which you want to display the multiplication table : \"))\n",
    "\n",
    "for i in range(1,11):\n",
    "    print(n,\"X\",i,\"=\",n*i)"
   ]
  },
  {
   "cell_type": "markdown",
   "id": "d55ab93d",
   "metadata": {},
   "source": [
    "#### 3.Write a Python Program to Print the Fibonacci sequence?"
   ]
  },
  {
   "cell_type": "code",
   "execution_count": 28,
   "id": "99f667c9",
   "metadata": {},
   "outputs": [
    {
     "name": "stdout",
     "output_type": "stream",
     "text": [
      "Enter the terms needs to printed : 10\n",
      "Fibonacci Sequence : \n",
      "0\n",
      "1\n",
      "1\n",
      "2\n",
      "3\n",
      "5\n",
      "8\n",
      "13\n",
      "21\n",
      "34\n"
     ]
    }
   ],
   "source": [
    "n = int(input(\"Enter the terms needs to printed : \"))\n",
    "\n",
    "n1,n2 = 0,1\n",
    "count = 0\n",
    "\n",
    "if n <= 0:\n",
    "    print(\"Kindly enter a positive integer\")\n",
    "elif n == 1:\n",
    "    print(f\"Fibonacci Sequence upto {n} : \")\n",
    "    print(n1)\n",
    "else:\n",
    "    print(\"Fibonacci Sequence : \")\n",
    "    while count < n:\n",
    "        print(n1)\n",
    "        n_th = n1 + n2\n",
    "        n1 = n2\n",
    "        n2 = n_th\n",
    "        count += 1"
   ]
  },
  {
   "cell_type": "markdown",
   "id": "e3483267",
   "metadata": {},
   "source": [
    "#### 3.Write a Python Program to Check Armstrong Number?"
   ]
  },
  {
   "cell_type": "code",
   "execution_count": 1,
   "id": "facaeefe",
   "metadata": {},
   "outputs": [
    {
     "name": "stdout",
     "output_type": "stream",
     "text": [
      "Enter a number : 1634\n",
      "Given Number 1634 is a Armstrong Number\n"
     ]
    }
   ],
   "source": [
    "#for any number of digits\n",
    "num = int(input(\"Enter a number : \"))\n",
    "\n",
    "order = len(str(num))\n",
    "\n",
    "\n",
    "sum_ = 0\n",
    "temp = num\n",
    "\n",
    "while(temp > 0):\n",
    "    digit = temp % 10\n",
    "    sum_ += digit ** order\n",
    "    temp = temp//10\n",
    "    \n",
    "if num == sum_:\n",
    "    print(f\"Given Number {num} is a Armstrong Number\")\n",
    "else:\n",
    "    print(f\"Given Number {num} is not a Armstrong Number\")"
   ]
  },
  {
   "cell_type": "code",
   "execution_count": 3,
   "id": "9b319c32",
   "metadata": {},
   "outputs": [
    {
     "name": "stdout",
     "output_type": "stream",
     "text": [
      "Enter a number : 125\n",
      "Given Number 125 is not a Armstrong Number\n"
     ]
    }
   ],
   "source": [
    "num = int(input(\"Enter a number : \"))\n",
    "\n",
    "order = len(str(num))\n",
    "\n",
    "\n",
    "sum_ = 0\n",
    "temp = num\n",
    "\n",
    "while(temp > 0):\n",
    "    digit = temp % 10\n",
    "    sum_ += digit ** order\n",
    "    temp = temp//10\n",
    "    \n",
    "if num == sum_:\n",
    "    print(f\"Given Number {num} is a Armstrong Number\")\n",
    "else:\n",
    "    print(f\"Given Number {num} is not a Armstrong Number\")"
   ]
  },
  {
   "cell_type": "markdown",
   "id": "a44f20a2",
   "metadata": {},
   "source": [
    "#### 4. Write a Python Program to Find Armstrong Number in an Interval?"
   ]
  },
  {
   "cell_type": "code",
   "execution_count": 6,
   "id": "e5258276",
   "metadata": {},
   "outputs": [
    {
     "name": "stdout",
     "output_type": "stream",
     "text": [
      "Enter the first number : 10\n",
      "Enter the second number : 1000\n",
      "Armstrong number between the interval from 10 to 1000 : \n",
      "153\n",
      "370\n",
      "371\n",
      "407\n"
     ]
    }
   ],
   "source": [
    "num1 = int(input(\"Enter the first number : \"))\n",
    "num2 = int(input(\"Enter the second number : \"))\n",
    "\n",
    "print(f\"Armstrong number between the interval from {num1} to {num2} : \")\n",
    "\n",
    "for num in range(num1,num2+1):\n",
    "    \n",
    "    order = len(str(num))\n",
    "    \n",
    "    sum_ = 0\n",
    "    temp = num\n",
    "    \n",
    "    while temp > 0:\n",
    "        \n",
    "        digit = temp % 10\n",
    "        sum_ += digit ** order\n",
    "        temp = temp // 10\n",
    "        \n",
    "    if num == sum_:\n",
    "        print(num)"
   ]
  },
  {
   "cell_type": "markdown",
   "id": "43dc1091",
   "metadata": {},
   "source": [
    "#### 6. Write a Python Program to Find the Sum of Natural Numbers?"
   ]
  },
  {
   "cell_type": "code",
   "execution_count": 9,
   "id": "fea2fe2a",
   "metadata": {},
   "outputs": [
    {
     "name": "stdout",
     "output_type": "stream",
     "text": [
      "Enter a number : 16\n",
      "The Sum of all the natural numbers from 0 to 16 : 136\n"
     ]
    }
   ],
   "source": [
    "user_input = int(input(\"Enter a number : \"))\n",
    "\n",
    "if num < 0:\n",
    "    print(\"Enter a positive number\")\n",
    "else:\n",
    "    sum_ = 0\n",
    "    temp = user_input\n",
    "    while user_input > 0:\n",
    "        sum_ += user_input\n",
    "        user_input -= 1\n",
    "    print(f\"The Sum of all the natural numbers from {user_input} to {temp} : {sum_}\")\n",
    "        "
   ]
  },
  {
   "cell_type": "code",
   "execution_count": 16,
   "id": "c48dfd06",
   "metadata": {},
   "outputs": [
    {
     "name": "stdout",
     "output_type": "stream",
     "text": [
      "Enter a number : 16\n",
      "The Sum of all the natural numbers upto 16 : 136\n"
     ]
    }
   ],
   "source": [
    "#using formula\n",
    "num = int(input(\"Enter a number : \"))\n",
    "\n",
    "if num < 0:\n",
    "    print(\"Enter a positive number\")\n",
    "else:\n",
    "    \n",
    "    sum_ = int((num *(num+1))/2)\n",
    "    \n",
    "    print(f\"The Sum of all the natural numbers upto {num} : {sum_}\")"
   ]
  }
 ],
 "metadata": {
  "kernelspec": {
   "display_name": "Python 3",
   "language": "python",
   "name": "python3"
  },
  "language_info": {
   "codemirror_mode": {
    "name": "ipython",
    "version": 3
   },
   "file_extension": ".py",
   "mimetype": "text/x-python",
   "name": "python",
   "nbconvert_exporter": "python",
   "pygments_lexer": "ipython3",
   "version": "3.8.8"
  }
 },
 "nbformat": 4,
 "nbformat_minor": 5
}
