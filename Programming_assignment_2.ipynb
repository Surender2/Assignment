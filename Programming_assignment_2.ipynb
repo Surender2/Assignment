{
 "cells": [
  {
   "cell_type": "markdown",
   "id": "11ac2adf",
   "metadata": {},
   "source": [
    "#### 1.Write a Python program to convert kilometers to miles?"
   ]
  },
  {
   "cell_type": "code",
   "execution_count": 6,
   "id": "92edec65",
   "metadata": {},
   "outputs": [
    {
     "name": "stdout",
     "output_type": "stream",
     "text": [
      "5.5\n",
      "The Distance travalled in Kilometers : 5.5km\n",
      "The Distance travelled in miles from Kilometers : 3.418 mi\n"
     ]
    }
   ],
   "source": [
    "#1 kilometer equals 0.62137 miles.\n",
    "#Miles = kilometer * 0.62137   \n",
    "#Kilometer = Miles / 0.62137\n",
    "Kilometers = float(input())\n",
    "print(f\"The Distance travalled in Kilometers : {Kilometers}km\")\n",
    "\n",
    "conv_f = 0.62137\n",
    "\n",
    "Miles = Kilometers * conv_f\n",
    "\n",
    "print(f\"The Distance travelled in miles from Kilometers : {round(Miles,3)} mi\")"
   ]
  },
  {
   "cell_type": "markdown",
   "id": "a558a59e",
   "metadata": {},
   "source": [
    "#### 2.Write a Python program to convert Celsius to Fahrenheit?"
   ]
  },
  {
   "cell_type": "code",
   "execution_count": 8,
   "id": "57b01f00",
   "metadata": {},
   "outputs": [
    {
     "name": "stdout",
     "output_type": "stream",
     "text": [
      "40\n",
      "The Temperature scale in celsius : 40.0 Celsius\n",
      "The Temperature scale in fahrenheit from celsius : 104.0 Fahrenheit\n"
     ]
    }
   ],
   "source": [
    "#Fahrenheit = (celsius * 1.8) + 32\n",
    "Celsius = float(input())\n",
    "print(f\"The Temperature scale in celsius : {Celsius} Celsius\")\n",
    "\n",
    "Fahrenheit = (Celsius * 1.8) + 32\n",
    "print(f\"The Temperature scale in fahrenheit from celsius : {Fahrenheit} Fahrenheit\")"
   ]
  },
  {
   "cell_type": "markdown",
   "id": "0ac58f82",
   "metadata": {},
   "source": [
    "#### 3.Write a Python program to display calendar?"
   ]
  },
  {
   "cell_type": "code",
   "execution_count": 14,
   "id": "85769687",
   "metadata": {},
   "outputs": [
    {
     "name": "stdout",
     "output_type": "stream",
     "text": [
      "Enter the year : 2022\n",
      "Enter the month : 10\n",
      "\n",
      "\n",
      "    October 2022\n",
      "Mo Tu We Th Fr Sa Su\n",
      "                1  2\n",
      " 3  4  5  6  7  8  9\n",
      "10 11 12 13 14 15 16\n",
      "17 18 19 20 21 22 23\n",
      "24 25 26 27 28 29 30\n",
      "31\n",
      "\n"
     ]
    }
   ],
   "source": [
    "#Display display calendar of given month of the year\n",
    "import calendar\n",
    "\n",
    "year = int(input(\"Enter the year : \"))\n",
    "month_ = int(input(\"Enter the month : \"))\n",
    "print(\"\\n\")\n",
    "print(calendar.month(year,month_))"
   ]
  },
  {
   "cell_type": "code",
   "execution_count": 15,
   "id": "a43473df",
   "metadata": {},
   "outputs": [
    {
     "name": "stdout",
     "output_type": "stream",
     "text": [
      "Enter the year : 2022\n",
      "                                  2022\n",
      "\n",
      "      January                   February                   March\n",
      "Mo Tu We Th Fr Sa Su      Mo Tu We Th Fr Sa Su      Mo Tu We Th Fr Sa Su\n",
      "                1  2          1  2  3  4  5  6          1  2  3  4  5  6\n",
      " 3  4  5  6  7  8  9       7  8  9 10 11 12 13       7  8  9 10 11 12 13\n",
      "10 11 12 13 14 15 16      14 15 16 17 18 19 20      14 15 16 17 18 19 20\n",
      "17 18 19 20 21 22 23      21 22 23 24 25 26 27      21 22 23 24 25 26 27\n",
      "24 25 26 27 28 29 30      28                        28 29 30 31\n",
      "31\n",
      "\n",
      "       April                      May                       June\n",
      "Mo Tu We Th Fr Sa Su      Mo Tu We Th Fr Sa Su      Mo Tu We Th Fr Sa Su\n",
      "             1  2  3                         1             1  2  3  4  5\n",
      " 4  5  6  7  8  9 10       2  3  4  5  6  7  8       6  7  8  9 10 11 12\n",
      "11 12 13 14 15 16 17       9 10 11 12 13 14 15      13 14 15 16 17 18 19\n",
      "18 19 20 21 22 23 24      16 17 18 19 20 21 22      20 21 22 23 24 25 26\n",
      "25 26 27 28 29 30         23 24 25 26 27 28 29      27 28 29 30\n",
      "                          30 31\n",
      "\n",
      "        July                     August                  September\n",
      "Mo Tu We Th Fr Sa Su      Mo Tu We Th Fr Sa Su      Mo Tu We Th Fr Sa Su\n",
      "             1  2  3       1  2  3  4  5  6  7                1  2  3  4\n",
      " 4  5  6  7  8  9 10       8  9 10 11 12 13 14       5  6  7  8  9 10 11\n",
      "11 12 13 14 15 16 17      15 16 17 18 19 20 21      12 13 14 15 16 17 18\n",
      "18 19 20 21 22 23 24      22 23 24 25 26 27 28      19 20 21 22 23 24 25\n",
      "25 26 27 28 29 30 31      29 30 31                  26 27 28 29 30\n",
      "\n",
      "      October                   November                  December\n",
      "Mo Tu We Th Fr Sa Su      Mo Tu We Th Fr Sa Su      Mo Tu We Th Fr Sa Su\n",
      "                1  2          1  2  3  4  5  6                1  2  3  4\n",
      " 3  4  5  6  7  8  9       7  8  9 10 11 12 13       5  6  7  8  9 10 11\n",
      "10 11 12 13 14 15 16      14 15 16 17 18 19 20      12 13 14 15 16 17 18\n",
      "17 18 19 20 21 22 23      21 22 23 24 25 26 27      19 20 21 22 23 24 25\n",
      "24 25 26 27 28 29 30      28 29 30                  26 27 28 29 30 31\n",
      "31\n",
      "\n"
     ]
    }
   ],
   "source": [
    "#Display display calendar of given year\n",
    "\n",
    "year = int(input(\"Enter the year : \"))\n",
    "\n",
    "print(calendar.calendar(year))"
   ]
  },
  {
   "cell_type": "markdown",
   "id": "653895a1",
   "metadata": {},
   "source": [
    "#### 4.Write a Python program to solve quadratic equation?"
   ]
  },
  {
   "cell_type": "code",
   "execution_count": 19,
   "id": "002bda6b",
   "metadata": {},
   "outputs": [
    {
     "name": "stdout",
     "output_type": "stream",
     "text": [
      "The Coefficients of quadratic eqaution are : \n",
      "Enter a : 1\n",
      "Enter b : 1\n",
      "Enter c : 1\n",
      "Complex roots\n",
      "-0.5  +i 1.732\n",
      "-0.5  -i 1.732\n"
     ]
    }
   ],
   "source": [
    "import math\n",
    "\n",
    "print(\"The Coefficients of quadratic eqaution are : \")\n",
    "a = int(input(\"Enter a : \"))\n",
    "b = int(input(\"Enter b : \"))\n",
    "c = int(input(\"Enter c : \"))\n",
    "\n",
    "if a == 0:\n",
    "    print(\"Invalid quadratic equation\")\n",
    "else:\n",
    "    disc = (b*b) - (4*a*c)    #calculating discriminant using formula\n",
    "    sqrt_val = math.sqrt(abs(disc))\n",
    "    \n",
    "    if disc == 0:\n",
    "        print(\"Real and same roots\")\n",
    "        print(-b/(2*a))\n",
    "    elif disc > 0:\n",
    "        print(\"Real and different roots\")\n",
    "        print(-b + sqrt_val/(2*a))\n",
    "        print(-b - sqrt_val/(2*a))\n",
    "    else:\n",
    "        print(\"Complex roots\")\n",
    "        print(-b/(2*a),\" +i\",round(sqrt_val,3))\n",
    "        print(-b/(2*a),\" -i\",round(sqrt_val,3))"
   ]
  },
  {
   "cell_type": "code",
   "execution_count": 20,
   "id": "03d73fa8",
   "metadata": {},
   "outputs": [
    {
     "name": "stdout",
     "output_type": "stream",
     "text": [
      "The Coefficients of quadratic eqaution are : \n",
      "Enter a : 1\n",
      "Enter b : -2\n",
      "Enter c : 1\n",
      "Real and same roots\n",
      "1.0\n"
     ]
    }
   ],
   "source": [
    "import math\n",
    "\n",
    "print(\"The Coefficients of quadratic eqaution are : \")\n",
    "a = int(input(\"Enter a : \"))\n",
    "b = int(input(\"Enter b : \"))\n",
    "c = int(input(\"Enter c : \"))\n",
    "\n",
    "if a == 0:\n",
    "    print(\"Invalid quadratic equation\")\n",
    "else:\n",
    "    disc = (b*b) - (4*a*c)    #calculating discriminant using formula\n",
    "    sqrt_val = math.sqrt(abs(disc))\n",
    "    \n",
    "    if disc == 0:\n",
    "        print(\"Real and same roots\")\n",
    "        print(-b/(2*a))\n",
    "    elif disc > 0:\n",
    "        print(\"Real and different roots\")\n",
    "        print(-b + sqrt_val/(2*a))\n",
    "        print(-b - sqrt_val/(2*a))\n",
    "    else:\n",
    "        print(\"Complex roots\")\n",
    "        print(-b/(2*a),\" +i\",round(sqrt_val,3))\n",
    "        print(-b/(2*a),\" -i\",round(sqrt_val,3))"
   ]
  },
  {
   "cell_type": "code",
   "execution_count": 22,
   "id": "36609926",
   "metadata": {},
   "outputs": [
    {
     "name": "stdout",
     "output_type": "stream",
     "text": [
      "The Coefficients of quadratic eqaution are : \n",
      "Enter a : 1\n",
      "Enter b : -7\n",
      "Enter c : -12\n",
      "Real and different roots\n",
      "11.924\n",
      "2.076\n"
     ]
    }
   ],
   "source": [
    "import math\n",
    "\n",
    "print(\"The Coefficients of quadratic eqaution are : \")\n",
    "a = int(input(\"Enter a : \"))\n",
    "b = int(input(\"Enter b : \"))\n",
    "c = int(input(\"Enter c : \"))\n",
    "\n",
    "if a == 0:\n",
    "    print(\"Invalid quadratic equation\")\n",
    "else:\n",
    "    disc = (b*b) - (4*a*c)    #calculating discriminant using formula\n",
    "    sqrt_val = math.sqrt(abs(disc))\n",
    "    \n",
    "    if disc == 0:\n",
    "        print(\"Real and same roots\")\n",
    "        print(-b/(2*a))\n",
    "    elif disc > 0:\n",
    "        print(\"Real and different roots\")\n",
    "        print(round((-b + sqrt_val/(2*a)),3))\n",
    "        print(round((-b - sqrt_val/(2*a)),3))\n",
    "    else:\n",
    "        print(\"Complex roots\")\n",
    "        print(-b/(2*a),\" +i\",round(sqrt_val,3))\n",
    "        print(-b/(2*a),\" -i\",round(sqrt_val,3))"
   ]
  },
  {
   "cell_type": "markdown",
   "id": "3d88f348",
   "metadata": {},
   "source": [
    "#### 5.Write a Python program to swap two variables without temp variable?"
   ]
  },
  {
   "cell_type": "code",
   "execution_count": 23,
   "id": "4ad93aae",
   "metadata": {},
   "outputs": [
    {
     "name": "stdout",
     "output_type": "stream",
     "text": [
      "Enter the First Number : 10\n",
      "Enter the Second Number : 20\n",
      "The First Number after swapping : 20\n",
      "The Second Number after swapping : 10\n"
     ]
    }
   ],
   "source": [
    "#without temp as variable \n",
    "First_Number = int(input(\"Enter the First Number : \"))\n",
    "Second_Number = int(input(\"Enter the Second Number : \"))\n",
    "\n",
    "First_Number,Second_Number = Second_Number,First_Number\n",
    "\n",
    "print(f\"The First Number after swapping : {First_Number}\")\n",
    "print(f\"The Second Number after swapping : {Second_Number}\")"
   ]
  },
  {
   "cell_type": "code",
   "execution_count": 24,
   "id": "cf988a98",
   "metadata": {},
   "outputs": [
    {
     "name": "stdout",
     "output_type": "stream",
     "text": [
      "Enter the First Name : John\n",
      "Enter the Second Name : Joseph\n",
      "The First Name after swapping : Joseph\n",
      "The Second Name after swapping : John\n"
     ]
    }
   ],
   "source": [
    "First_Name = input(\"Enter the First Name : \")\n",
    "Second_Name = input(\"Enter the Second Name : \")\n",
    "\n",
    "#Without temp as variable\n",
    "First_Name,Second_Name = Second_Name,First_Name\n",
    "\n",
    "print(f\"The First Name after swapping : {First_Name}\")\n",
    "print(f\"The Second Name after swapping : {Second_Name}\")"
   ]
  }
 ],
 "metadata": {
  "kernelspec": {
   "display_name": "Python 3",
   "language": "python",
   "name": "python3"
  },
  "language_info": {
   "codemirror_mode": {
    "name": "ipython",
    "version": 3
   },
   "file_extension": ".py",
   "mimetype": "text/x-python",
   "name": "python",
   "nbconvert_exporter": "python",
   "pygments_lexer": "ipython3",
   "version": "3.8.8"
  }
 },
 "nbformat": 4,
 "nbformat_minor": 5
}
