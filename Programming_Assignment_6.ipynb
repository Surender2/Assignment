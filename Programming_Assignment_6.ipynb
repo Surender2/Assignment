{
 "cells": [
  {
   "cell_type": "markdown",
   "id": "cbbb65cb",
   "metadata": {},
   "source": [
    "#### 1. Write a Python Program to Display Fibonacci Sequence Using Recursion?"
   ]
  },
  {
   "cell_type": "code",
   "execution_count": 1,
   "id": "59fe847b",
   "metadata": {},
   "outputs": [],
   "source": [
    "#using userdefined function\n",
    "def fib(n):\n",
    "    if n < 0:\n",
    "        print(\"Invalid Input\")\n",
    "    elif n == 0: #boundary case for 0\n",
    "        return 0\n",
    "    elif n == 1 or n == 2: #boundary case for 1 or 2\n",
    "        return 1\n",
    "    else:\n",
    "        return fib(n-1) + fib(n-2)"
   ]
  },
  {
   "cell_type": "code",
   "execution_count": 5,
   "id": "38c024c6",
   "metadata": {},
   "outputs": [
    {
     "name": "stdout",
     "output_type": "stream",
     "text": [
      "Enter a number to display fibonacci sequence : 10\n",
      "0 1 1 2 3 5 8 13 21 34 "
     ]
    }
   ],
   "source": [
    "num = int(input(\"Enter a number to display fibonacci sequence : \"))\n",
    "\n",
    "if num <= 0:\n",
    "    print(\"Kindly enter a positive number!!\")\n",
    "else:\n",
    "    for i in range(num):\n",
    "        print(fib(i),end = \" \")   "
   ]
  },
  {
   "cell_type": "markdown",
   "id": "6b2cfd3f",
   "metadata": {},
   "source": [
    "#### 2.Write a Python Program to Find Factorial of Number Using Recursion?"
   ]
  },
  {
   "cell_type": "code",
   "execution_count": 10,
   "id": "2208dd1c",
   "metadata": {},
   "outputs": [],
   "source": [
    "def fact(n):\n",
    "    if n <= 0:  #boundary case for less than 0\n",
    "        return 1\n",
    "    else:\n",
    "        return n * fact(n-1)"
   ]
  },
  {
   "cell_type": "code",
   "execution_count": 15,
   "id": "8831b399",
   "metadata": {},
   "outputs": [
    {
     "name": "stdout",
     "output_type": "stream",
     "text": [
      "Factorial of number 5 : 120\n"
     ]
    }
   ],
   "source": [
    "print(f\"Factorial of number {5} : {fact(5)}\")"
   ]
  },
  {
   "cell_type": "markdown",
   "id": "dd1067f1",
   "metadata": {},
   "source": [
    "#### 3. Write a Python Program to calculate your Body Mass Index?"
   ]
  },
  {
   "cell_type": "code",
   "execution_count": 18,
   "id": "5da50777",
   "metadata": {},
   "outputs": [
    {
     "name": "stdout",
     "output_type": "stream",
     "text": [
      "The BMI is 21.85 Hence the Individual is Healthy\n"
     ]
    }
   ],
   "source": [
    "def BMI(mass,height):\n",
    "    \"\"\"This function return Body Mass Index of individuals\"\"\"\n",
    "    #here mass is in kg and height is in meters\n",
    "    bmi = (mass)/(height**2)\n",
    "    return bmi\n",
    "\n",
    "\n",
    "def bmi_calculator(bmi):\n",
    "    print(f\"The BMI is {round(bmi,2)} Hence\",end = \" \")\n",
    "    if bmi < 18.5:\n",
    "        print(\"the Individual is underweight\")\n",
    "    elif bmi >= 18.5 and bmi < 24.9:\n",
    "        print(\"the Individual is Healthy\")\n",
    "    elif bmi >= 24.9 and bmi < 30:\n",
    "        print(\"the Individual is Overweight\")\n",
    "    elif bmi >= 30:\n",
    "        print(\"the Individual is suffering from obesity\")\n",
    "        \n",
    "    \n",
    "bmi = BMI(70,1.79)    \n",
    "bmi_calculator(bmi)"
   ]
  },
  {
   "cell_type": "code",
   "execution_count": 19,
   "id": "38d243c3",
   "metadata": {},
   "outputs": [
    {
     "name": "stdout",
     "output_type": "stream",
     "text": [
      "The BMI is 33.68 Hence the Individual is suffering from obesity\n"
     ]
    }
   ],
   "source": [
    "#The Great khali phyiscal stats\n",
    "bmi = BMI(157,2.159)\n",
    "bmi_calculator(bmi)"
   ]
  },
  {
   "cell_type": "markdown",
   "id": "478d8f4a",
   "metadata": {},
   "source": [
    "#### 4.Write a Python Program to calculate the natural logarithm of any number?"
   ]
  },
  {
   "cell_type": "code",
   "execution_count": 1,
   "id": "ee060ee7",
   "metadata": {},
   "outputs": [],
   "source": [
    "import math"
   ]
  },
  {
   "cell_type": "code",
   "execution_count": 5,
   "id": "3593e137",
   "metadata": {},
   "outputs": [
    {
     "name": "stdout",
     "output_type": "stream",
     "text": [
      "The Natural Logarithm of any number is 2.56\n"
     ]
    }
   ],
   "source": [
    "def Nlog(n):\n",
    "    print(f\"The Natural Logarithm of any number is {round(math.log(n),2)}\")\n",
    "    \n",
    "Nlog(13)"
   ]
  },
  {
   "cell_type": "markdown",
   "id": "e1827cdd",
   "metadata": {},
   "source": [
    "#### 5.Write a Python Program for cube sum of first n natural numbers?"
   ]
  },
  {
   "cell_type": "code",
   "execution_count": 6,
   "id": "e528f479",
   "metadata": {},
   "outputs": [
    {
     "name": "stdout",
     "output_type": "stream",
     "text": [
      "Ths Cube of Sum of first n Natural numbers is 225\n"
     ]
    }
   ],
   "source": [
    "def Cube(n):\n",
    "    res = 0\n",
    "    for i in range(1,n+1):\n",
    "        res += pow(i,3)\n",
    "    print(f\"Ths Cube of Sum of first n Natural numbers is {res}\")\n",
    "\n",
    "Cube(5)"
   ]
  }
 ],
 "metadata": {
  "kernelspec": {
   "display_name": "Python 3",
   "language": "python",
   "name": "python3"
  },
  "language_info": {
   "codemirror_mode": {
    "name": "ipython",
    "version": 3
   },
   "file_extension": ".py",
   "mimetype": "text/x-python",
   "name": "python",
   "nbconvert_exporter": "python",
   "pygments_lexer": "ipython3",
   "version": "3.8.8"
  }
 },
 "nbformat": 4,
 "nbformat_minor": 5
}
