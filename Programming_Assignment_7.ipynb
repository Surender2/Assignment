{
 "cells": [
  {
   "cell_type": "markdown",
   "id": "7ef9535c",
   "metadata": {},
   "source": [
    "#### 1. Write a Python Program to find sum of array?"
   ]
  },
  {
   "cell_type": "code",
   "execution_count": 17,
   "id": "7337c4af",
   "metadata": {},
   "outputs": [],
   "source": [
    "l = [1,2,3,4,5]"
   ]
  },
  {
   "cell_type": "code",
   "execution_count": 18,
   "id": "0d4f0973",
   "metadata": {},
   "outputs": [
    {
     "name": "stdout",
     "output_type": "stream",
     "text": [
      "The Sum of array is 15\n"
     ]
    }
   ],
   "source": [
    "def sumarr(l):\n",
    "    res = 0\n",
    "    for i in l:\n",
    "        res += i\n",
    "    return res\n",
    "\n",
    "ans = sumarr(l)\n",
    "print(f\"The Sum of array is {ans}\")"
   ]
  },
  {
   "cell_type": "code",
   "execution_count": 6,
   "id": "bec41c2d",
   "metadata": {},
   "outputs": [],
   "source": [
    "d = [1,2,3,4,5]"
   ]
  },
  {
   "cell_type": "code",
   "execution_count": 7,
   "id": "b2fd1962",
   "metadata": {},
   "outputs": [
    {
     "data": {
      "text/plain": [
       "15"
      ]
     },
     "execution_count": 7,
     "metadata": {},
     "output_type": "execute_result"
    }
   ],
   "source": [
    "sumarr(d)"
   ]
  },
  {
   "cell_type": "markdown",
   "id": "f30a652b",
   "metadata": {},
   "source": [
    "#### 2.Write a Python Program to find largest element in an array?"
   ]
  },
  {
   "cell_type": "code",
   "execution_count": 12,
   "id": "fb8fa736",
   "metadata": {},
   "outputs": [],
   "source": [
    "l = [10, 324, 45, 90, 9808]"
   ]
  },
  {
   "cell_type": "code",
   "execution_count": 13,
   "id": "10f480f6",
   "metadata": {},
   "outputs": [
    {
     "name": "stdout",
     "output_type": "stream",
     "text": [
      "The Largest Element in an array is 9808\n"
     ]
    }
   ],
   "source": [
    "def LargestNum(l):\n",
    "    max_ = l[0]\n",
    "    \n",
    "    for i in range(1,len(l)):\n",
    "        if l[i] > max_:\n",
    "            max_ = l[i]\n",
    "            \n",
    "    return max_\n",
    "\n",
    "print(f\"The Largest Element in an array is {LargestNum(l)}\")"
   ]
  },
  {
   "cell_type": "markdown",
   "id": "da793264",
   "metadata": {},
   "source": [
    "#### 3.Write a Python Program for array rotation?"
   ]
  },
  {
   "cell_type": "code",
   "execution_count": 3,
   "id": "c99d3332",
   "metadata": {},
   "outputs": [
    {
     "name": "stdout",
     "output_type": "stream",
     "text": [
      "The Array rotation is [4, 5, 1, 2, 3] by 3 elements \n"
     ]
    }
   ],
   "source": [
    "def arrayrot(a,d):\n",
    "    n = len(a)\n",
    "    a[:] = a[d:n] + a[0:d]\n",
    "    return a\n",
    "\n",
    "arr = [1,2,3,4,5]\n",
    "d = 3\n",
    "print(f\"The Array rotation is {arrayrot(arr,d)} by {d} elements \")"
   ]
  },
  {
   "cell_type": "markdown",
   "id": "b246171c",
   "metadata": {},
   "source": [
    "#### 4.Write a Python Program to Split the array and add the first part to the end?"
   ]
  },
  {
   "cell_type": "code",
   "execution_count": 5,
   "id": "78774e17",
   "metadata": {},
   "outputs": [
    {
     "name": "stdout",
     "output_type": "stream",
     "text": [
      "The array after splitting and moving to the first part is [3, 4, 5, 1, 2]\n"
     ]
    }
   ],
   "source": [
    "def splitarr(a,n,k):\n",
    "    b = a[:k]\n",
    "    return a[k:] + b[:]\n",
    "\n",
    "arr = [1,2,3,4,5]\n",
    "#This approach is similar to above approch list slicing\n",
    "print(f\"The array after splitting and moving to the first part is {splitarr(arr,len(arr),2)}\")"
   ]
  },
  {
   "cell_type": "markdown",
   "id": "d7c31eb2",
   "metadata": {},
   "source": [
    "#### 5.Write a Python Program to check if given array is Monotonic?"
   ]
  },
  {
   "cell_type": "code",
   "execution_count": 10,
   "id": "f705bb25",
   "metadata": {},
   "outputs": [
    {
     "name": "stdout",
     "output_type": "stream",
     "text": [
      "Given array [1, 2, 2, 3] is monotonic\n"
     ]
    }
   ],
   "source": [
    "def check_monotonic(arr):\n",
    "    Ascending = True\n",
    "    Descending = True\n",
    "    n = len(arr)\n",
    "    \n",
    "    #in order to check ascending order\n",
    "    for i in range(n-1):\n",
    "        if arr[i] > arr[i+1]:\n",
    "            Ascending = False\n",
    "        \n",
    "    #in order to check descending order\n",
    "    for i in range(n-1):\n",
    "        if arr[i] < arr[i+1]:\n",
    "            Descending = False\n",
    "        \n",
    "    return Ascending or Descending\n",
    "\n",
    "arr = [1,2,2,3]\n",
    "res = check_monotonic(arr)\n",
    "\n",
    "if res == True:\n",
    "    print(f\"Given array {arr} is monotonic\")\n",
    "else:\n",
    "    print(f\"Given array {arr} is not monotonic\")"
   ]
  }
 ],
 "metadata": {
  "kernelspec": {
   "display_name": "Python 3",
   "language": "python",
   "name": "python3"
  },
  "language_info": {
   "codemirror_mode": {
    "name": "ipython",
    "version": 3
   },
   "file_extension": ".py",
   "mimetype": "text/x-python",
   "name": "python",
   "nbconvert_exporter": "python",
   "pygments_lexer": "ipython3",
   "version": "3.8.8"
  }
 },
 "nbformat": 4,
 "nbformat_minor": 5
}
