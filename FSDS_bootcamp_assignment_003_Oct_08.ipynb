{
 "cells": [
  {
   "cell_type": "markdown",
   "metadata": {
    "id": "cyOfbWCdOjEr"
   },
   "source": [
    "# ASSIGNMENTS - Compulsory\n",
    "## Send it before 0000 hrs IST or 12 AM Wednesday\n",
    "\n",
    "## NOTE: Evaluation will be done before next class.\n",
    "\n",
    "## HOW TO SUBMIT: -\n",
    "Download this notebook, Solve it and upload in the google form given in the mail."
   ]
  },
  {
   "cell_type": "markdown",
   "metadata": {
    "id": "GT4IytkJMNa-"
   },
   "source": [
    "## Python String Manipulation\n",
    "\n",
    "1. Count the number of times `iNeuron` appears in the string.\n",
    "```python\n",
    "text = \"Welcome to iNeuron, You are a part of FSDS Bootcamp 2 in iNeuron. I hope you are enjoying the course by iNeuron\"\n",
    "```\n",
    "2. Check if position `5` to `11` ends with the phrase `iNeuron.` in the string \n",
    "```python\n",
    "txt = \"Hello, welcome to FSDS 2.0 at iNeuron.\"\n",
    "```\n",
    "3. Write a program that takes your full name as input and displays the abbreviations of the first and middle names except the last name which is displayed as it is. For example, if your name is Sunny Bhaveen Chandra, then the output should be S.B.Chandra.\n",
    "\n",
    "4. Join all items in a list into a string, using a hash(`#`) character as separator:\n",
    "```python\n",
    "LIST = [\"My\", \"name\", \"is\", \"Rishav\", \"Dash\"]\n",
    "```\n",
    "5. Write example for the following string manipulation function,\n",
    "\n",
    "  ```\n",
    "  - isdecimal()\n",
    "  - islower()\n",
    "  - isupper()\n",
    "  - isalpha()\n",
    "  - isnumeric()\n",
    "\n",
    "  ```\n",
    "6. Indian PAN card format follows the following formats - \n",
    "    - `AYEPC7894X`\n",
    "    - `ABCDE9999Y`\n",
    "  Take user input for PAN_CARD and validate as per the above example.\n"
   ]
  },
  {
   "cell_type": "markdown",
   "metadata": {
    "id": "KwVni9gipNi-"
   },
   "source": [
    "#### 1. Count the number of times iNeuron appears in the string."
   ]
  },
  {
   "cell_type": "code",
   "execution_count": 1,
   "metadata": {},
   "outputs": [],
   "source": [
    "text = \"Welcome to iNeuron, You are a part of FSDS Bootcamp 2 in iNeuron. I hope you are enjoying the course by iNeuron\""
   ]
  },
  {
   "cell_type": "code",
   "execution_count": 2,
   "metadata": {},
   "outputs": [
    {
     "data": {
      "text/plain": [
       "3"
      ]
     },
     "execution_count": 2,
     "metadata": {},
     "output_type": "execute_result"
    }
   ],
   "source": [
    "text.count('iNeuron')  #using count function"
   ]
  },
  {
   "cell_type": "markdown",
   "metadata": {},
   "source": [
    "#### 2.Check if position 5 to 11 ends with the phrase iNeuron. in the string"
   ]
  },
  {
   "cell_type": "code",
   "execution_count": 91,
   "metadata": {},
   "outputs": [],
   "source": [
    "txt = \"Hello, welcome to FSDS 2.0 at iNeuron.\""
   ]
  },
  {
   "cell_type": "code",
   "execution_count": 93,
   "metadata": {},
   "outputs": [
    {
     "name": "stdout",
     "output_type": "stream",
     "text": [
      ", welc\n"
     ]
    }
   ],
   "source": [
    "print(txt[5:11])"
   ]
  },
  {
   "cell_type": "code",
   "execution_count": 97,
   "metadata": {},
   "outputs": [
    {
     "data": {
      "text/plain": [
       "False"
      ]
     },
     "execution_count": 97,
     "metadata": {},
     "output_type": "execute_result"
    }
   ],
   "source": [
    "txt[5:11].endswith(\"iNeuron.\")"
   ]
  },
  {
   "cell_type": "code",
   "execution_count": 99,
   "metadata": {},
   "outputs": [
    {
     "name": "stdout",
     "output_type": "stream",
     "text": [
      "iNeuron.\n"
     ]
    }
   ],
   "source": [
    "print(txt[30:])"
   ]
  },
  {
   "cell_type": "code",
   "execution_count": 98,
   "metadata": {},
   "outputs": [
    {
     "data": {
      "text/plain": [
       "True"
      ]
     },
     "execution_count": 98,
     "metadata": {},
     "output_type": "execute_result"
    }
   ],
   "source": [
    "txt[30:].endswith('iNeuron.')"
   ]
  },
  {
   "cell_type": "markdown",
   "metadata": {},
   "source": [
    "#### 3.Write a program that takes your full name as input and displays the abbreviations of the first and middle names except the last name which is displayed as it is. For example, if your name is Sunny Bhaveen Chandra, then the output should be S.B.Chandra."
   ]
  },
  {
   "cell_type": "code",
   "execution_count": 38,
   "metadata": {},
   "outputs": [
    {
     "name": "stdout",
     "output_type": "stream",
     "text": [
      "Enter the full name : Mahendra Singh Dhoni\n"
     ]
    }
   ],
   "source": [
    "name = input(\"Enter the full name : \")\n",
    "lst = name.split(\" \")"
   ]
  },
  {
   "cell_type": "code",
   "execution_count": 39,
   "metadata": {},
   "outputs": [
    {
     "name": "stdout",
     "output_type": "stream",
     "text": [
      "M.S.Dhoni.\n"
     ]
    }
   ],
   "source": [
    "result = (lst[0][0] + \".\" + lst[1][0] +\".\" +lst[2]+\".\")   #using + operator and slicing operationrednerus2@gmail.com\n",
    "\n",
    "print(result)"
   ]
  },
  {
   "cell_type": "markdown",
   "metadata": {},
   "source": [
    "#### 4.Join all items in a list into a string, using a hash(#) character as separator:"
   ]
  },
  {
   "cell_type": "code",
   "execution_count": 45,
   "metadata": {},
   "outputs": [],
   "source": [
    "LIST = [\"My\", \"name\", \"is\", \"Rishav\", \"Dash\"]"
   ]
  },
  {
   "cell_type": "code",
   "execution_count": 62,
   "metadata": {},
   "outputs": [
    {
     "data": {
      "text/plain": [
       "'MynameisRishavDash'"
      ]
     },
     "execution_count": 62,
     "metadata": {},
     "output_type": "execute_result"
    }
   ],
   "source": [
    "str1 = \"\".join(LIST)\n",
    "str1"
   ]
  },
  {
   "cell_type": "code",
   "execution_count": 63,
   "metadata": {},
   "outputs": [
    {
     "name": "stdout",
     "output_type": "stream",
     "text": [
      "M#y#n#a#m#e#i#s#R#i#s#h#a#v#D#a#s#h\n"
     ]
    }
   ],
   "source": [
    "result = \"#\".join(str1)\n",
    "print(result)"
   ]
  },
  {
   "cell_type": "markdown",
   "metadata": {},
   "source": [
    "#### 5.Write example for the following string manipulation function,"
   ]
  },
  {
   "cell_type": "code",
   "execution_count": 71,
   "metadata": {},
   "outputs": [
    {
     "name": "stdout",
     "output_type": "stream",
     "text": [
      "True\n"
     ]
    }
   ],
   "source": [
    "#isdecimal() - method returns True if all the characters in string are decimals (0-9) return True else False\n",
    "a = '378483' #contains all characters are decimals\n",
    "print(a.isdecimal())"
   ]
  },
  {
   "cell_type": "code",
   "execution_count": 72,
   "metadata": {},
   "outputs": [
    {
     "data": {
      "text/plain": [
       "False"
      ]
     },
     "execution_count": 72,
     "metadata": {},
     "output_type": "execute_result"
    }
   ],
   "source": [
    "b = \"32ladk3\" #contains some alphabets\n",
    "b.isdecimal()"
   ]
  },
  {
   "cell_type": "code",
   "execution_count": 115,
   "metadata": {},
   "outputs": [
    {
     "name": "stdout",
     "output_type": "stream",
     "text": [
      "False\n",
      "False\n",
      "False\n"
     ]
    }
   ],
   "source": [
    "c = \"⅔\" #it is exponent \n",
    "print(c.isdecimal())\n",
    "d = '13 89' #contains whitespaces\n",
    "print(d.isdecimal())\n",
    "expr = \"4²\"\n",
    "print(expr.isdecimal())"
   ]
  },
  {
   "cell_type": "code",
   "execution_count": 87,
   "metadata": {},
   "outputs": [
    {
     "name": "stdout",
     "output_type": "stream",
     "text": [
      "True\n"
     ]
    }
   ],
   "source": [
    "#islower()\n",
    "#This method returns True if all alphabets in a string are lowercase alphabets.\n",
    "a = \"bootcamp\"\n",
    "print(a.islower())"
   ]
  },
  {
   "cell_type": "code",
   "execution_count": 88,
   "metadata": {},
   "outputs": [
    {
     "name": "stdout",
     "output_type": "stream",
     "text": [
      "False\n"
     ]
    }
   ],
   "source": [
    "b = \"Write example for the following string manipulation function\"\n",
    "print(b.islower())"
   ]
  },
  {
   "cell_type": "code",
   "execution_count": 100,
   "metadata": {},
   "outputs": [
    {
     "name": "stdout",
     "output_type": "stream",
     "text": [
      "True\n"
     ]
    }
   ],
   "source": [
    "#isupper()\n",
    "#This method returns True if all alphabets in a string are uppercase alphabets.\n",
    "a = 'FULLSTACK'\n",
    "print(a.isupper())"
   ]
  },
  {
   "cell_type": "code",
   "execution_count": 101,
   "metadata": {},
   "outputs": [
    {
     "name": "stdout",
     "output_type": "stream",
     "text": [
      "True\n",
      "False\n",
      "False\n"
     ]
    }
   ],
   "source": [
    "#isalpha()\n",
    "#method is used to check whether all characters in the String is an alphabet.\n",
    "a = 'Datascience'\n",
    "b = 'Datascience2.0'\n",
    "c = 'Datascience Bootcamp'\n",
    "print(a.isalpha()) #all the chars are alphabets\n",
    "print(b.isalpha()) \n",
    "print(c.isalpha())"
   ]
  },
  {
   "cell_type": "code",
   "execution_count": 108,
   "metadata": {},
   "outputs": [
    {
     "name": "stdout",
     "output_type": "stream",
     "text": [
      "True\n"
     ]
    }
   ],
   "source": [
    "#isnumeric()\n",
    "#method returns “True” if all characters in the string are numeric characters, otherwise returns “False”. \n",
    "c = \"\\u0030\" # unicode for 0 and returns True for exponents also\n",
    "print(c.isnumeric())"
   ]
  },
  {
   "cell_type": "code",
   "execution_count": 110,
   "metadata": {},
   "outputs": [
    {
     "name": "stdout",
     "output_type": "stream",
     "text": [
      "True\n",
      "False\n",
      "False\n"
     ]
    }
   ],
   "source": [
    "b = \"\\u00B2\"\n",
    "c = '-1'\n",
    "d = '-1.5 '#unicode for ² and \"-1\" and \"1.5\" are NOT considered numeric values\n",
    "print(b.isnumeric())\n",
    "print(c.isnumeric())\n",
    "print(d.isnumeric())"
   ]
  },
  {
   "cell_type": "code",
   "execution_count": 113,
   "metadata": {},
   "outputs": [
    {
     "name": "stdout",
     "output_type": "stream",
     "text": [
      "True\n",
      "True\n"
     ]
    }
   ],
   "source": [
    "expr = \"4²\"\n",
    "print(expr.isnumeric())\n",
    "expr1 = \"⅔\"\n",
    "print(expr1.isnumeric())   #Return True for all exponent cases"
   ]
  },
  {
   "cell_type": "markdown",
   "metadata": {},
   "source": [
    "#### 6.Indian PAN card format follows the following formats"
   ]
  },
  {
   "cell_type": "code",
   "execution_count": 158,
   "metadata": {},
   "outputs": [
    {
     "name": "stdout",
     "output_type": "stream",
     "text": [
      "Enter the PAN card ID : AYEPC7894X\n",
      "The Given ID : AYEPC7894X is Valid PAN card ID\n"
     ]
    }
   ],
   "source": [
    "Pancard_Id  = input(\"Enter the PAN card ID : \")\n",
    "\n",
    "if len(Pancard_Id) == 10 and Pancard_Id[:5].isalpha() and Pancard_Id[5:9].isdigit() and Pancard_Id[-1].isalpha():\n",
    "    if Pancard_Id[:5].isupper() and Pancard_Id[-1].isupper():\n",
    "        print(f\"The Given ID : {Pancard_Id} is Valid PAN card ID\")\n",
    "    else:\n",
    "        Pancard_Id = Pancard_Id.upper()\n",
    "        print(f\"The Given ID : {Pancard_Id} is Valid PAN card ID\")\n",
    "else:\n",
    "    print(\"The Given ID  is invalid, Please retry again!!!\")\n",
    "        "
   ]
  },
  {
   "cell_type": "code",
   "execution_count": 160,
   "metadata": {},
   "outputs": [
    {
     "name": "stdout",
     "output_type": "stream",
     "text": [
      "Enter the PAN card ID : ayepc7894x\n",
      "The Given ID : AYEPC7894X is Valid PAN card ID\n"
     ]
    }
   ],
   "source": [
    "Pancard_Id  = input(\"Enter the PAN card ID : \")\n",
    "\n",
    "if len(Pancard_Id) == 10 and Pancard_Id[:5].isalpha() and Pancard_Id[5:9].isdigit() and Pancard_Id[-1].isalpha():\n",
    "    if Pancard_Id[:5].isupper() and Pancard_Id[-1].isupper():\n",
    "        print(f\"The Given ID : {Pancard_Id} is Valid PAN card ID\")\n",
    "    else:\n",
    "        Pancard_Id = Pancard_Id.upper()\n",
    "        print(f\"The Given ID : {Pancard_Id} is Valid PAN card ID\")\n",
    "else:\n",
    "    print(\"The Given ID  is invalid, Please retry again!!!\")"
   ]
  },
  {
   "cell_type": "code",
   "execution_count": 159,
   "metadata": {},
   "outputs": [
    {
     "name": "stdout",
     "output_type": "stream",
     "text": [
      "Enter the PAN card ID : 0000000000\n",
      "The Given ID  is invalid, Please retry again!!!\n"
     ]
    }
   ],
   "source": [
    "Pancard_Id  = input(\"Enter the PAN card ID : \")\n",
    "\n",
    "if len(Pancard_Id) == 10 and Pancard_Id[:5].isalpha() and Pancard_Id[5:9].isdigit() and Pancard_Id[-1].isalpha():\n",
    "    if Pancard_Id[:5].isupper() and Pancard_Id[-1].isupper():\n",
    "        print(f\"The Given ID : {Pancard_Id} is Valid PAN card ID\")\n",
    "    else:\n",
    "        Pancard_Id = Pancard_Id.upper()\n",
    "        print(f\"The Given ID : {Pancard_Id} is Valid PAN card ID\")\n",
    "else:\n",
    "    print(\"The Given ID  is invalid, Please retry again!!!\")"
   ]
  },
  {
   "cell_type": "code",
   "execution_count": 161,
   "metadata": {},
   "outputs": [
    {
     "name": "stdout",
     "output_type": "stream",
     "text": [
      "Enter the PAN card ID : ayep 7894x\n",
      "The Given ID  is invalid, Please retry again!!!\n"
     ]
    }
   ],
   "source": [
    "Pancard_Id  = input(\"Enter the PAN card ID : \")\n",
    "\n",
    "if len(Pancard_Id) == 10 and Pancard_Id[:5].isalpha() and Pancard_Id[5:9].isdigit() and Pancard_Id[-1].isalpha():\n",
    "    if Pancard_Id[:5].isupper() and Pancard_Id[-1].isupper():\n",
    "        print(f\"The Given ID : {Pancard_Id} is Valid PAN card ID\")\n",
    "    else:\n",
    "        Pancard_Id = Pancard_Id.upper()\n",
    "        print(f\"The Given ID : {Pancard_Id} is Valid PAN card ID\")\n",
    "else:\n",
    "    print(\"The Given ID  is invalid, Please retry again!!!\")"
   ]
  }
 ],
 "metadata": {
  "colab": {
   "collapsed_sections": [],
   "provenance": []
  },
  "kernelspec": {
   "display_name": "Python 3",
   "language": "python",
   "name": "python3"
  },
  "language_info": {
   "codemirror_mode": {
    "name": "ipython",
    "version": 3
   },
   "file_extension": ".py",
   "mimetype": "text/x-python",
   "name": "python",
   "nbconvert_exporter": "python",
   "pygments_lexer": "ipython3",
   "version": "3.8.8"
  }
 },
 "nbformat": 4,
 "nbformat_minor": 1
}
