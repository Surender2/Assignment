{
 "cells": [
  {
   "cell_type": "markdown",
   "id": "bfe8bbfb",
   "metadata": {},
   "source": [
    "#### 1.Write a Python Program to Add Two Matrices?"
   ]
  },
  {
   "cell_type": "code",
   "execution_count": 9,
   "id": "cdb90ef6",
   "metadata": {},
   "outputs": [
    {
     "name": "stdout",
     "output_type": "stream",
     "text": [
      "Enter the row number : 3\n",
      "Enter the column number : 3\n",
      "10\n",
      "10\n",
      "10\n",
      "10\n",
      "10\n",
      "10\n",
      "10\n",
      "10\n",
      "10\n",
      "Matrix1 is\n",
      "10 10 10 \n",
      "10 10 10 \n",
      "10 10 10 \n",
      "1\n",
      "1\n",
      "1\n",
      "1\n",
      "1\n",
      "1\n",
      "1\n",
      "1\n",
      "1\n",
      "Matrix2 is\n",
      "1  1  1  \n",
      "1  1  1  \n",
      "1  1  1  \n",
      "Result is\n",
      "[[11, 11, 11], [11, 11, 11], [11, 11, 11]]\n"
     ]
    }
   ],
   "source": [
    "#User defined input function\n",
    "def Addmatrix(row,col):\n",
    "    \n",
    "    row = int(input(\"Enter the row number : \"))\n",
    "    col = int(input(\"Enter the column number : \"))\n",
    "\n",
    "    matrix1 = [[int(input()) for j in range(col)] for i in range(row)]\n",
    "    print(\"Matrix1 is\")\n",
    "    for i in range(row):\n",
    "        for j in range(col):\n",
    "            print(format(matrix1[i][j],\"<3\"),end = \"\")\n",
    "        print()\n",
    "\n",
    "    matrix2 = [[int(input()) for j in range(col)] for i in range(row)]\n",
    "    print(\"Matrix2 is\")\n",
    "    for i in range(row):\n",
    "        for j in range(col):\n",
    "            print(format(matrix2[i][j],\"<3\"),end = \"\")\n",
    "        print()\n",
    "\n",
    "    result = [[0 for j in range(col)] for i in range(row)]\n",
    "\n",
    "    for i in range(row):\n",
    "        for j in range(col):\n",
    "            result[i][j] = matrix1[i][j] + matrix2[i][j]\n",
    "    print(\"Result is\")        \n",
    "    print(result)\n",
    "    \n",
    "Addmatrix(row,col)"
   ]
  },
  {
   "cell_type": "markdown",
   "id": "72ad5326",
   "metadata": {},
   "source": [
    "#### 2.Write a Python Program to Multiply Two Matrices?"
   ]
  },
  {
   "cell_type": "code",
   "execution_count": 1,
   "id": "ad31eadc",
   "metadata": {},
   "outputs": [
    {
     "name": "stdout",
     "output_type": "stream",
     "text": [
      "The Enter the number of rows in the matrix1 : 2\n",
      "The Enter the number of columns in the matrix2 : 2\n",
      "The Enter the number of columns in matrix1/ the number of rows in matrix2 : 3\n",
      "1\n",
      "2\n",
      "3\n",
      "4\n",
      "5\n",
      "6\n",
      "Matrix1 : \n",
      "1  2  3  \n",
      "4  5  6  \n",
      "1\n",
      "2\n",
      "3\n",
      "4\n",
      "5\n",
      "6\n",
      "Matrix2 : \n",
      "1  2  \n",
      "3  4  \n",
      "5  6  \n",
      "The Resultant matrix : \n",
      "22 28 \n",
      "49 64 \n",
      "[[22, 28], [49, 64]]\n"
     ]
    }
   ],
   "source": [
    "def mult_mat():\n",
    "    p = int(input(\"The Enter the number of rows in the matrix1 : \"))\n",
    "    q = int(input(\"The Enter the number of columns in the matrix2 : \"))\n",
    "    n = int(input(\"The Enter the number of columns in matrix1/ the number of rows in matrix2 : \"))\n",
    "    \n",
    "    matrix1 = [[int(input()) for i in range(n)] for j in range(p)]\n",
    "    print(\"Matrix1 : \")\n",
    "    \n",
    "    for i in range(p):\n",
    "        for j in range(n):\n",
    "            print(format(matrix1[i][j], \"<3\"), end = \"\")\n",
    "        print()\n",
    "        \n",
    "    matrix2 = [[int(input()) for i in range(q)] for j in range(n)]\n",
    "    print(\"Matrix2 : \")\n",
    "    \n",
    "    for i in range(n):\n",
    "        for j in range(q):\n",
    "            print(format(matrix2[i][j], \"<3\"), end = \"\")\n",
    "        print()\n",
    "        \n",
    "    result = [[0 for i in range(q)] for i in range(p)]\n",
    "   \n",
    "    \n",
    "    for i in range(p):\n",
    "        for j in range(q):\n",
    "            for k in range(n):\n",
    "                result[i][j] = result[i][j] + matrix1[i][k] * matrix2[k][j]\n",
    "                \n",
    "    print(\"The Resultant matrix : \")        \n",
    "    for i in range(p):\n",
    "        for j in range(q):\n",
    "            print(format(result[i][j], \"<3\"), end = \"\")\n",
    "        print()\n",
    "            \n",
    "    print(result)\n",
    "    \n",
    "mult_mat()"
   ]
  },
  {
   "cell_type": "markdown",
   "id": "f21a5055",
   "metadata": {},
   "source": [
    "#### 3.Write a Python Program to Transpose a Matrix?"
   ]
  },
  {
   "cell_type": "code",
   "execution_count": 8,
   "id": "798e202e",
   "metadata": {},
   "outputs": [
    {
     "name": "stdout",
     "output_type": "stream",
     "text": [
      "Enter the number of rows : 2\n",
      "Enter the number of cols : 3\n",
      "Enter the elements in matrix1 : \n",
      "1\n",
      "2\n",
      "3\n",
      "4\n",
      "5\n",
      "6\n",
      "Enter the matrix1 : \n",
      "1  2  3  \n",
      "4  5  6  \n",
      "Transposed Matrix : \n",
      "1  4  \n",
      "2  5  \n",
      "3  6  \n",
      "[[1, 2, 3], [4, 5, 6]]\n"
     ]
    }
   ],
   "source": [
    "def transpose():\n",
    "    row = int(input(\"Enter the number of rows : \"))\n",
    "    col = int(input(\"Enter the number of cols : \"))\n",
    "    \n",
    "    print(\"Enter the elements in matrix1 : \")\n",
    "    matrix1 = [[int(input()) for i in range(col)] for j in range(row)]\n",
    "    \n",
    "    print(\"Enter the matrix1 : \")\n",
    "    for i in range(row):\n",
    "        for j in range(col):\n",
    "            print(format(matrix1[i][j],\"<3\"),end = \"\")\n",
    "        print()\n",
    "        \n",
    "    result = [[0 for i in range(row)] for j in range(col)]\n",
    "    for i in range(col):\n",
    "        for j in range(row):\n",
    "            result[i][j] = matrix1[j][i]\n",
    "            \n",
    "            \n",
    "    print(\"Transposed Matrix : \")\n",
    "    for i in range(col):\n",
    "        for j in range(row):\n",
    "            print(format(result[i][j],\"<3\"),end = \"\")\n",
    "        print()\n",
    "            \n",
    "    print(matrix1)\n",
    "    \n",
    "transpose()"
   ]
  },
  {
   "cell_type": "markdown",
   "id": "370a9389",
   "metadata": {},
   "source": [
    "#### 4.Write a Python Program to Sort Words in Alphabetic Order?"
   ]
  },
  {
   "cell_type": "code",
   "execution_count": 11,
   "id": "2d8925a8",
   "metadata": {},
   "outputs": [
    {
     "name": "stdout",
     "output_type": "stream",
     "text": [
      "Enter the string : python program to sort words in Alphabetic Order\n",
      "Alphabetic\n",
      "Order\n",
      "in\n",
      "program\n",
      "python\n",
      "sort\n",
      "to\n",
      "words\n"
     ]
    },
    {
     "data": {
      "text/plain": [
       "[['Alphabetic', 'Order', 'in', 'program', 'python', 'sort', 'to', 'words']]"
      ]
     },
     "execution_count": 11,
     "metadata": {},
     "output_type": "execute_result"
    }
   ],
   "source": [
    "def sort_alpha():\n",
    "    lst = []\n",
    "    words = (input(\"Enter the string : \"))\n",
    "    mystr = words.split()\n",
    "    mystr.sort()\n",
    "    \n",
    "    lst.append(mystr)\n",
    "    \n",
    "    for i in mystr:\n",
    "        print(i)\n",
    "        \n",
    "    return lst\n",
    "        \n",
    "sort_alpha()"
   ]
  },
  {
   "cell_type": "markdown",
   "id": "f83c0c51",
   "metadata": {},
   "source": [
    "#### 5. Write a Python Program to Remove Punctuation From a String?"
   ]
  },
  {
   "cell_type": "code",
   "execution_count": 12,
   "id": "d22c5616",
   "metadata": {},
   "outputs": [
    {
     "data": {
      "text/plain": [
       "'Hello Notebook Try my best  to complete this assignment on time '"
      ]
     },
     "execution_count": 12,
     "metadata": {},
     "output_type": "execute_result"
    }
   ],
   "source": [
    "#Inorder to remove the Punctuation we can filter from defined punctuation\n",
    "\n",
    "def remove_punctuation():\n",
    "    \n",
    "    punctuation = \"\"\"!()-[]{};:'\"\\,<>./?@#$%^&*_~\"\"\" #These were punctuation which i came across.\n",
    "\n",
    "    words = \"Hello!!! Notebook, ~Try my best __ to complete this assignment on time. ??\"\n",
    "    \n",
    "    no_punt = \"\"\n",
    "    \n",
    "    for i in words:\n",
    "        if i not in punctuation:\n",
    "            no_punt += i\n",
    "            \n",
    "    return no_punt\n",
    "    \n",
    "remove_punctuation()"
   ]
  }
 ],
 "metadata": {
  "kernelspec": {
   "display_name": "Python 3",
   "language": "python",
   "name": "python3"
  },
  "language_info": {
   "codemirror_mode": {
    "name": "ipython",
    "version": 3
   },
   "file_extension": ".py",
   "mimetype": "text/x-python",
   "name": "python",
   "nbconvert_exporter": "python",
   "pygments_lexer": "ipython3",
   "version": "3.8.8"
  }
 },
 "nbformat": 4,
 "nbformat_minor": 5
}
