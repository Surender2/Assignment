{
 "cells": [
  {
   "cell_type": "markdown",
   "id": "b4a9c6c5",
   "metadata": {},
   "source": [
    "#### 1. Find out all the types of error that we have encountered in our lecture and why ? Also include the examples"
   ]
  },
  {
   "cell_type": "markdown",
   "id": "47045501",
   "metadata": {},
   "source": [
    "#### 1.Name Error"
   ]
  },
  {
   "cell_type": "code",
   "execution_count": 1,
   "id": "245912f3",
   "metadata": {},
   "outputs": [
    {
     "ename": "NameError",
     "evalue": "name 'Print' is not defined",
     "output_type": "error",
     "traceback": [
      "\u001b[1;31m---------------------------------------------------------------------------\u001b[0m",
      "\u001b[1;31mNameError\u001b[0m                                 Traceback (most recent call last)",
      "\u001b[1;32m<ipython-input-1-35ceb22ef007>\u001b[0m in \u001b[0;36m<module>\u001b[1;34m\u001b[0m\n\u001b[1;32m----> 1\u001b[1;33m \u001b[0mPrint\u001b[0m\u001b[1;33m(\u001b[0m\u001b[1;34m\"Good Evening\"\u001b[0m\u001b[1;33m)\u001b[0m\u001b[1;33m\u001b[0m\u001b[1;33m\u001b[0m\u001b[0m\n\u001b[0m",
      "\u001b[1;31mNameError\u001b[0m: name 'Print' is not defined"
     ]
    }
   ],
   "source": [
    "Print(\"Good Evening\")"
   ]
  },
  {
   "cell_type": "code",
   "execution_count": 6,
   "id": "74998f62",
   "metadata": {},
   "outputs": [
    {
     "name": "stdout",
     "output_type": "stream",
     "text": [
      "Good Evening\n"
     ]
    }
   ],
   "source": [
    "print(\"Good Evening\")"
   ]
  },
  {
   "cell_type": "code",
   "execution_count": 2,
   "id": "27109bec",
   "metadata": {},
   "outputs": [],
   "source": [
    "#'Print' is function in python which prints the given object to the standard output device\n",
    "# here the function is in invalid format (case sensitive) i.e <Print> instead of <print>"
   ]
  },
  {
   "cell_type": "markdown",
   "id": "ce5a7f30",
   "metadata": {},
   "source": [
    "#### 2. Syntax Errror"
   ]
  },
  {
   "cell_type": "code",
   "execution_count": 3,
   "id": "40d67a92",
   "metadata": {},
   "outputs": [
    {
     "ename": "SyntaxError",
     "evalue": "EOL while scanning string literal (<ipython-input-3-f065c2c370f4>, line 1)",
     "output_type": "error",
     "traceback": [
      "\u001b[1;36m  File \u001b[1;32m\"<ipython-input-3-f065c2c370f4>\"\u001b[1;36m, line \u001b[1;32m1\u001b[0m\n\u001b[1;33m    print(\"Good\u001b[0m\n\u001b[1;37m                ^\u001b[0m\n\u001b[1;31mSyntaxError\u001b[0m\u001b[1;31m:\u001b[0m EOL while scanning string literal\n"
     ]
    }
   ],
   "source": [
    "print(\"Good \n",
    "Evening\")"
   ]
  },
  {
   "cell_type": "code",
   "execution_count": 8,
   "id": "9a1954d3",
   "metadata": {},
   "outputs": [
    {
     "name": "stdout",
     "output_type": "stream",
     "text": [
      "Good\n",
      "Evening\n"
     ]
    }
   ],
   "source": [
    "print(\"\"\"Good\n",
    "Evening\"\"\")"
   ]
  },
  {
   "cell_type": "code",
   "execution_count": 11,
   "id": "c472b5c8",
   "metadata": {},
   "outputs": [
    {
     "name": "stdout",
     "output_type": "stream",
     "text": [
      "Good \n",
      "Evening\n"
     ]
    }
   ],
   "source": [
    "print(\"Good \\nEvening\")"
   ]
  },
  {
   "cell_type": "code",
   "execution_count": 5,
   "id": "bfb5f576",
   "metadata": {},
   "outputs": [],
   "source": [
    "# Since python is interpretor Language, it scans each line of code.when it tried to scan the string literal.\n",
    "# It must be enclosed in single and double quotation marks or may be '\\n' --> newline character. \n",
    "# It must match the beginning and ending quotation marks or or triple quotes for multiline statement."
   ]
  },
  {
   "cell_type": "markdown",
   "id": "2a9b52e6",
   "metadata": {},
   "source": [
    "#### 2.1 Syntax Error "
   ]
  },
  {
   "cell_type": "code",
   "execution_count": 12,
   "id": "265666b5",
   "metadata": {},
   "outputs": [
    {
     "ename": "SyntaxError",
     "evalue": "invalid syntax (<ipython-input-12-c05eadb38bca>, line 1)",
     "output_type": "error",
     "traceback": [
      "\u001b[1;36m  File \u001b[1;32m\"<ipython-input-12-c05eadb38bca>\"\u001b[1;36m, line \u001b[1;32m1\u001b[0m\n\u001b[1;33m    print(\"Hi my name is \"Sunny\" \")\u001b[0m\n\u001b[1;37m                          ^\u001b[0m\n\u001b[1;31mSyntaxError\u001b[0m\u001b[1;31m:\u001b[0m invalid syntax\n"
     ]
    }
   ],
   "source": [
    "print(\"Hi my name is \"Sunny\" \")"
   ]
  },
  {
   "cell_type": "code",
   "execution_count": null,
   "id": "79040e4c",
   "metadata": {},
   "outputs": [],
   "source": [
    "# It is syntax error,stating invalid syntax i.e we can't use double quotes inside string rather we can use triple quotes\n",
    "# or single quotes or we can even escape charater to overcome this issue."
   ]
  },
  {
   "cell_type": "code",
   "execution_count": 13,
   "id": "6cbedeb9",
   "metadata": {},
   "outputs": [
    {
     "name": "stdout",
     "output_type": "stream",
     "text": [
      "Hi my name is \"Sunny\" \n"
     ]
    }
   ],
   "source": [
    "print(\"Hi my name is \\\"Sunny\\\" \")"
   ]
  },
  {
   "cell_type": "code",
   "execution_count": 14,
   "id": "bc2291cf",
   "metadata": {},
   "outputs": [
    {
     "name": "stdout",
     "output_type": "stream",
     "text": [
      "Hi my name is \"Sunny\" \n"
     ]
    }
   ],
   "source": [
    "print(\"\"\"Hi my name is \"Sunny\" \"\"\")"
   ]
  },
  {
   "cell_type": "code",
   "execution_count": 15,
   "id": "77a53430",
   "metadata": {},
   "outputs": [
    {
     "name": "stdout",
     "output_type": "stream",
     "text": [
      "Hi my name is \"Sunny\"\n"
     ]
    }
   ],
   "source": [
    "print('Hi my name is \"Sunny\"')"
   ]
  },
  {
   "cell_type": "markdown",
   "id": "17e39fc8",
   "metadata": {},
   "source": [
    "#### 2.2 Syntax Error "
   ]
  },
  {
   "cell_type": "code",
   "execution_count": 16,
   "id": "7facae4b",
   "metadata": {},
   "outputs": [
    {
     "ename": "SyntaxError",
     "evalue": "invalid syntax (<ipython-input-16-186f8d3ec400>, line 1)",
     "output_type": "error",
     "traceback": [
      "\u001b[1;36m  File \u001b[1;32m\"<ipython-input-16-186f8d3ec400>\"\u001b[1;36m, line \u001b[1;32m1\u001b[0m\n\u001b[1;33m    ten* = 10\u001b[0m\n\u001b[1;37m         ^\u001b[0m\n\u001b[1;31mSyntaxError\u001b[0m\u001b[1;31m:\u001b[0m invalid syntax\n"
     ]
    }
   ],
   "source": [
    "ten* = 10"
   ]
  },
  {
   "cell_type": "code",
   "execution_count": null,
   "id": "3f7196db",
   "metadata": {},
   "outputs": [],
   "source": [
    "# Here we can't use special characters in variables. Since variables is combination of lowercase or uppercase or digits(0-9)\n",
    "# or underscore.\n",
    "# It cannot start with a digit.\n",
    "# keywords can't be used as variables.\n",
    "# we cannot use special characters like !,%,@,$,# etc..."
   ]
  },
  {
   "cell_type": "code",
   "execution_count": 17,
   "id": "b3551d74",
   "metadata": {},
   "outputs": [],
   "source": [
    "ten_ = 10"
   ]
  },
  {
   "cell_type": "markdown",
   "id": "86441307",
   "metadata": {},
   "source": [
    "#### 3. Type Error"
   ]
  },
  {
   "cell_type": "code",
   "execution_count": 18,
   "id": "4fd2d868",
   "metadata": {},
   "outputs": [
    {
     "ename": "TypeError",
     "evalue": "can only concatenate str (not \"int\") to str",
     "output_type": "error",
     "traceback": [
      "\u001b[1;31m---------------------------------------------------------------------------\u001b[0m",
      "\u001b[1;31mTypeError\u001b[0m                                 Traceback (most recent call last)",
      "\u001b[1;32m<ipython-input-18-f9dbf96c2523>\u001b[0m in \u001b[0;36m<module>\u001b[1;34m\u001b[0m\n\u001b[1;32m----> 1\u001b[1;33m \u001b[1;34m\"Day \"\u001b[0m \u001b[1;33m+\u001b[0m \u001b[1;36m1\u001b[0m\u001b[1;33m\u001b[0m\u001b[1;33m\u001b[0m\u001b[0m\n\u001b[0m",
      "\u001b[1;31mTypeError\u001b[0m: can only concatenate str (not \"int\") to str"
     ]
    }
   ],
   "source": [
    "\"Day \" + 1"
   ]
  },
  {
   "cell_type": "code",
   "execution_count": null,
   "id": "b95bfc51",
   "metadata": {},
   "outputs": [],
   "source": [
    "# It is type error, stating can concatenate str to str. which means we can use two strings to add or concatenate them."
   ]
  },
  {
   "cell_type": "code",
   "execution_count": 19,
   "id": "722a3878",
   "metadata": {},
   "outputs": [
    {
     "data": {
      "text/plain": [
       "'Day 1'"
      ]
     },
     "execution_count": 19,
     "metadata": {},
     "output_type": "execute_result"
    }
   ],
   "source": [
    "\"Day \" + str(1)"
   ]
  },
  {
   "cell_type": "markdown",
   "id": "d63e6db9",
   "metadata": {},
   "source": [
    "#### 3.1 Type Error"
   ]
  },
  {
   "cell_type": "code",
   "execution_count": 20,
   "id": "e0543c91",
   "metadata": {},
   "outputs": [
    {
     "data": {
      "text/plain": [
       "str"
      ]
     },
     "execution_count": 20,
     "metadata": {},
     "output_type": "execute_result"
    }
   ],
   "source": [
    "print = \"Hi there\" # as a variable\n",
    "type(print)"
   ]
  },
  {
   "cell_type": "code",
   "execution_count": 21,
   "id": "c403488b",
   "metadata": {},
   "outputs": [
    {
     "ename": "TypeError",
     "evalue": "'str' object is not callable",
     "output_type": "error",
     "traceback": [
      "\u001b[1;31m---------------------------------------------------------------------------\u001b[0m",
      "\u001b[1;31mTypeError\u001b[0m                                 Traceback (most recent call last)",
      "\u001b[1;32m<ipython-input-21-67ee3d3b1c34>\u001b[0m in \u001b[0;36m<module>\u001b[1;34m\u001b[0m\n\u001b[1;32m----> 1\u001b[1;33m \u001b[0mprint\u001b[0m\u001b[1;33m(\u001b[0m\u001b[1;34m\"Hi there\"\u001b[0m\u001b[1;33m)\u001b[0m\u001b[1;33m\u001b[0m\u001b[1;33m\u001b[0m\u001b[0m\n\u001b[0m",
      "\u001b[1;31mTypeError\u001b[0m: 'str' object is not callable"
     ]
    }
   ],
   "source": [
    "print(\"Hi there\")"
   ]
  },
  {
   "cell_type": "code",
   "execution_count": null,
   "id": "d8188116",
   "metadata": {},
   "outputs": [],
   "source": [
    "# This is Type error where print built-in function is used as variable. In order to overcome this we need del the print\n",
    "# function and post that it would be working fine."
   ]
  },
  {
   "cell_type": "code",
   "execution_count": 22,
   "id": "55a11baa",
   "metadata": {},
   "outputs": [],
   "source": [
    "del print"
   ]
  },
  {
   "cell_type": "code",
   "execution_count": 23,
   "id": "e9def154",
   "metadata": {},
   "outputs": [
    {
     "name": "stdout",
     "output_type": "stream",
     "text": [
      "Hi there\n"
     ]
    }
   ],
   "source": [
    "print(\"Hi there\")"
   ]
  },
  {
   "cell_type": "markdown",
   "id": "b4520fe7",
   "metadata": {},
   "source": [
    "#### 3.2 Type Error"
   ]
  },
  {
   "cell_type": "code",
   "execution_count": 24,
   "id": "d727017b",
   "metadata": {},
   "outputs": [
    {
     "ename": "TypeError",
     "evalue": "cannot unpack non-iterable int object",
     "output_type": "error",
     "traceback": [
      "\u001b[1;31m---------------------------------------------------------------------------\u001b[0m",
      "\u001b[1;31mTypeError\u001b[0m                                 Traceback (most recent call last)",
      "\u001b[1;32m<ipython-input-24-2ddb65653bd1>\u001b[0m in \u001b[0;36m<module>\u001b[1;34m\u001b[0m\n\u001b[1;32m----> 1\u001b[1;33m \u001b[0ma\u001b[0m\u001b[1;33m,\u001b[0m\u001b[0mb\u001b[0m\u001b[1;33m,\u001b[0m\u001b[0mc\u001b[0m \u001b[1;33m=\u001b[0m \u001b[1;36m10\u001b[0m\u001b[1;33m\u001b[0m\u001b[1;33m\u001b[0m\u001b[0m\n\u001b[0m",
      "\u001b[1;31mTypeError\u001b[0m: cannot unpack non-iterable int object"
     ]
    }
   ],
   "source": [
    "a,b,c = 10"
   ]
  },
  {
   "cell_type": "code",
   "execution_count": null,
   "id": "084a2ea7",
   "metadata": {},
   "outputs": [],
   "source": [
    "# This one is type error where in 3 variables are declared and only one data value is assigned."
   ]
  },
  {
   "cell_type": "code",
   "execution_count": 25,
   "id": "239ba244",
   "metadata": {},
   "outputs": [],
   "source": [
    "a = b = c = 10"
   ]
  },
  {
   "cell_type": "code",
   "execution_count": 27,
   "id": "24591c52",
   "metadata": {},
   "outputs": [
    {
     "name": "stdout",
     "output_type": "stream",
     "text": [
      "10\n",
      "10\n",
      "10\n"
     ]
    }
   ],
   "source": [
    "print(a)\n",
    "print(b)\n",
    "print(c)"
   ]
  },
  {
   "cell_type": "code",
   "execution_count": 28,
   "id": "a5082f4a",
   "metadata": {},
   "outputs": [],
   "source": [
    "a,b,c = 10,10,10"
   ]
  },
  {
   "cell_type": "markdown",
   "id": "c375b732",
   "metadata": {},
   "source": [
    "#### 3.3 Type Error"
   ]
  },
  {
   "cell_type": "code",
   "execution_count": 29,
   "id": "5f3b6c00",
   "metadata": {},
   "outputs": [
    {
     "name": "stdout",
     "output_type": "stream",
     "text": [
      "Name: SURENDER\n",
      "place: Bengaluru\n",
      "year_of_birth: 1995\n"
     ]
    },
    {
     "ename": "TypeError",
     "evalue": "unsupported operand type(s) for -: 'int' and 'str'",
     "output_type": "error",
     "traceback": [
      "\u001b[1;31m---------------------------------------------------------------------------\u001b[0m",
      "\u001b[1;31mTypeError\u001b[0m                                 Traceback (most recent call last)",
      "\u001b[1;32m<ipython-input-29-67e2a71bae56>\u001b[0m in \u001b[0;36m<module>\u001b[1;34m\u001b[0m\n\u001b[0;32m      3\u001b[0m \u001b[0myear_of_birth\u001b[0m \u001b[1;33m=\u001b[0m \u001b[0minput\u001b[0m\u001b[1;33m(\u001b[0m\u001b[1;34m\"year_of_birth: \"\u001b[0m\u001b[1;33m)\u001b[0m\u001b[1;33m\u001b[0m\u001b[1;33m\u001b[0m\u001b[0m\n\u001b[0;32m      4\u001b[0m \u001b[1;33m\u001b[0m\u001b[0m\n\u001b[1;32m----> 5\u001b[1;33m \u001b[0mage\u001b[0m \u001b[1;33m=\u001b[0m \u001b[1;36m2022\u001b[0m \u001b[1;33m-\u001b[0m \u001b[0myear_of_birth\u001b[0m\u001b[1;33m\u001b[0m\u001b[1;33m\u001b[0m\u001b[0m\n\u001b[0m\u001b[0;32m      6\u001b[0m \u001b[1;33m\u001b[0m\u001b[0m\n\u001b[0;32m      7\u001b[0m print(f\"\"\"\n",
      "\u001b[1;31mTypeError\u001b[0m: unsupported operand type(s) for -: 'int' and 'str'"
     ]
    }
   ],
   "source": [
    "name = input(\"Name: \") # always gives you string values\n",
    "place = input(\"place: \")\n",
    "year_of_birth = input(\"year_of_birth: \")\n",
    "\n",
    "age = 2022 - year_of_birth\n",
    "\n",
    "print(f\"\"\"\n",
    "My name is: {name}\n",
    "I live at: {place}\n",
    "{name} is of age: {age}\n",
    "\"\"\")"
   ]
  },
  {
   "cell_type": "code",
   "execution_count": 33,
   "id": "48a8de6b",
   "metadata": {},
   "outputs": [],
   "source": [
    "# This one is type error where while perforiming arithemetic operation we need to numbers(int,float).\n",
    "# here input gives str data type and hence convert it into int"
   ]
  },
  {
   "cell_type": "code",
   "execution_count": 32,
   "id": "eddc50fc",
   "metadata": {},
   "outputs": [
    {
     "name": "stdout",
     "output_type": "stream",
     "text": [
      "Name: SURENDER S K\n",
      "place: Bengaluru\n",
      "year_of_birth: 1995\n",
      "\n",
      "My name is: SURENDER S K\n",
      "I live at: Bengaluru\n",
      "SURENDER S K is of age: 27\n",
      "\n"
     ]
    }
   ],
   "source": [
    "name = (input(\"Name: \")) # always gives you string values\n",
    "place = input(\"place: \")\n",
    "year_of_birth = int(input(\"year_of_birth: \"))\n",
    "\n",
    "age = 2022 - year_of_birth\n",
    "\n",
    "print(f\"\"\"\n",
    "My name is: {name}\n",
    "I live at: {place}\n",
    "{name} is of age: {age}\n",
    "\"\"\")"
   ]
  },
  {
   "cell_type": "markdown",
   "id": "6c9effbd",
   "metadata": {},
   "source": [
    "#### 2. Take input user A and B and print their sum, multiplication,division,square of the No.s"
   ]
  },
  {
   "cell_type": "code",
   "execution_count": 20,
   "id": "288fed8c",
   "metadata": {},
   "outputs": [
    {
     "name": "stdout",
     "output_type": "stream",
     "text": [
      "Enter the First Number : 5\n",
      "Enter the Second Number : 6\n",
      "The Sum of 5.0 and 6.0 : 11.0\n",
      "The Multiplication of 5.0 and 6.0 : 30.0\n",
      "The Division of 5.0 and 6.0 : 0.83\n",
      "The Square of 5.0 and 6.0 : 15625.0\n"
     ]
    }
   ],
   "source": [
    "A = float(input(\"Enter the First Number : \"))\n",
    "B = float(input(\"Enter the Second Number : \"))\n",
    "print(f\"The Sum of {A} and {B} : {A+B}\")\n",
    "print(f\"The Multiplication of {A} and {B} : {A*B}\")\n",
    "print(f\"The Division of {A} and {B} : {round(A/B,2)}\")\n",
    "print(f\"The Square of {A} and {B} : {A**B}\")"
   ]
  },
  {
   "cell_type": "markdown",
   "id": "e5f54569",
   "metadata": {},
   "source": [
    "#### How many reserve keywords are there in python and why we should not use them as a variable name."
   ]
  },
  {
   "cell_type": "code",
   "execution_count": 3,
   "id": "28a4b993",
   "metadata": {},
   "outputs": [],
   "source": [
    "import keyword"
   ]
  },
  {
   "cell_type": "code",
   "execution_count": 10,
   "id": "f32da87f",
   "metadata": {},
   "outputs": [
    {
     "name": "stdout",
     "output_type": "stream",
     "text": [
      "The reserve keywords present in the python are : ['False', 'None', 'True', 'and', 'as', 'assert', 'async', 'await', 'break', 'class', 'continue', 'def', 'del', 'elif', 'else', 'except', 'finally', 'for', 'from', 'global', 'if', 'import', 'in', 'is', 'lambda', 'nonlocal', 'not', 'or', 'pass', 'raise', 'return', 'try', 'while', 'with', 'yield']\n"
     ]
    }
   ],
   "source": [
    "print(\"The reserve keywords present in the python are : {}\".format(keyword.kwlist))"
   ]
  },
  {
   "cell_type": "code",
   "execution_count": 11,
   "id": "fadf8d9d",
   "metadata": {},
   "outputs": [
    {
     "name": "stdout",
     "output_type": "stream",
     "text": [
      "The Total Number of Keywords present in the keyword : 35\n"
     ]
    }
   ],
   "source": [
    "print(\"The Total Number of Keywords present in the keyword : {}\".format(len(keyword.kwlist)))"
   ]
  },
  {
   "cell_type": "code",
   "execution_count": 48,
   "id": "588472a3",
   "metadata": {},
   "outputs": [],
   "source": [
    "# The Keywords are reserved words in python.\n",
    "# We can't use keyword as function name, variable name or any other identifier. They are used to define syntax and \n",
    "# structure in python and They also case sensitive."
   ]
  },
  {
   "cell_type": "markdown",
   "id": "73b3cab7",
   "metadata": {},
   "source": [
    "#### Create email id with user input in the following format - lastname.firstname@gmail.com"
   ]
  },
  {
   "cell_type": "code",
   "execution_count": 15,
   "id": "cff409dc",
   "metadata": {},
   "outputs": [],
   "source": [
    "firstname,middlename,lastname = \"sk\",\"\",\"Surender\""
   ]
  },
  {
   "cell_type": "code",
   "execution_count": 16,
   "id": "34687763",
   "metadata": {},
   "outputs": [
    {
     "name": "stdout",
     "output_type": "stream",
     "text": [
      "Surender.sk@gmail.com\n"
     ]
    }
   ],
   "source": [
    "print(f\"{lastname}.{firstname}@gmail.com\") #Formatted string approach"
   ]
  },
  {
   "cell_type": "code",
   "execution_count": 18,
   "id": "8857d80f",
   "metadata": {},
   "outputs": [
    {
     "name": "stdout",
     "output_type": "stream",
     "text": [
      "Surender.sk@gmail.com\n"
     ]
    }
   ],
   "source": [
    "print(\"{0}.{1}@gmail.com\".format(lastname,firstname)) ## Old way"
   ]
  },
  {
   "cell_type": "markdown",
   "id": "a350f188",
   "metadata": {},
   "source": [
    "#### Try to print the following Lines\n",
    "##### Hi I'm Sunny\n",
    "##### My address is 22/3\n",
    "##### I earn 20$ daily"
   ]
  },
  {
   "cell_type": "code",
   "execution_count": 17,
   "id": "5725f612",
   "metadata": {},
   "outputs": [
    {
     "name": "stdout",
     "output_type": "stream",
     "text": [
      "\n",
      "Hi I'm Sunny\n",
      "My address is 22/3\n",
      "I earn 20$ daily\n",
      "\n"
     ]
    }
   ],
   "source": [
    "print(\"\"\"\n",
    "Hi I'm Sunny\n",
    "My address is 22/3\n",
    "I earn 20$ daily\n",
    "\"\"\")"
   ]
  },
  {
   "cell_type": "markdown",
   "id": "f8b604be",
   "metadata": {},
   "source": [
    "#### Take user input to input(name, address, data_of_birth) to fill a form for your college and print their email IDs"
   ]
  },
  {
   "cell_type": "code",
   "execution_count": 47,
   "id": "a244c282",
   "metadata": {},
   "outputs": [
    {
     "name": "stdout",
     "output_type": "stream",
     "text": [
      "Enter the Firstname : Surender\n",
      "Enter the Lastname : sk\n",
      "Enter the address : Benagluru 22/3\n",
      "Enter the Year of Birth : 1995\n",
      "The Student's Email I'd : Surender.sk@gmailcom\n"
     ]
    }
   ],
   "source": [
    "firstname = input(\"Enter the Firstname : \")\n",
    "lastname = input(\"Enter the Lastname : \")\n",
    "address = input(\"Enter the address : \")\n",
    "year_of_birth = int(input(\"Enter the Year of Birth : \"))\n",
    "print(f\"The Student's Email I'd : {firstname}.{lastname}@gmailcom\")"
   ]
  },
  {
   "cell_type": "markdown",
   "id": "7a467a4c",
   "metadata": {},
   "source": [
    "#### Convert the following"
   ]
  },
  {
   "cell_type": "code",
   "execution_count": 39,
   "id": "7660f817",
   "metadata": {},
   "outputs": [
    {
     "name": "stdout",
     "output_type": "stream",
     "text": [
      "22\n"
     ]
    }
   ],
   "source": [
    "#\"22.4\"\n",
    "print(int(float(\"22.4\")))"
   ]
  },
  {
   "cell_type": "code",
   "execution_count": 40,
   "id": "1b78d468",
   "metadata": {},
   "outputs": [
    {
     "name": "stdout",
     "output_type": "stream",
     "text": [
      "22\n"
     ]
    }
   ],
   "source": [
    "num = \"22.4\"\n",
    "convert_num = float(num)\n",
    "print(int(convert_num))"
   ]
  },
  {
   "cell_type": "code",
   "execution_count": 42,
   "id": "5904a6db",
   "metadata": {},
   "outputs": [
    {
     "name": "stdout",
     "output_type": "stream",
     "text": [
      "22\n",
      "(22+0j)\n"
     ]
    }
   ],
   "source": [
    "#\"22\"\n",
    "n1 = \"22\"\n",
    "con_n1 = int(n1)\n",
    "print(con_n1)\n",
    "complex_output = complex(con_n1)\n",
    "print(complex_output)"
   ]
  }
 ],
 "metadata": {
  "kernelspec": {
   "display_name": "Python 3",
   "language": "python",
   "name": "python3"
  },
  "language_info": {
   "codemirror_mode": {
    "name": "ipython",
    "version": 3
   },
   "file_extension": ".py",
   "mimetype": "text/x-python",
   "name": "python",
   "nbconvert_exporter": "python",
   "pygments_lexer": "ipython3",
   "version": "3.8.8"
  }
 },
 "nbformat": 4,
 "nbformat_minor": 5
}
