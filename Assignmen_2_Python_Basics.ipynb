{
 "cells": [
  {
   "cell_type": "markdown",
   "id": "e6bca45c",
   "metadata": {},
   "source": [
    "#### 1.What are the two values of the Boolean data type? How do you write them?"
   ]
  },
  {
   "cell_type": "markdown",
   "id": "2afa5cb7",
   "metadata": {},
   "source": [
    "Boolean data type is one of the built-in data types provided by python and Boolean represents the True and False"
   ]
  },
  {
   "cell_type": "code",
   "execution_count": 3,
   "id": "2e7ba17d",
   "metadata": {},
   "outputs": [
    {
     "name": "stdout",
     "output_type": "stream",
     "text": [
      "<class 'bool'>\n",
      "<class 'bool'>\n"
     ]
    }
   ],
   "source": [
    "a = True; b = False\n",
    "print(type(a))\n",
    "print(type(b))"
   ]
  },
  {
   "cell_type": "markdown",
   "id": "4e10f9a8",
   "metadata": {},
   "source": [
    "#### 2. What are the three different types of Boolean operators?"
   ]
  },
  {
   "cell_type": "markdown",
   "id": "e8f821a0",
   "metadata": {},
   "source": [
    "There are 3 types of Boolean Operators\n",
    "   1. AND Boolean Operator\n",
    "   2. OR Boolean Operator\n",
    "   3. NOT Boolean Opeartor"
   ]
  },
  {
   "cell_type": "markdown",
   "id": "412a9990",
   "metadata": {},
   "source": [
    "#### 3. Make a list of each Boolean operator's truth tables (i.e. every possible combination of Boolean values for the operator  and what it evaluate)."
   ]
  },
  {
   "cell_type": "markdown",
   "id": "f24156d7",
   "metadata": {},
   "source": [
    "1. AND Boolean Opeartor : It is similar to bitwise AND operator where the operator analyzes the expressions written on both sides and returns the output.\n",
    "\n",
    "   1. True and True  = True\n",
    "   2. True and False = False\n",
    "   3. False and True = False\n",
    "   4. False and False = False"
   ]
  },
  {
   "cell_type": "code",
   "execution_count": 5,
   "id": "f3fb0de9",
   "metadata": {},
   "outputs": [],
   "source": [
    "a = 10 ; b = 20"
   ]
  },
  {
   "cell_type": "code",
   "execution_count": 7,
   "id": "09baf522",
   "metadata": {},
   "outputs": [
    {
     "name": "stdout",
     "output_type": "stream",
     "text": [
      "False\n"
     ]
    }
   ],
   "source": [
    "if a < b and b >= 30:\n",
    "    print(\"True\")\n",
    "else:\n",
    "    print(\"False\")"
   ]
  },
  {
   "cell_type": "markdown",
   "id": "82b9070d",
   "metadata": {},
   "source": [
    "2. OR Boolean Opeartor : The OR operator is similar to the OR bitwise operator. In the bitwise OR, we were focussing on either of the bit being  Here, we take into account if either of the expression is true or not.\n",
    "   1. True or True  = True\n",
    "   2. True or False = True\n",
    "   3. False or True = True\n",
    "   4. False or False = False"
   ]
  },
  {
   "cell_type": "code",
   "execution_count": 9,
   "id": "383d7d5f",
   "metadata": {},
   "outputs": [],
   "source": [
    "a = 10 ; b = 20"
   ]
  },
  {
   "cell_type": "code",
   "execution_count": 10,
   "id": "a54ad630",
   "metadata": {},
   "outputs": [
    {
     "name": "stdout",
     "output_type": "stream",
     "text": [
      "True\n"
     ]
    }
   ],
   "source": [
    "if a < b or b >= 20:\n",
    "    print(\"True\")\n",
    "else:\n",
    "    print(\"False\")"
   ]
  },
  {
   "cell_type": "markdown",
   "id": "5c554581",
   "metadata": {},
   "source": [
    "3. NOT Boolean Operator: Here it reverses the result of the boolean expression that follows the operator.\n",
    "    1. not(True) = False\n",
    "    2. not(False) = True "
   ]
  },
  {
   "cell_type": "code",
   "execution_count": 13,
   "id": "6797827c",
   "metadata": {},
   "outputs": [],
   "source": [
    "a = 10 ; b = 10"
   ]
  },
  {
   "cell_type": "code",
   "execution_count": 14,
   "id": "4384f7e6",
   "metadata": {},
   "outputs": [
    {
     "name": "stdout",
     "output_type": "stream",
     "text": [
      "False\n"
     ]
    }
   ],
   "source": [
    "if not(a == b):\n",
    "    print(\"True\")\n",
    "else:\n",
    "    print(\"False\")"
   ]
  },
  {
   "cell_type": "markdown",
   "id": "6e33f62b",
   "metadata": {},
   "source": [
    "#### 4. What are the values of the following expressions?"
   ]
  },
  {
   "cell_type": "code",
   "execution_count": 16,
   "id": "bd731141",
   "metadata": {},
   "outputs": [
    {
     "data": {
      "text/plain": [
       "False"
      ]
     },
     "execution_count": 16,
     "metadata": {},
     "output_type": "execute_result"
    }
   ],
   "source": [
    "(5 > 4) and (3 == 5) #True and False - False"
   ]
  },
  {
   "cell_type": "code",
   "execution_count": 17,
   "id": "340f493f",
   "metadata": {},
   "outputs": [
    {
     "data": {
      "text/plain": [
       "False"
      ]
     },
     "execution_count": 17,
     "metadata": {},
     "output_type": "execute_result"
    }
   ],
   "source": [
    "not (5 > 4)    #not(True) - False"
   ]
  },
  {
   "cell_type": "code",
   "execution_count": 18,
   "id": "c8a1c33a",
   "metadata": {},
   "outputs": [
    {
     "data": {
      "text/plain": [
       "True"
      ]
     },
     "execution_count": 18,
     "metadata": {},
     "output_type": "execute_result"
    }
   ],
   "source": [
    "(5 > 4) or (3 == 5)    #True or False - True"
   ]
  },
  {
   "cell_type": "code",
   "execution_count": 19,
   "id": "44e08785",
   "metadata": {},
   "outputs": [
    {
     "data": {
      "text/plain": [
       "False"
      ]
     },
     "execution_count": 19,
     "metadata": {},
     "output_type": "execute_result"
    }
   ],
   "source": [
    "not ((5 > 4) or (3 == 5))  # not(True) - False"
   ]
  },
  {
   "cell_type": "code",
   "execution_count": 20,
   "id": "9f4471ba",
   "metadata": {},
   "outputs": [
    {
     "data": {
      "text/plain": [
       "False"
      ]
     },
     "execution_count": 20,
     "metadata": {},
     "output_type": "execute_result"
    }
   ],
   "source": [
    "(True and True) and (True == False)  # True and False - False"
   ]
  },
  {
   "cell_type": "code",
   "execution_count": 21,
   "id": "c0261e44",
   "metadata": {},
   "outputs": [
    {
     "data": {
      "text/plain": [
       "True"
      ]
     },
     "execution_count": 21,
     "metadata": {},
     "output_type": "execute_result"
    }
   ],
   "source": [
    "(not False) or (not True)  # True or False - True"
   ]
  },
  {
   "cell_type": "markdown",
   "id": "60d33461",
   "metadata": {},
   "source": [
    "#### 5. What are the six comparison operators?"
   ]
  },
  {
   "cell_type": "markdown",
   "id": "1b18931b",
   "metadata": {},
   "source": [
    "Comparision operators are used to compare values. It is either returns True or False.\n",
    "1. Less than ( < )\n",
    "2. Less than or equal to (<=)\n",
    "3. Greater than (>)\n",
    "4. Greater than or equal to (>=)\n",
    "5. Equal to ( == )\n",
    "6. Not equal to ( != )"
   ]
  },
  {
   "cell_type": "code",
   "execution_count": 22,
   "id": "7523b301",
   "metadata": {},
   "outputs": [
    {
     "data": {
      "text/plain": [
       "True"
      ]
     },
     "execution_count": 22,
     "metadata": {},
     "output_type": "execute_result"
    }
   ],
   "source": [
    "10 < 20     #less than"
   ]
  },
  {
   "cell_type": "code",
   "execution_count": 23,
   "id": "e8281c43",
   "metadata": {},
   "outputs": [
    {
     "data": {
      "text/plain": [
       "True"
      ]
     },
     "execution_count": 23,
     "metadata": {},
     "output_type": "execute_result"
    }
   ],
   "source": [
    "10 <= 20    #less than and equal to"
   ]
  },
  {
   "cell_type": "code",
   "execution_count": 24,
   "id": "b65f44a8",
   "metadata": {},
   "outputs": [
    {
     "data": {
      "text/plain": [
       "False"
      ]
     },
     "execution_count": 24,
     "metadata": {},
     "output_type": "execute_result"
    }
   ],
   "source": [
    "10 > 20      #Greater than"
   ]
  },
  {
   "cell_type": "code",
   "execution_count": 25,
   "id": "d832dd33",
   "metadata": {},
   "outputs": [
    {
     "data": {
      "text/plain": [
       "False"
      ]
     },
     "execution_count": 25,
     "metadata": {},
     "output_type": "execute_result"
    }
   ],
   "source": [
    "10 >= 20       #Greater than or equal to"
   ]
  },
  {
   "cell_type": "code",
   "execution_count": 26,
   "id": "676e71e9",
   "metadata": {},
   "outputs": [
    {
     "data": {
      "text/plain": [
       "False"
      ]
     },
     "execution_count": 26,
     "metadata": {},
     "output_type": "execute_result"
    }
   ],
   "source": [
    "10 == 20        #Equal to"
   ]
  },
  {
   "cell_type": "code",
   "execution_count": 28,
   "id": "1f823b17",
   "metadata": {},
   "outputs": [
    {
     "data": {
      "text/plain": [
       "True"
      ]
     },
     "execution_count": 28,
     "metadata": {},
     "output_type": "execute_result"
    }
   ],
   "source": [
    "10 != 20       #Not equal"
   ]
  },
  {
   "cell_type": "markdown",
   "id": "de9a739e",
   "metadata": {},
   "source": [
    "#### 6. How do you tell the difference between the equal to and assignment operators?Describe a condition and when you would use one."
   ]
  },
  {
   "cell_type": "markdown",
   "id": "43f581ea",
   "metadata": {},
   "source": [
    "Equal to Operator(==) : They are used in python to check whether Value is equal to/ not equal to Variable. It is returns 'True' if value is equal to variable and 'False' if value is not equal to variable.\n",
    "\n",
    "Assignment Operator: They are used in python to assign values to variables.\n",
    "\n",
    "For Ex : a = 5 is a simple assignment opeartor that assign the value 5 on the right to the variable"
   ]
  },
  {
   "cell_type": "code",
   "execution_count": 35,
   "id": "627ae530",
   "metadata": {},
   "outputs": [],
   "source": [
    "a = 10"
   ]
  },
  {
   "cell_type": "code",
   "execution_count": 36,
   "id": "3b2ff1d5",
   "metadata": {},
   "outputs": [
    {
     "data": {
      "text/plain": [
       "True"
      ]
     },
     "execution_count": 36,
     "metadata": {},
     "output_type": "execute_result"
    }
   ],
   "source": [
    "a == 10"
   ]
  },
  {
   "cell_type": "code",
   "execution_count": 30,
   "id": "5b8a06bf",
   "metadata": {},
   "outputs": [],
   "source": [
    "a = 10"
   ]
  },
  {
   "cell_type": "code",
   "execution_count": 31,
   "id": "80a42a2f",
   "metadata": {},
   "outputs": [],
   "source": [
    "a += 10"
   ]
  },
  {
   "cell_type": "code",
   "execution_count": 32,
   "id": "13c3a2e4",
   "metadata": {},
   "outputs": [
    {
     "data": {
      "text/plain": [
       "20"
      ]
     },
     "execution_count": 32,
     "metadata": {},
     "output_type": "execute_result"
    }
   ],
   "source": [
    "a"
   ]
  },
  {
   "cell_type": "code",
   "execution_count": 33,
   "id": "8c4151c0",
   "metadata": {},
   "outputs": [],
   "source": [
    "a = 10\n",
    "a -= 10"
   ]
  },
  {
   "cell_type": "code",
   "execution_count": 34,
   "id": "7c6c0936",
   "metadata": {},
   "outputs": [
    {
     "data": {
      "text/plain": [
       "0"
      ]
     },
     "execution_count": 34,
     "metadata": {},
     "output_type": "execute_result"
    }
   ],
   "source": [
    "a"
   ]
  },
  {
   "cell_type": "markdown",
   "id": "f4197ec4",
   "metadata": {},
   "source": [
    "#### 7. Identify the three blocks in this code:"
   ]
  },
  {
   "cell_type": "markdown",
   "id": "40e59bfb",
   "metadata": {},
   "source": [
    "    spam = 0\n",
    "    if spam == 10:  # 1. Here 0 == 10 - False\n",
    "    print('eggs')\n",
    "    if spam > 5:    # 2. Here 0 > 5 - False\n",
    "    print('bacon')\n",
    "    else:           # 3. Since else statement is used, we need to print below 3 statements\n",
    "    print('ham')\n",
    "    print('spam')\n",
    "    print('spam')\n"
   ]
  },
  {
   "cell_type": "code",
   "execution_count": 39,
   "id": "2942f61b",
   "metadata": {},
   "outputs": [
    {
     "name": "stdout",
     "output_type": "stream",
     "text": [
      "ham\n",
      "spam\n",
      "spam\n"
     ]
    }
   ],
   "source": [
    "spam = 0\n",
    "if spam == 10:\n",
    "    print('eggs')\n",
    "elif spam > 5:\n",
    "    print('bacon')\n",
    "else:\n",
    "    print('ham')\n",
    "    print('spam')\n",
    "    print('spam')"
   ]
  },
  {
   "cell_type": "markdown",
   "id": "ac3c46b0",
   "metadata": {},
   "source": [
    "#### 8. Write code that prints Hello if 1 is stored in spam, prints Howdy if 2 is stored in spam, and prints Greetings! if anything else is stored in spam."
   ]
  },
  {
   "cell_type": "code",
   "execution_count": 40,
   "id": "5643087f",
   "metadata": {},
   "outputs": [
    {
     "name": "stdout",
     "output_type": "stream",
     "text": [
      "Enter a Integer Number : 1\n",
      "Hello\n"
     ]
    }
   ],
   "source": [
    "spam = int(input(\"Enter a Integer Number : \"))\n",
    "\n",
    "if spam == 1:\n",
    "    print(\"Hello\")\n",
    "elif spam == 2:\n",
    "    print(\"Howdy\")\n",
    "else:\n",
    "    print(\"Greeting!\")"
   ]
  },
  {
   "cell_type": "code",
   "execution_count": 41,
   "id": "69e3aadd",
   "metadata": {},
   "outputs": [
    {
     "name": "stdout",
     "output_type": "stream",
     "text": [
      "Enter a Integer Number : 2\n",
      "Howdy\n"
     ]
    }
   ],
   "source": [
    "spam = int(input(\"Enter a Integer Number : \"))\n",
    "\n",
    "if spam == 1:\n",
    "    print(\"Hello\")\n",
    "elif spam == 2:\n",
    "    print(\"Howdy\")\n",
    "else:\n",
    "    print(\"Greeting!\")"
   ]
  },
  {
   "cell_type": "code",
   "execution_count": 43,
   "id": "367a1826",
   "metadata": {},
   "outputs": [
    {
     "name": "stdout",
     "output_type": "stream",
     "text": [
      "Enter a Integer Number : 5\n",
      "Greeting!\n"
     ]
    }
   ],
   "source": [
    "spam = int(input(\"Enter a Integer Number : \"))\n",
    "\n",
    "if spam == 1:\n",
    "    print(\"Hello\")\n",
    "elif spam == 2:\n",
    "    print(\"Howdy\")\n",
    "else:\n",
    "    print(\"Greeting!\")"
   ]
  },
  {
   "cell_type": "code",
   "execution_count": null,
   "id": "c1027f66",
   "metadata": {},
   "outputs": [],
   "source": []
  },
  {
   "cell_type": "code",
   "execution_count": null,
   "id": "cc2e67b6",
   "metadata": {},
   "outputs": [],
   "source": []
  }
 ],
 "metadata": {
  "kernelspec": {
   "display_name": "Python 3",
   "language": "python",
   "name": "python3"
  },
  "language_info": {
   "codemirror_mode": {
    "name": "ipython",
    "version": 3
   },
   "file_extension": ".py",
   "mimetype": "text/x-python",
   "name": "python",
   "nbconvert_exporter": "python",
   "pygments_lexer": "ipython3",
   "version": "3.8.8"
  }
 },
 "nbformat": 4,
 "nbformat_minor": 5
}
