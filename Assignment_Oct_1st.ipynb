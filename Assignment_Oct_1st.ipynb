{
 "cells": [
  {
   "cell_type": "markdown",
   "id": "bc90d391",
   "metadata": {},
   "source": [
    "#### 1. What is indentation error? Why indentation is important? Give one simple example?"
   ]
  },
  {
   "cell_type": "markdown",
   "id": "b79a738b",
   "metadata": {},
   "source": [
    "The Indentation error is due to tabs or spaces not placed properly and whenever ny missing spaces between the code, you will face this error as Python is a procedural language\n",
    "\n",
    "1. Indentation represents 4 whitespaces at the beginining of a code line and used to indicate the block of code.\n",
    "2. Usually in other languages like C,C++,Java uses {} to define a block of code."
   ]
  },
  {
   "cell_type": "code",
   "execution_count": 3,
   "id": "4445c226",
   "metadata": {},
   "outputs": [
    {
     "ename": "IndentationError",
     "evalue": "expected an indented block (<ipython-input-3-428b7360a158>, line 2)",
     "output_type": "error",
     "traceback": [
      "\u001b[1;36m  File \u001b[1;32m\"<ipython-input-3-428b7360a158>\"\u001b[1;36m, line \u001b[1;32m2\u001b[0m\n\u001b[1;33m    if i % 2 == 0:\u001b[0m\n\u001b[1;37m    ^\u001b[0m\n\u001b[1;31mIndentationError\u001b[0m\u001b[1;31m:\u001b[0m expected an indented block\n"
     ]
    }
   ],
   "source": [
    "for i in range(10):  #Error\n",
    "if i % 2 == 0:\n",
    "print(i)\n"
   ]
  },
  {
   "cell_type": "code",
   "execution_count": 4,
   "id": "446fe406",
   "metadata": {},
   "outputs": [
    {
     "ename": "IndentationError",
     "evalue": "expected an indented block (<ipython-input-4-b34bd4409b59>, line 3)",
     "output_type": "error",
     "traceback": [
      "\u001b[1;36m  File \u001b[1;32m\"<ipython-input-4-b34bd4409b59>\"\u001b[1;36m, line \u001b[1;32m3\u001b[0m\n\u001b[1;33m    print(i)\u001b[0m\n\u001b[1;37m    ^\u001b[0m\n\u001b[1;31mIndentationError\u001b[0m\u001b[1;31m:\u001b[0m expected an indented block\n"
     ]
    }
   ],
   "source": [
    "for i in range(10):  #Error\n",
    "    if i % 2 == 0:\n",
    "    print(i)"
   ]
  },
  {
   "cell_type": "code",
   "execution_count": 5,
   "id": "93ca271b",
   "metadata": {},
   "outputs": [
    {
     "name": "stdout",
     "output_type": "stream",
     "text": [
      "0\n",
      "2\n",
      "4\n",
      "6\n",
      "8\n"
     ]
    }
   ],
   "source": [
    "for i in range(10):  #Error\n",
    "    if i % 2 == 0:\n",
    "        print(i)"
   ]
  },
  {
   "cell_type": "markdown",
   "id": "f7effe7b",
   "metadata": {},
   "source": [
    "#### 2. Correct the following code and write the comment where you made the correction?"
   ]
  },
  {
   "cell_type": "code",
   "execution_count": 6,
   "id": "1463e118",
   "metadata": {},
   "outputs": [
    {
     "name": "stdout",
     "output_type": "stream",
     "text": [
      "Hey friend, is class started?: [0-False/1-True]0\n",
      "Since class started...\n",
      "Lets concentrate\n"
     ]
    }
   ],
   "source": [
    "class_started = bool(input(\"Hey friend, is class started?: [0-False/1-True]\"))  #int\n",
    "\n",
    "if class_started:\n",
    "   print(\"Since class started...\")\n",
    "   print(\"Lets concentrate\")\n",
    "else:\n",
    "   print(\"Since class is not started...\")\n",
    "   print(\"let's revise\")    "
   ]
  },
  {
   "cell_type": "code",
   "execution_count": 7,
   "id": "f3c7395d",
   "metadata": {},
   "outputs": [
    {
     "name": "stdout",
     "output_type": "stream",
     "text": [
      "Hey friend, is class started?: [0-False/1-True]0\n",
      "Since class is not started...\n",
      "let's revise\n"
     ]
    }
   ],
   "source": [
    "class_started = bool(int(input(\"Hey friend, is class started?: [0-False/1-True]\")))  #convert initially str to int and\n",
    "                                                                                    # int to bool\n",
    "if class_started:\n",
    "   print(\"Since class started...\")\n",
    "   print(\"Lets concentrate\")\n",
    "else:\n",
    "   print(\"Since class is not started...\")\n",
    "   print(\"let's revise\")    "
   ]
  },
  {
   "cell_type": "markdown",
   "id": "a1097b2d",
   "metadata": {},
   "source": [
    "#### 3.Use if else condition to verify that dataype of input() method in python is always string."
   ]
  },
  {
   "cell_type": "code",
   "execution_count": 30,
   "id": "d2740926",
   "metadata": {},
   "outputs": [
    {
     "name": "stdout",
     "output_type": "stream",
     "text": [
      "Enter a  string : 2\n",
      "<class 'str'>\n",
      "Given Input2 is String datatype\n"
     ]
    }
   ],
   "source": [
    "input1 = input(\"Enter a  string : \") #Even if we give int 2 as input we would obtain result as str becoz of input function\n",
    "print(type(input1))\n",
    "if isinstance(input1,str):\n",
    "    print(f\"Given Input {input1} is String datatype\")\n",
    "else:\n",
    "    print(f\"Given Input {input1} is different datatype\")"
   ]
  },
  {
   "cell_type": "code",
   "execution_count": 31,
   "id": "ff345e4c",
   "metadata": {},
   "outputs": [
    {
     "name": "stdout",
     "output_type": "stream",
     "text": [
      "Enter a  string : 2.0\n",
      "<class 'str'>\n",
      "Given Input 2.0 is String datatype\n"
     ]
    }
   ],
   "source": [
    "input1 = input(\"Enter a  string : \")\n",
    "print(type(input1))\n",
    "if isinstance(input1,str):\n",
    "    print(f\"Given Input {input1} is String datatype\")\n",
    "else:\n",
    "    print(f\"Given Input {input1} is different datatype\")"
   ]
  },
  {
   "cell_type": "code",
   "execution_count": 27,
   "id": "1b2864dc",
   "metadata": {},
   "outputs": [
    {
     "name": "stdout",
     "output_type": "stream",
     "text": [
      "Enter a  string : 2\n",
      "<class 'int'>\n",
      "Given Input 2 is different datatype\n"
     ]
    }
   ],
   "source": [
    "input1 = int(input(\"Enter a  string : \")) #converting str into int\n",
    "print(type(input1))\n",
    "if isinstance(input1,str):\n",
    "    print(\"Given Input is String datatype\")\n",
    "else:\n",
    "    print(f\"Given Input {input1} is different datatype\")"
   ]
  },
  {
   "cell_type": "markdown",
   "id": "047734a8",
   "metadata": {},
   "source": [
    "#### 4.Take 3 variables and assign integer values to them. Find the largest variable, by only using the if and else conditions."
   ]
  },
  {
   "cell_type": "code",
   "execution_count": 36,
   "id": "3adc62ff",
   "metadata": {},
   "outputs": [
    {
     "name": "stdout",
     "output_type": "stream",
     "text": [
      "Enter the first number : 5\n",
      "Enter the second number : 10\n",
      "Enter the third number : 3\n",
      "The Number B : 10 is largest among these numbers 5 & 3\n"
     ]
    }
   ],
   "source": [
    "A = int(input(\"Enter the first number : \"))\n",
    "B = int(input(\"Enter the second number : \"))\n",
    "C = int(input(\"Enter the third number : \"))\n",
    "\n",
    "if A >= B and A >= C:\n",
    "    print(f\"The Number A : {A} is largest among these numbers {B} & {C}\")\n",
    "elif B >= A and B >= C:\n",
    "    print(f\"The Number B : {B} is largest among these numbers {A} & {C}\")\n",
    "else:\n",
    "    print(f\"The Number B : {C} is largest among these numbers {A} & {B}\")"
   ]
  },
  {
   "cell_type": "markdown",
   "id": "3ef2bc5a",
   "metadata": {},
   "source": [
    "#### 4.What would be the solution? True or False"
   ]
  },
  {
   "cell_type": "code",
   "execution_count": 38,
   "id": "0ce8bff6",
   "metadata": {},
   "outputs": [],
   "source": [
    "# not(not(False) or not(True))\n",
    "# not(True or False)\n",
    "# not(True)\n",
    "# False"
   ]
  },
  {
   "cell_type": "code",
   "execution_count": 39,
   "id": "c07743f7",
   "metadata": {},
   "outputs": [
    {
     "name": "stdout",
     "output_type": "stream",
     "text": [
      "False\n"
     ]
    }
   ],
   "source": [
    "a = 6\n",
    "b = 10\n",
    "print( not ( not a == 10 or not b == 10) )"
   ]
  },
  {
   "cell_type": "markdown",
   "id": "c503b2d9",
   "metadata": {},
   "source": [
    "#### 5.Find the answer as well as find out the reason behind the result? "
   ]
  },
  {
   "cell_type": "code",
   "execution_count": 40,
   "id": "85fb8dca",
   "metadata": {},
   "outputs": [
    {
     "name": "stdout",
     "output_type": "stream",
     "text": [
      "False\n"
     ]
    }
   ],
   "source": [
    "A = 5.0            # A = 5.0 and B = 10/2 = 5.0\n",
    "B = 10/2           # Since A is float and B is float \n",
    "print(A is B)      # floating numbers and complex numbers usually stores different id's\n",
    "                   # Both A and B are pointing two different objects because of memory allocation"
   ]
  },
  {
   "cell_type": "code",
   "execution_count": 42,
   "id": "e942edb4",
   "metadata": {},
   "outputs": [
    {
     "name": "stdout",
     "output_type": "stream",
     "text": [
      "False\n"
     ]
    }
   ],
   "source": [
    "A = 5.0\n",
    "B = int(10/2)      # Here B = 5 and A = 5.0\n",
    "print(A is B)      # Both A and B are pointing two different objects because of memory allocation "
   ]
  },
  {
   "cell_type": "code",
   "execution_count": 43,
   "id": "29ebabca",
   "metadata": {},
   "outputs": [
    {
     "name": "stdout",
     "output_type": "stream",
     "text": [
      "False\n"
     ]
    }
   ],
   "source": [
    "A = 5.0             # A = 5.0 and B = 5.0\n",
    "B = float(10/2)     # floating numbers and complex numbers usually stores different id's              \n",
    "print(A is B)       # Both A and B are pointing two different objects because of memory allocation"
   ]
  },
  {
   "cell_type": "markdown",
   "id": "2025a2f0",
   "metadata": {},
   "source": [
    "#### 6. Write a program that asks the user to enter a number. You should print out a message to the user, either “That number is divisible by either 3 or 5”, or “That number is not divisible by either 3 or 5”. Be sure to consider the data type of the input you are taking in from the user. Use a single if/else block to solve this problem."
   ]
  },
  {
   "cell_type": "code",
   "execution_count": 51,
   "id": "dfba9789",
   "metadata": {},
   "outputs": [
    {
     "name": "stdout",
     "output_type": "stream",
     "text": [
      "Enter a integer number : 25\n",
      "The Number '25' is divisible by 5 or 3\n"
     ]
    }
   ],
   "source": [
    "user_input = int(input(\"Enter a integer number : \"))\n",
    "var_a = 5\n",
    "var_b = 3\n",
    "\n",
    "if (user_input % var_a == 0) or (user_input % var_b == 0):\n",
    "    print(f\"The Number '{user_input}' is divisible by {var_a} or {var_b}\")\n",
    "else:\n",
    "    print(f\"The Number {user_input} is not divisible by {var_a} or {var_b}\")"
   ]
  },
  {
   "cell_type": "code",
   "execution_count": 48,
   "id": "84f46c95",
   "metadata": {},
   "outputs": [
    {
     "name": "stdout",
     "output_type": "stream",
     "text": [
      "Enter a integer number : 23\n",
      "The Number 23 is not divisible by 5 or 3\n"
     ]
    }
   ],
   "source": [
    "user_input = int(input(\"Enter a integer number : \"))\n",
    "var_a = 5\n",
    "var_b = 3\n",
    "\n",
    "if (user_input % var_a == 0) or (user_input % var_b == 0):\n",
    "    print(f\"The Number '{user_input}' is divisible by {var_a} or {var_b}\")\n",
    "else:\n",
    "    print(f\"The Number {user_input} is not divisible by {var_a} or {var_b}\")"
   ]
  },
  {
   "cell_type": "code",
   "execution_count": 56,
   "id": "97eee76d",
   "metadata": {},
   "outputs": [
    {
     "name": "stdout",
     "output_type": "stream",
     "text": [
      "Enter a Number : 25.3\n",
      "The Number '25' is divisible by 5 or 3\n"
     ]
    }
   ],
   "source": [
    "user_input = float(input(\"Enter a Number : \"))  #This one is considering float datatype as user input\n",
    "user_input = int(user_input)\n",
    "var_a = 5\n",
    "var_b = 3\n",
    "\n",
    "if (int(user_input) % var_a == 0) or (int(user_input) % var_b == 0):\n",
    "    print(f\"The Number '{user_input}' is divisible by {var_a} or {var_b}\")\n",
    "else:\n",
    "    print(f\"The Number {user_input} is not divisible by {var_a} or {var_b}\")"
   ]
  },
  {
   "cell_type": "markdown",
   "id": "e9726ffa",
   "metadata": {},
   "source": [
    "#### 7.Take user input for length and width. Then calculate the area of rectangle. Also print as per length and width whether its a square of rectangle."
   ]
  },
  {
   "cell_type": "code",
   "execution_count": 61,
   "id": "3f3f2191",
   "metadata": {},
   "outputs": [],
   "source": [
    "import math"
   ]
  },
  {
   "cell_type": "code",
   "execution_count": 63,
   "id": "c9154d57",
   "metadata": {},
   "outputs": [
    {
     "data": {
      "text/plain": [
       "8.0"
      ]
     },
     "execution_count": 63,
     "metadata": {},
     "output_type": "execute_result"
    }
   ],
   "source": [
    "math.sqrt(64)  #In order to find the square root of number we can use built in function sqrt"
   ]
  },
  {
   "cell_type": "code",
   "execution_count": 64,
   "id": "f0a3aa02",
   "metadata": {},
   "outputs": [
    {
     "data": {
      "text/plain": [
       "8"
      ]
     },
     "execution_count": 64,
     "metadata": {},
     "output_type": "execute_result"
    }
   ],
   "source": [
    "int(math.sqrt(64))"
   ]
  },
  {
   "cell_type": "code",
   "execution_count": 77,
   "id": "a5afe428",
   "metadata": {},
   "outputs": [
    {
     "name": "stdout",
     "output_type": "stream",
     "text": [
      "10\n",
      "20\n",
      "The Length of rectangle  : 10.0 m\n",
      "The Width of rectangle  : 20.0 m\n",
      "Area of rectangle is 200.0 sq.m \n",
      "The Area 200.0 sq.m is rectangle\n"
     ]
    }
   ],
   "source": [
    "Length = float(input())\n",
    "width = float(input())\n",
    "print(f\"The Length of rectangle  : {Length} m\")\n",
    "print(f\"The Width of rectangle  : {width} m\")\n",
    "Area = Length * width\n",
    "print(f\"Area of rectangle is {Area} sq.m \")\n",
    "if (Area) > 0: #corner case to check whether number is greater than 0\n",
    "    result = (math.sqrt(Area))\n",
    "    if result*result == int(Area):\n",
    "        print(f\"The Area {Area} sq.m is square\")\n",
    "    else:\n",
    "        print(f\"The Area {Area} sq.m is rectangle\")"
   ]
  },
  {
   "cell_type": "code",
   "execution_count": 78,
   "id": "1d488a86",
   "metadata": {},
   "outputs": [
    {
     "name": "stdout",
     "output_type": "stream",
     "text": [
      "20\n",
      "20\n",
      "The Length of rectangle  : 20.0 m\n",
      "The Width of rectangle  : 20.0 m\n",
      "Area of rectangle is 400.0 sq.m \n",
      "The Area 400.0 sq.m is square\n"
     ]
    }
   ],
   "source": [
    "Length = float(input())\n",
    "width = float(input())\n",
    "print(f\"The Length of rectangle  : {Length} m\")\n",
    "print(f\"The Width of rectangle  : {width} m\")\n",
    "Area = Length * width\n",
    "print(f\"Area of rectangle is {Area} sq.m \")\n",
    "if (Area) > 0: #corner case to check whether number is greater than 0\n",
    "    result = (math.sqrt(Area))\n",
    "    if result*result == int(Area):\n",
    "        print(f\"The Area {Area} sq.m is square\")\n",
    "    else:\n",
    "        print(f\"The Area {Area} sq.m is rectangle\")"
   ]
  },
  {
   "cell_type": "markdown",
   "id": "50286f84",
   "metadata": {},
   "source": [
    "#### 8.Take two variable radius_1 and radius_2 and calculate the area of circle_1 and circle_2. Also print which circle has large area. If area is equal then print area is equal."
   ]
  },
  {
   "cell_type": "code",
   "execution_count": 80,
   "id": "7a8823a6",
   "metadata": {},
   "outputs": [
    {
     "name": "stdout",
     "output_type": "stream",
     "text": [
      "7\n",
      "5\n",
      "The Radius of Circle 1 : 7.0 m\n",
      "The Radius of Circle 2 : 5.0 m\n",
      "The Area of Circle 1 is 153.94 sq.m\n",
      "The Area of Circle 1 is 78.54 sq.m\n",
      "The Circle 1 (153.94) has Larger Area than Circle 2 (78.54)\n"
     ]
    }
   ],
   "source": [
    "radius_1 = float(input())\n",
    "radius_2 = float(input())\n",
    "print(f\"The Radius of Circle 1 : {radius_1} m\")\n",
    "print(f\"The Radius of Circle 2 : {radius_2} m\")\n",
    "Area_of_Circle_1 = round((math.pi)*(radius_1**2),2)\n",
    "Area_of_Circle_2 = round((math.pi)*(radius_2**2),2)\n",
    "print(f\"The Area of Circle 1 is {Area_of_Circle_1} sq.m\")\n",
    "print(f\"The Area of Circle 1 is {Area_of_Circle_2} sq.m\")\n",
    "if Area_of_Circle_1 > Area_of_Circle_2:\n",
    "    print(f\"The Circle 1 ({Area_of_Circle_1}) has Larger Area than Circle 2 ({Area_of_Circle_2})\")\n",
    "elif Area_of_Circle_1 < Area_of_Circle_2 :\n",
    "    print(f\"The Circle 2 ({Area_of_Circle_2}) has Larger Area than Circle 1 ({Area_of_Circle_1})\")\n",
    "else:\n",
    "    Print(f\"The Circle 1 and Circle 2 have equal Area\")"
   ]
  },
  {
   "cell_type": "code",
   "execution_count": 81,
   "id": "4b356274",
   "metadata": {},
   "outputs": [
    {
     "name": "stdout",
     "output_type": "stream",
     "text": [
      "15\n",
      "17\n",
      "The Radius of Circle 1 : 15.0 m\n",
      "The Radius of Circle 2 : 17.0 m\n",
      "The Area of Circle 1 is 706.86 sq.m\n",
      "The Area of Circle 1 is 907.92 sq.m\n",
      "The Circle 2 (907.92) has Larger Area than Circle 1 (706.86)\n"
     ]
    }
   ],
   "source": [
    "radius_1 = float(input())\n",
    "radius_2 = float(input())\n",
    "print(f\"The Radius of Circle 1 : {radius_1} m\")\n",
    "print(f\"The Radius of Circle 2 : {radius_2} m\")\n",
    "Area_of_Circle_1 = round((math.pi)*(radius_1**2),2)\n",
    "Area_of_Circle_2 = round((math.pi)*(radius_2**2),2)\n",
    "print(f\"The Area of Circle 1 is {Area_of_Circle_1} sq.m\")\n",
    "print(f\"The Area of Circle 1 is {Area_of_Circle_2} sq.m\")\n",
    "if Area_of_Circle_1 > Area_of_Circle_2:\n",
    "    print(f\"The Circle 1 ({Area_of_Circle_1}) has Larger Area than Circle 2 ({Area_of_Circle_2})\")\n",
    "elif Area_of_Circle_1 < Area_of_Circle_2 :\n",
    "    print(f\"The Circle 2 ({Area_of_Circle_2}) has Larger Area than Circle 1 ({Area_of_Circle_1})\")\n",
    "else:\n",
    "    Print(f\"The Circle 1 and Circle 2 have equal Area\")"
   ]
  },
  {
   "cell_type": "code",
   "execution_count": 84,
   "id": "0052a861",
   "metadata": {},
   "outputs": [
    {
     "name": "stdout",
     "output_type": "stream",
     "text": [
      "20\n",
      "20\n",
      "The Radius of Circle 1 : 20.0 m\n",
      "The Radius of Circle 2 : 20.0 m\n",
      "The Area of Circle 1 is 1256.64 sq.m\n",
      "The Area of Circle 1 is 1256.64 sq.m\n",
      "The Circle 1(1256.64) and Circle 2(1256.64) have equal Area\n"
     ]
    }
   ],
   "source": [
    "radius_1 = float(input())\n",
    "radius_2 = float(input())\n",
    "print(f\"The Radius of Circle 1 : {radius_1} m\")\n",
    "print(f\"The Radius of Circle 2 : {radius_2} m\")\n",
    "Area_of_Circle_1 = round((math.pi)*(radius_1**2),2)\n",
    "Area_of_Circle_2 = round((math.pi)*(radius_2**2),2)\n",
    "print(f\"The Area of Circle 1 is {Area_of_Circle_1} sq.m\")\n",
    "print(f\"The Area of Circle 1 is {Area_of_Circle_2} sq.m\")\n",
    "if Area_of_Circle_1 > Area_of_Circle_2:\n",
    "    print(f\"The Circle 1 ({Area_of_Circle_1}) has Larger Area than Circle 2 ({Area_of_Circle_2})\")\n",
    "elif Area_of_Circle_1 < Area_of_Circle_2 :\n",
    "    print(f\"The Circle 2 ({Area_of_Circle_2}) has Larger Area than Circle 1 ({Area_of_Circle_1})\")\n",
    "else:\n",
    "    print(f\"The Circle 1({Area_of_Circle_1}) and Circle 2({Area_of_Circle_2}) have equal Area\")"
   ]
  },
  {
   "cell_type": "markdown",
   "id": "367b7c01",
   "metadata": {},
   "source": [
    "#### 10.Check whether a year is leap year or not. Use nested if...else to solve this problem. A leap year is exactly divisible by 4 except for century years (years ending with 00). The century year is a leap year only if it is perfectly divisible by 400."
   ]
  },
  {
   "cell_type": "code",
   "execution_count": 85,
   "id": "bdaeb71f",
   "metadata": {},
   "outputs": [
    {
     "name": "stdout",
     "output_type": "stream",
     "text": [
      "Enter the Year : 2000\n",
      "Given Year 2000 is a leap year\n"
     ]
    }
   ],
   "source": [
    "year = int(input(\"Enter the Year : \"))\n",
    "\n",
    "if (year % 4 == 0): #If year is divisible by 4\n",
    "    if (year % 100 == 0): #check century year or not\n",
    "        if(year % 400 == 0): #inorder to counter 3 leap years in 400 years\n",
    "            print(f\"Given Year {year} is a leap year\")\n",
    "        else:\n",
    "            print(f\"Given Year {year} is not a leap year\")\n",
    "    else:         #If it is not century year then it is leap year\n",
    "        print(f\"Given year {year} is a leap year\")\n",
    "else:\n",
    "    print(f\"Given year {year} is not leap year\")"
   ]
  },
  {
   "cell_type": "code",
   "execution_count": 86,
   "id": "09b2ccd1",
   "metadata": {},
   "outputs": [
    {
     "name": "stdout",
     "output_type": "stream",
     "text": [
      "Enter the Year : 1700\n",
      "Given Year 1700 is not a leap year\n"
     ]
    }
   ],
   "source": [
    "year = int(input(\"Enter the Year : \"))\n",
    "\n",
    "if (year % 4 == 0): #If year is divisible by 4\n",
    "    if (year % 100 == 0): #check century year or not\n",
    "        if(year % 400 == 0): #inorder to counter 3 leap years in 400 years\n",
    "            print(f\"Given Year {year} is a leap year\")\n",
    "        else:\n",
    "            print(f\"Given Year {year} is not a leap year\")\n",
    "    else:         #If it is not century year then it is leap year\n",
    "        print(f\"Given year {year} is a leap year\")\n",
    "else:\n",
    "    print(f\"Given year {year} is not leap year\")"
   ]
  },
  {
   "cell_type": "code",
   "execution_count": 89,
   "id": "7a372e05",
   "metadata": {},
   "outputs": [
    {
     "name": "stdout",
     "output_type": "stream",
     "text": [
      "Enter the year : 2004\n",
      "Given Year 2004 is a leap year\n"
     ]
    }
   ],
   "source": [
    "#Alternative way to find leap year\n",
    "year1 = int(input(\"Enter the year : \"))\n",
    "\n",
    "if ((year1 % 4 == 0) and (year1 % 100 != 0) or (year1 % 400 == 0)):\n",
    "    print(f\"Given Year {year1} is a leap year\")\n",
    "else:\n",
    "    print(f\"Given Year is not leap year\")"
   ]
  },
  {
   "cell_type": "code",
   "execution_count": null,
   "id": "d4d7d5fc",
   "metadata": {},
   "outputs": [],
   "source": []
  },
  {
   "cell_type": "code",
   "execution_count": null,
   "id": "0644070f",
   "metadata": {},
   "outputs": [],
   "source": []
  },
  {
   "cell_type": "code",
   "execution_count": null,
   "id": "9e142558",
   "metadata": {},
   "outputs": [],
   "source": []
  }
 ],
 "metadata": {
  "kernelspec": {
   "display_name": "Python 3",
   "language": "python",
   "name": "python3"
  },
  "language_info": {
   "codemirror_mode": {
    "name": "ipython",
    "version": 3
   },
   "file_extension": ".py",
   "mimetype": "text/x-python",
   "name": "python",
   "nbconvert_exporter": "python",
   "pygments_lexer": "ipython3",
   "version": "3.8.8"
  }
 },
 "nbformat": 4,
 "nbformat_minor": 5
}
